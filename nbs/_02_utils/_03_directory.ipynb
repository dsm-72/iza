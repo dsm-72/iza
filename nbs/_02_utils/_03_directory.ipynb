{
 "cells": [
  {
   "attachments": {},
   "cell_type": "markdown",
   "metadata": {},
   "source": [
    "# Directory\n",
    "\n",
    "> directory class."
   ]
  },
  {
   "cell_type": "code",
   "execution_count": null,
   "metadata": {},
   "outputs": [],
   "source": [
    "#| default_exp utils.directory"
   ]
  },
  {
   "cell_type": "code",
   "execution_count": null,
   "metadata": {},
   "outputs": [],
   "source": [
    "#| hide\n",
    "from nbdev.showdoc import *"
   ]
  },
  {
   "cell_type": "code",
   "execution_count": 17,
   "metadata": {},
   "outputs": [],
   "source": [
    "#| export\n",
    "import os\n",
    "from pathlib import Path\n",
    "from dataclasses import dataclass, field, KW_ONLY\n",
    "from typing import Optional, List, ClassVar"
   ]
  },
  {
   "attachments": {},
   "cell_type": "markdown",
   "metadata": {},
   "source": [
    "### Directory Viewer"
   ]
  },
  {
   "attachments": {},
   "cell_type": "markdown",
   "metadata": {},
   "source": [
    "#### Directory"
   ]
  },
  {
   "cell_type": "code",
   "execution_count": null,
   "metadata": {},
   "outputs": [],
   "source": [
    "#| export \n",
    "@dataclass\n",
    "class Directory:\n",
    "    dirname: str\n",
    "\n",
    "    _: KW_ONLY\n",
    "    _SPACE : ClassVar[str] = '    '\n",
    "    _BRANCH: ClassVar[str] = '│   '    \n",
    "    _TEE   : ClassVar[str] = '├── '\n",
    "    _LAST  : ClassVar[str] = '└── '\n",
    "\n",
    "        \n",
    "    def make_tree(self, dirname:Path, prefix:str=''):\n",
    "        '''\n",
    "        A recursive generator, given a directory Path object\n",
    "        will yield a visual tree structure line by line\n",
    "        with each line prefixed by the same characters\n",
    "        Notes\n",
    "        -----\n",
    "        Adapted from https://stackoverflow.com/a/59109706/5623899\n",
    "        '''\n",
    "\n",
    "        contents = list(dirname.iterdir())\n",
    "        # NOTE: contents each get pointers that are ├── with a final └── :\n",
    "        pointers = [self._TEE] * (len(contents) - 1) + [self._LAST]\n",
    "        for pointer, path in zip(pointers, contents):\n",
    "            yield f'{prefix}{pointer}{path.name}'\n",
    "\n",
    "            # NOTE: extend the prefix and recurse:\n",
    "            if path.is_dir(): \n",
    "                # NOTE: space because last, └── , above so no more |\n",
    "                extension = self._BRANCH if pointer == self._TEE else self._SPACE \n",
    "                \n",
    "                yield from self.make_tree(path, prefix=f'{prefix}{extension}')\n",
    "\n",
    "    def get_tree_lines(self, dirname:Optional[str]=None) -> List[str]:\n",
    "        dirname = self.prepare_dirname(dirname)\n",
    "        tree = self.make_tree(dirname)\n",
    "        lines = [line for line in tree]\n",
    "        return lines\n",
    "\n",
    "    def make_tree_str(self, dirname:Optional[str]=None) -> str:\n",
    "        dirname = self.prepare_dirname(dirname)\n",
    "        lines = self.get_tree_lines(dirname)\n",
    "        tree_str = '\\n'.join([str(dirname), *lines])\n",
    "        return tree_str\n",
    "        \n",
    "    def prepare_dirname(self, dirname:Optional[str]=None) -> Path:\n",
    "        if dirname is None:\n",
    "            dirname = self.dirname\n",
    "\n",
    "        dirname = os.path.expanduser(dirname) \n",
    "        dirname = os.path.abspath(dirname) \n",
    "\n",
    "        if not isinstance(dirname, Path):\n",
    "            dirname = Path(dirname)\n",
    "\n",
    "        return dirname\n",
    "\n",
    "    def print(self, dirname:Optional[str]=None) -> None:\n",
    "        dirname = self.prepare_dirname(dirname)\n",
    "        tree_str = self.make_tree_str(dirname)\n",
    "        print(tree_str)\n",
    "        return\n",
    "\n",
    "    def __repr__(self):\n",
    "        dirname = self.dirname\n",
    "        dirname = self.prepare_dirname(dirname)\n",
    "        tree_str = self.make_tree_str(dirname)        \n",
    "        return tree_str        "
   ]
  },
  {
   "cell_type": "code",
   "execution_count": null,
   "metadata": {},
   "outputs": [],
   "source": [
    "#| hide\n",
    "import nbdev; nbdev.nbdev_export()"
   ]
  }
 ],
 "metadata": {
  "kernelspec": {
   "display_name": "python3",
   "language": "python",
   "name": "python3"
  }
 },
 "nbformat": 4,
 "nbformat_minor": 2
}
