{
 "cells": [
  {
   "attachments": {},
   "cell_type": "markdown",
   "metadata": {},
   "source": [
    "# Directory\n",
    "\n",
    "> directory class."
   ]
  },
  {
   "cell_type": "code",
   "execution_count": null,
   "metadata": {},
   "outputs": [],
   "source": [
    "#| default_exp utils.directory"
   ]
  },
  {
   "cell_type": "code",
   "execution_count": null,
   "metadata": {},
   "outputs": [],
   "source": [
    "#| hide\n",
    "from nbdev.showdoc import *"
   ]
  },
  {
   "cell_type": "code",
   "execution_count": 1,
   "metadata": {},
   "outputs": [],
   "source": [
    "#| export\n",
    "import os, pathlib \n",
    "from pathlib import Path\n",
    "from dataclasses import dataclass, field, KW_ONLY\n",
    "from typing import Optional, List, ClassVar, Any, TypeAlias, Callable\n",
    "from enum import StrEnum"
   ]
  },
  {
   "cell_type": "code",
   "execution_count": 2,
   "metadata": {},
   "outputs": [],
   "source": [
    "#| export\n",
    "from iza.types import (\n",
    "    PathLike, PathType,\n",
    "    DirectoryTreeStrings, TreeEntryFunc,\n",
    "    RichTree, RichText, RichConsole, RichProgress\n",
    ")\n",
    "from iza.static import EXT_PY\n",
    "\n",
    "#| export\n",
    "from iza.imp import RichImp\n",
    "from ipos.imp import is_mod, is_var_imp, Module, Imp"
   ]
  },
  {
   "cell_type": "code",
   "execution_count": null,
   "metadata": {},
   "outputs": [],
   "source": [
    "#| export\n",
    "try:    \n",
    "    from rich.tree import Tree\n",
    "    from rich.text import Text    \n",
    "    from rich.filesize import decimal\n",
    "    from rich import get_console\n",
    "    from rich.console import Console\n",
    "    from rich.progress import Progress\n",
    "\n",
    "except ImportError:\n",
    "    Tree = None\n",
    "    Text = None \n",
    "    Progress = None"
   ]
  },
  {
   "attachments": {},
   "cell_type": "markdown",
   "metadata": {},
   "source": [
    "### Directory Viewer"
   ]
  },
  {
   "attachments": {},
   "cell_type": "markdown",
   "metadata": {},
   "source": [
    "#### Default Functions"
   ]
  },
  {
   "attachments": {},
   "cell_type": "markdown",
   "metadata": {},
   "source": [
    "##### Init Tree"
   ]
  },
  {
   "cell_type": "code",
   "execution_count": null,
   "metadata": {},
   "outputs": [],
   "source": [
    "#| export\n",
    "def base_init_tree(dirname: str):\n",
    "    return None\n",
    "\n",
    "def rich_init_tree(dirname):\n",
    "    return Tree(f'[link file://{dirname}]{dirname}', guide_style='bold bright_blue')\n",
    "\n",
    "def init_tree(dirname):\n",
    "    try:\n",
    "        return rich_init_tree(dirname)\n",
    "    except:\n",
    "        return base_init_tree(dirname)"
   ]
  },
  {
   "attachments": {},
   "cell_type": "markdown",
   "metadata": {},
   "source": [
    "##### Walked Entry to Str"
   ]
  },
  {
   "cell_type": "code",
   "execution_count": null,
   "metadata": {},
   "outputs": [],
   "source": [
    "#| export\n",
    "def base_entry_fn(path:Path, prefix:str='', pointer:str='', suffix:str='') -> str:\n",
    "    name = path.name\n",
    "    return f'{prefix}{pointer}{name}{suffix}'\n",
    "\n",
    "def rich_entry_fn(path:Path, prefix:str='', pointer:str='', suffix:str='') -> str:\n",
    "    text = Text(path.name)\n",
    "    size = decimal(path.stat().st_size)\n",
    "    text.stylize(f'link file://{path}')\n",
    "    text.append(f' ({size})', 'cyan')\n",
    "    return text\n",
    "\n",
    "def entry_fn(path:Path, prefix:str='', pointer:str='', suffix:str='') -> str:\n",
    "    try:\n",
    "        return rich_entry_fn(path, prefix, pointer, suffix)\n",
    "    except:\n",
    "        return base_entry_fn(path, prefix, pointer, suffix)\n"
   ]
  },
  {
   "attachments": {},
   "cell_type": "markdown",
   "metadata": {},
   "source": [
    "#### Walk Function"
   ]
  },
  {
   "cell_type": "code",
   "execution_count": null,
   "metadata": {},
   "outputs": [],
   "source": [
    "#| export\n",
    "def walk_dir_tree(\n",
    "    dirname: PathLike, \n",
    "    prefix: str = '',\n",
    "    hidden: Optional[bool] = False, \n",
    "    tree: Optional[RichTree] = None,\n",
    "    entry_fn: TreeEntryFunc = entry_fn,\n",
    "):    \n",
    "    '''\n",
    "    A recursive generator, given a directory Path object\n",
    "    will yield a visual tree structure line by line\n",
    "    with each line prefixed by the same characters\n",
    "    Notes\n",
    "    -----\n",
    "    Adapted from https://stackoverflow.com/a/59109706/5623899\n",
    "    '''\n",
    "    # NOTE: sort_directory_first, to_abs_expanded, rich_file defined in _02_utils/_08_modules.ipynb\n",
    "    dirname = Path(to_abs_expanded(dirname))\n",
    "    contents = sorted(Path(dirname).iterdir(), key=sort_directory_first)\n",
    "    \n",
    "    SPACE, BRANCH, TEE, LAST = DirectoryTreeStrings\n",
    "    pointers = [TEE] * (len(contents) - 1) + [LAST]\n",
    "    \n",
    "    for pointer, path in zip(pointers, contents):\n",
    "        # Remove hidden files\n",
    "        if path.name.startswith('.') and not hidden:\n",
    "            continue\n",
    "        \n",
    "        name = entry_fn(path, prefix, pointer, suffix='')\n",
    "        yield name\n",
    "        \n",
    "        branch = None\n",
    "        if tree is not None:\n",
    "            branch = tree.add(entry_fn(path))\n",
    "    \n",
    "        if path.is_dir():\n",
    "            # NOTE: space because last, └── , above so no more |\n",
    "            extension = BRANCH if pointer == TEE else SPACE\n",
    "            yield from walk_dir_tree(path, prefix=f'{prefix}{extension}', hidden=hidden, tree=branch, entry_fn=entry_fn)"
   ]
  },
  {
   "attachments": {},
   "cell_type": "markdown",
   "metadata": {},
   "source": [
    "#### DirectoryTree\n",
    "walks through directory"
   ]
  },
  {
   "cell_type": "code",
   "execution_count": 128,
   "metadata": {},
   "outputs": [],
   "source": [
    "#| export\n",
    "@dataclass\n",
    "class DirectoryTree:\n",
    "    dirname: str\n",
    "    \n",
    "    hidden: Optional[bool] = False\n",
    "    entry_fn: Optional[TreeEntryFunc] = field(default=entry_fn)\n",
    "    tree: Optional[RichTree] = field(init=False, default=None)\n",
    "    \n",
    "    def __post_init__(self):\n",
    "        # NOTE: defined in _02_utils/_01_files.ipynb\n",
    "        self.dirname = Path(to_abs_expanded(self.dirname))\n",
    "        if self.tree is None:\n",
    "            self.tree = init_tree(self.dirname)\n",
    "\n",
    "    def tree_generator(self):\n",
    "        yield from walk_dir_tree(\n",
    "            self.dirname, hidden=self.hidden, \n",
    "            tree=self.tree, entry_fn=self.entry_fn\n",
    "        )\n",
    "        \n",
    "    def get_tree_lines(self) -> List[str]:        \n",
    "        tree_gen = self.tree_generator()\n",
    "        lines = [line for line in tree_gen]\n",
    "        return lines\n",
    "    \n",
    "    def make_tree_str(self) -> str:        \n",
    "        lines = self.get_tree_lines()\n",
    "        tree_str = '\\n'.join([str(self.dirname), *lines])\n",
    "        return tree_str\n",
    "   \n",
    "    def print(self) -> None:        \n",
    "        tree_str = self.make_tree_str()        \n",
    "        print(tree_str)\n",
    "        return\n",
    "\n",
    "    def __repr__(self):        \n",
    "        tree_str = self.make_tree_str()        \n",
    "        return tree_str  "
   ]
  },
  {
   "cell_type": "code",
   "execution_count": null,
   "metadata": {},
   "outputs": [],
   "source": [
    "#| export \n",
    "@dataclass\n",
    "class RichDirectory(DirectoryTree):\n",
    "    _: KW_ONLY\n",
    "    console: Optional[RichConsole] = field(default_factory=Console, init=True, repr=False)    \n",
    "    _imp: Imp = field(default_factory=RichImp, init=False, repr=False)\n",
    "    def __post_init__(self):\n",
    "        super().__post_init__()\n",
    "        self._imp = RichImp()\n",
    "    \n",
    "        if self.console is None and is_mod(self._imp._module):\n",
    "            self.console = get_console()\n",
    "\n",
    "    def print_rich(self) -> None:    \n",
    "        lines = self.get_tree_lines()\n",
    "        self.console.print(self.tree)"
   ]
  },
  {
   "cell_type": "code",
   "execution_count": null,
   "metadata": {},
   "outputs": [],
   "source": [
    "#| export \n",
    "@dataclass\n",
    "class Directory(DirectoryTree):\n",
    "    dirname: PathLike\n",
    "    pass"
   ]
  },
  {
   "cell_type": "code",
   "execution_count": null,
   "metadata": {},
   "outputs": [],
   "source": [
    "#| hide\n",
    "import nbdev; nbdev.nbdev_export()"
   ]
  }
 ],
 "metadata": {
  "kernelspec": {
   "display_name": "python3",
   "language": "python",
   "name": "python3"
  },
  "language_info": {
   "codemirror_mode": {
    "name": "ipython",
    "version": 3
   },
   "file_extension": ".py",
   "mimetype": "text/x-python",
   "name": "python",
   "nbconvert_exporter": "python",
   "pygments_lexer": "ipython3",
   "version": "3.11.0"
  }
 },
 "nbformat": 4,
 "nbformat_minor": 2
}
