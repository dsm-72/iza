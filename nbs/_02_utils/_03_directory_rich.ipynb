{
 "cells": [
  {
   "attachments": {},
   "cell_type": "markdown",
   "metadata": {},
   "source": [
    "# Directory\n",
    "\n",
    "> directory class."
   ]
  },
  {
   "cell_type": "code",
   "execution_count": null,
   "metadata": {},
   "outputs": [],
   "source": [
    "#| default_exp utils.directory"
   ]
  },
  {
   "cell_type": "code",
   "execution_count": null,
   "metadata": {},
   "outputs": [],
   "source": [
    "#| hide\n",
    "from nbdev.showdoc import *"
   ]
  },
  {
   "cell_type": "code",
   "execution_count": 113,
   "metadata": {},
   "outputs": [],
   "source": [
    "#| export\n",
    "import os, pathlib \n",
    "from pathlib import Path\n",
    "from dataclasses import dataclass, field, KW_ONLY\n",
    "from typing import Optional, List, ClassVar, Any, TypeAlias\n",
    "from enum import StrEnum"
   ]
  },
  {
   "cell_type": "code",
   "execution_count": 88,
   "metadata": {},
   "outputs": [],
   "source": [
    "#| export\n",
    "from iza.types import PathLike, PathType\n",
    "from iza.static import EXT_PY"
   ]
  },
  {
   "attachments": {},
   "cell_type": "markdown",
   "metadata": {},
   "source": [
    "### Directory Viewer"
   ]
  },
  {
   "attachments": {},
   "cell_type": "markdown",
   "metadata": {},
   "source": [
    "#### Directory"
   ]
  },
  {
   "cell_type": "code",
   "execution_count": 89,
   "metadata": {},
   "outputs": [],
   "source": [
    "#| export\n",
    "class DirectoryTreeStrings(StrEnum):\n",
    "    SPACE : ClassVar[str] = '    '\n",
    "    BRANCH: ClassVar[str] = '│   '    \n",
    "    TEE   : ClassVar[str] = '├── '\n",
    "    LAST  : ClassVar[str] = '└── '"
   ]
  },
  {
   "cell_type": "code",
   "execution_count": 90,
   "metadata": {},
   "outputs": [],
   "source": [
    "#| export\n",
    "class ExtensionIcons(StrEnum):\n",
    "    PY: ClassVar[str] = \"🐍\"\n",
    "\n",
    "    @classmethod    \n",
    "    def get(cls, path:PathLike):\n",
    "        if isinstance(path, str): \n",
    "            path = Path(path)\n",
    "            if path.suffix == EXT_PY:\n",
    "                return cls[EXT_PY.lstrip('.').upper()]\n",
    "    "
   ]
  },
  {
   "cell_type": "code",
   "execution_count": 114,
   "metadata": {},
   "outputs": [],
   "source": [
    "#| export\n",
    "try:    \n",
    "    from rich.tree import Tree\n",
    "    from rich.text import Text\n",
    "    from rich.markup import escape\n",
    "    from rich.filesize import decimal\n",
    "    from rich import get_console\n",
    "    from rich.console import Console\n",
    "    from rich.progress import Progress\n",
    "    TreeType = Tree\n",
    "    TextType = Text    \n",
    "    ConsoleType = Console\n",
    "    ProgressType = Progress\n",
    "\n",
    "    def rich_link_style(path:Path):\n",
    "        return f'link file://{path}'\n",
    "    \n",
    "    def rich_link_file(path: Path):\n",
    "        return f'[{rich_link_style(path)}]{escape(path.name)}[/]'\n",
    "    \n",
    "    def rich_file_size(path: Path):\n",
    "        size = path.stat().st_size\n",
    "        return decimal(size)\n",
    "    \n",
    "    def rich_file(path: Path):\n",
    "        size = rich_file_size(path)\n",
    "        text = Text(path.name)\n",
    "        text.stylize(rich_link_style(path))\n",
    "        text.append(f' ({size})', \"cyan\")\n",
    "        return text\n",
    "    \n",
    "except ImportError:\n",
    "    Tree = None\n",
    "    Text = None \n",
    "    TreeType = Any\n",
    "    TextType = Any\n",
    "    ConsoleType = Any\n",
    "    Progress = None\n",
    "    ProgressType = Any\n",
    "    \n",
    "    def rich_file(path: Path):\n",
    "        return path.name"
   ]
  },
  {
   "cell_type": "code",
   "execution_count": null,
   "metadata": {},
   "outputs": [],
   "source": [
    "#| export\n",
    "def dir_tree_entry(path:Path, pointer:Optional[str]='', prefix:Optional[str]='') -> str:\n",
    "    name = rich_file(path)\n",
    "    # NOTE: defined in _02_utils/_08_modules.ipynb\n",
    "    if is_rich_available():\n",
    "        return name\n",
    "    return f'{prefix}{pointer}{path.name}'\n",
    "\n",
    "#| export\n",
    "def try_init_rich_tree(dirname:PathLike) -> Optional[TreeType]:\n",
    "    if is_rich_available() and 'Tree' in globals():\n",
    "        return Tree(f'[link file://{dirname}]{dirname}', guide_style='bold bright_blue')\n",
    "    return None"
   ]
  },
  {
   "cell_type": "code",
   "execution_count": 127,
   "metadata": {},
   "outputs": [],
   "source": [
    "#| export\n",
    "def walk_dir_tree(\n",
    "    dirname: PathLike, prefix: str = '',\n",
    "    hidden: Optional[bool] = False, tree: Optional[TreeType] = None,\n",
    "):    \n",
    "    '''\n",
    "    A recursive generator, given a directory Path object\n",
    "    will yield a visual tree structure line by line\n",
    "    with each line prefixed by the same characters\n",
    "    Notes\n",
    "    -----\n",
    "    Adapted from https://stackoverflow.com/a/59109706/5623899\n",
    "    '''\n",
    "    # NOTE: sort_directory_first, to_abs_expanded, rich_file defined in _02_utils/_08_modules.ipynb\n",
    "    dirname = Path(to_abs_expanded(dirname))\n",
    "    contents = sorted(Path(dirname).iterdir(), key=sort_directory_first)\n",
    "    \n",
    "    SPACE, BRANCH, TEE, LAST = DirectoryTreeStrings\n",
    "    pointers = [TEE] * (len(contents) - 1) + [LAST]\n",
    "    \n",
    "    for pointer, path in zip(pointers, contents):\n",
    "        # Remove hidden files\n",
    "        if path.name.startswith('.') and not hidden:\n",
    "            continue\n",
    "        \n",
    "        name = dir_tree_entry(path, pointer, prefix)\n",
    "        branch = None\n",
    "        if tree is not None:\n",
    "            branch = tree.add(rich_file(path))\n",
    "        yield name\n",
    "\n",
    "    \n",
    "        if path.is_dir():\n",
    "            # NOTE: space because last, └── , above so no more |\n",
    "            extension = BRANCH if pointer == TEE else SPACE\n",
    "            yield from walk_dir_tree(path, prefix=f'{prefix}{extension}', hidden=hidden, tree=branch)"
   ]
  },
  {
   "cell_type": "code",
   "execution_count": 128,
   "metadata": {},
   "outputs": [],
   "source": [
    "#| export\n",
    "@dataclass\n",
    "class DirectoryTree:\n",
    "    dirname: str\n",
    "    hidden: Optional[bool] = False\n",
    "    def __post_init__(self):\n",
    "        # NOTE: defined in _02_utils/_01_files.ipynb\n",
    "        self.dirname = Path(to_abs_expanded(self.dirname))\n",
    "\n",
    "    def tree_generator(self, dirname: Optional[PathLike] = None):\n",
    "        dirname = getattr(self, 'dirname', dirname)\n",
    "        tree = getattr(self, 'tree', None)\n",
    "        yield from walk_dir_tree(self.dirname, prefix='', hidden=self.hidden, tree=tree)\n",
    "        self.tree = tree\n",
    "        \n",
    "    def get_tree_lines(self, dirname: Optional[PathLike] = None) -> List[str]:\n",
    "        dirname = getattr(self, 'dirname', dirname)\n",
    "        tree_gen = self.tree_generator(dirname)\n",
    "        lines = [line for line in tree_gen]\n",
    "        return lines"
   ]
  },
  {
   "cell_type": "code",
   "execution_count": null,
   "metadata": {},
   "outputs": [],
   "source": [
    "#| export\n",
    "@dataclass\n",
    "class RichTreeMixin(DirectoryTree):\n",
    "    console: Optional[ConsoleType] = field(default_factory=Console, init=False, repr=False)\n",
    "    tree: Optional[TreeType] = None\n",
    "    \n",
    "    def __post_init__(self):\n",
    "        super().__post_init__()\n",
    "        if self.console is None and is_rich_available():\n",
    "            self.console = get_console()\n",
    "\n",
    "        if self.tree is None:\n",
    "            self.tree = try_init_rich_tree(self.dirname)\n",
    "\n",
    "    def print_rich(self, dirname: Optional[str] = None, tree: Optional[TreeType] = None) -> None:\n",
    "        tree = getattr(self, 'tree', tree)\n",
    "        if tree is None:\n",
    "            self.tree = try_init_rich_tree(self.dirname)\n",
    "\n",
    "        lines = self.get_tree_lines(dirname)\n",
    "        self.console.print(self.tree)"
   ]
  },
  {
   "cell_type": "code",
   "execution_count": 25,
   "metadata": {},
   "outputs": [],
   "source": [
    "#| export \n",
    "@dataclass\n",
    "class Directory(RichTreeMixin):\n",
    "    dirname: str\n",
    "    \n",
    "    def __post_init__(self):\n",
    "        super().__post_init__()\n",
    "\n",
    "    def make_tree_str(self, dirname: Optional[PathLike] = None) -> str:\n",
    "        dirname = getattr(self, 'dirname', dirname)\n",
    "        lines = self.get_tree_lines(dirname)\n",
    "        tree_str = '\\n'.join([str(dirname), *lines])\n",
    "        return tree_str\n",
    "   \n",
    "    def print(self, dirname:Optional[str]=None) -> None:\n",
    "        dirname = self.prepare_dirname(dirname)\n",
    "        tree_str = self.make_tree_str(dirname)        \n",
    "        print(tree_str)\n",
    "        return\n",
    "\n",
    "    def __repr__(self):\n",
    "        dirname = getattr(self, 'dirname', None)\n",
    "        tree_str = self.make_tree_str(dirname)        \n",
    "        return tree_str        "
   ]
  },
  {
   "cell_type": "code",
   "execution_count": null,
   "metadata": {},
   "outputs": [],
   "source": [
    "#| hide\n",
    "import nbdev; nbdev.nbdev_export()"
   ]
  }
 ],
 "metadata": {
  "kernelspec": {
   "display_name": "python3",
   "language": "python",
   "name": "python3"
  },
  "language_info": {
   "codemirror_mode": {
    "name": "ipython",
    "version": 3
   },
   "file_extension": ".py",
   "mimetype": "text/x-python",
   "name": "python",
   "nbconvert_exporter": "python",
   "pygments_lexer": "ipython3",
   "version": "3.11.0"
  }
 },
 "nbformat": 4,
 "nbformat_minor": 2
}
