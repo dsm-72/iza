{
 "cells": [
  {
   "attachments": {},
   "cell_type": "markdown",
   "metadata": {},
   "source": [
    "# Adata\n",
    "\n",
    "> adata functions."
   ]
  },
  {
   "cell_type": "code",
   "execution_count": null,
   "metadata": {},
   "outputs": [],
   "source": [
    "#| default_exp utils.adata"
   ]
  },
  {
   "cell_type": "code",
   "execution_count": null,
   "metadata": {},
   "outputs": [],
   "source": [
    "#| hide\n",
    "from nbdev.showdoc import *"
   ]
  },
  {
   "cell_type": "code",
   "execution_count": 1,
   "metadata": {},
   "outputs": [],
   "source": [
    "#| export\n",
    "from dataclasses import dataclass, field\n",
    "import numpy as np, pandas as pd\n",
    "\n",
    "from typing import List, Any, Optional"
   ]
  },
  {
   "cell_type": "code",
   "execution_count": null,
   "metadata": {},
   "outputs": [],
   "source": [
    "#| export\n",
    "from iza.types import AnnData, ndarray, DataFrame\n",
    "from iza.static import X_MAGIC, PHATE, X_PHATE"
   ]
  },
  {
   "attachments": {},
   "cell_type": "markdown",
   "metadata": {},
   "source": [
    "### Adata"
   ]
  },
  {
   "cell_type": "code",
   "execution_count": null,
   "metadata": {},
   "outputs": [],
   "source": [
    "#| export\n",
    "@dataclass\n",
    "class AdataExtractor:\n",
    "    adata: AnnData\n",
    "    layer: Optional[str] = X_MAGIC\n",
    "    x_emb: Optional[str] = X_PHATE\n",
    "\n",
    "    dim_str: Optional[str] = None\n",
    "    use_hvg: Optional[bool] = True\n",
    "\n",
    "    @property\n",
    "    def has_hvg(self):\n",
    "        return hasattr(self.adata, 'var') and hasattr(self.adata.var, 'highly_variable')\n",
    "    \n",
    "    @property\n",
    "    def has_emb(self):\n",
    "        return hasattr(self.adata, 'obsm') and self.x_emb in self.adata.obsm.keys()\n",
    "\n",
    "    def get_layer(self) -> ndarray:\n",
    "        layer = self.sdata().layers.get(self.layer, None)\n",
    "\n",
    "        if layer is None:\n",
    "            layer = self.sdata().X\n",
    "\n",
    "        if hasattr(layer, 'toarray'):\n",
    "            layer = layer.toarray()\n",
    "\n",
    "        if hasattr(layer, 'todense'):\n",
    "            layer = layer.todense()\n",
    "\n",
    "        return layer\n",
    "    \n",
    "    def get_emb(self) -> ndarray:\n",
    "        emb = self.sdata().obsm.get(self.x_emb, None)\n",
    "        if emb is None:\n",
    "            raise ValueError(f'No embedding found in adata.obsm {self.sdata().obsm.keys()}')\n",
    "\n",
    "        # NOTE: defined in _02_utils/_05_guards.ipynb\n",
    "        emb = to_ndarray(emb)\n",
    "        return emb\n",
    "\n",
    "    @property\n",
    "    def axis_str(self):\n",
    "        if self.dim_str:\n",
    "            return self.dim_str\n",
    "        return self.x_emb.replace('X_', '').upper()\n",
    "    \n",
    "    @property\n",
    "    def emb_cols(self):\n",
    "        ndim = self.get_emb().shape[1]\n",
    "        cols = [f'{self.axis_str}_{i+1}' for i in range(ndim)]\n",
    "        return cols\n",
    "        \n",
    "    def sdata(self):\n",
    "        if self.use_hvg and self.has_hvg:\n",
    "            return self.adata[:, self.adata.var.highly_variable]\n",
    "        return self.adata\n",
    "    \n",
    "    def get_df_cnt(self) -> DataFrame:\n",
    "        layer = self.get_layer()\n",
    "\n",
    "        cols = self.sdata().var.index\n",
    "        idxs = self.sdata().obs.index\n",
    "        df = pd.DataFrame(layer, index=idxs, columns=cols)\n",
    "        return df\n",
    "    \n",
    "    def get_df_emb(self) -> DataFrame:\n",
    "        emb = self.get_emb()\n",
    "        \n",
    "        cols = self.emb_cols\n",
    "        idxs = self.sdata().obs.index\n",
    "        df = pd.DataFrame(emb, index=idxs, columns=cols)\n",
    "        return df\n",
    "    \n",
    "    @property\n",
    "    def df_cnt(self):\n",
    "        return self.get_df_cnt()\n",
    "    \n",
    "    @property\n",
    "    def df_emb(self):\n",
    "        return self.get_df_emb()"
   ]
  },
  {
   "cell_type": "code",
   "execution_count": null,
   "metadata": {},
   "outputs": [],
   "source": []
  },
  {
   "cell_type": "code",
   "execution_count": null,
   "metadata": {},
   "outputs": [],
   "source": [
    "#| hide\n",
    "import nbdev; nbdev.nbdev_export()"
   ]
  }
 ],
 "metadata": {
  "kernelspec": {
   "display_name": "python3",
   "language": "python",
   "name": "python3"
  },
  "language_info": {
   "codemirror_mode": {
    "name": "ipython",
    "version": 3
   },
   "file_extension": ".py",
   "mimetype": "text/x-python",
   "name": "python",
   "nbconvert_exporter": "python",
   "pygments_lexer": "ipython3",
   "version": "3.11.0"
  }
 },
 "nbformat": 4,
 "nbformat_minor": 2
}
