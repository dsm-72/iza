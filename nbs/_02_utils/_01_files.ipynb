{
 "cells": [
  {
   "attachments": {},
   "cell_type": "markdown",
   "metadata": {},
   "source": [
    "# Files\n",
    "\n",
    "> file functions."
   ]
  },
  {
   "cell_type": "code",
   "execution_count": null,
   "metadata": {},
   "outputs": [],
   "source": [
    "#| default_exp utils.files"
   ]
  },
  {
   "cell_type": "code",
   "execution_count": null,
   "metadata": {},
   "outputs": [],
   "source": [
    "#| hide\n",
    "from nbdev.showdoc import *"
   ]
  },
  {
   "cell_type": "code",
   "execution_count": 1,
   "metadata": {},
   "outputs": [],
   "source": [
    "#| export\n",
    "import os, sys, pwd, atexit, tempfile, inspect, pathlib\n",
    "import requests, tarfile, gzip, shutil\n",
    "from dataclasses import dataclass, field\n",
    "from tqdm.auto import tqdm\n",
    "\n",
    "from typing import Optional, List, Union, Iterable, Tuple, Any, Callable"
   ]
  },
  {
   "cell_type": "code",
   "execution_count": 2,
   "metadata": {},
   "outputs": [],
   "source": [
    "#| export\n",
    "from iza.static import (\n",
    "    EXT_GZ, EXT_TAR, EXT_TAR_GZ,\n",
    ")\n",
    "\n",
    "from iza.types import (\n",
    "    PathType, PathLike\n",
    ")"
   ]
  },
  {
   "attachments": {},
   "cell_type": "markdown",
   "metadata": {},
   "source": [
    "### PathLib Interoperabliilty"
   ]
  },
  {
   "cell_type": "code",
   "execution_count": null,
   "metadata": {},
   "outputs": [],
   "source": [
    "#| export\n",
    "def is_pathlib(path:Any) -> bool:\n",
    "    \"\"\"Check if the input is a path\"\"\"\n",
    "    return isinstance(path, PathType)\n",
    "\n",
    "def is_pathlike(path:Any) -> bool:\n",
    "    \"\"\"Check if the input is a path\"\"\"\n",
    "    return isinstance(path, (PathLike))\n",
    "\n",
    "def is_path(path:Any, existance:Optional[bool]) -> bool:\n",
    "    \"\"\"Check if the input is a path\"\"\"\n",
    "    exists_q = os.path.exists(os.path.expanduser(path))\n",
    "    return is_pathlike(path) and (exists_q if existance else True)\n",
    "\n",
    "def str_to_path(path:str) -> PathType:\n",
    "    \"\"\"Convert a string to a pathlib.Path object\"\"\"\n",
    "    return pathlib.Path(path)\n",
    "\n",
    "def path_to_str(path: PathType) -> str:\n",
    "    \"\"\"Convert a pathlib.Path object to a string\"\"\"\n",
    "    return os.fspath(path)\n",
    "\n",
    "def to_abs_expanded(dirname:Optional[PathLike]=None) -> PathType:\n",
    "    if dirname is None:\n",
    "        dirname = os.getcwd()\n",
    "\n",
    "    dirname = os.path.expanduser(dirname) \n",
    "    dirname = os.path.abspath(dirname) \n",
    "\n",
    "    if not is_pathlib(dirname):\n",
    "        dirname = pathlib.Path(dirname)\n",
    "\n",
    "    return dirname\n",
    "\n",
    "def sort_file_first(path: PathType):\n",
    "    return (not path.is_file(), path.name.lower())\n",
    "\n",
    "def sort_directory_first(path: PathType):\n",
    "    return (path.is_file(), path.name.lower())\n"
   ]
  },
  {
   "attachments": {},
   "cell_type": "markdown",
   "metadata": {},
   "source": [
    "### User Utils"
   ]
  },
  {
   "cell_type": "code",
   "execution_count": 4,
   "metadata": {},
   "outputs": [],
   "source": [
    "#| export\n",
    "def get_user() -> str:\n",
    "    user = pwd.getpwuid(os.getuid())[0]\n",
    "    return user\n",
    "\n",
    "def collapse_user(path: str) -> str:\n",
    "    _, rest = path.split(get_user())    \n",
    "    return '~' + rest"
   ]
  },
  {
   "attachments": {},
   "cell_type": "markdown",
   "metadata": {},
   "source": [
    "### Extensions"
   ]
  },
  {
   "cell_type": "code",
   "execution_count": 49,
   "metadata": {},
   "outputs": [],
   "source": [
    "#| export\n",
    "def check_ext(filename:str, extension:str) -> bool:\n",
    "    if is_pathlib(filename):\n",
    "        filename = path_to_str(filename)\n",
    "    has_extension = extension in filename \n",
    "    splits = filename.split(extension)\n",
    "    is_end_of_str = len(splits) >= 2 and splits[-1] == ''\n",
    "    is_end_of_str = filename.endswith(extension)\n",
    "    return has_extension and is_end_of_str\n",
    "\n",
    "def drop_ext(filename:str, extension:Optional[str]=None) -> str:\n",
    "    if is_pathlib(filename):\n",
    "        filename = path_to_str(filename)\n",
    "        \n",
    "    file = os.path.basename(filename)\n",
    "    if extension is None:\n",
    "        file, *_ = file.split('.')\n",
    "    else:\n",
    "        file = filename.replace(extension, '')\n",
    "    return os.path.join(os.path.dirname(filename), file)"
   ]
  },
  {
   "cell_type": "code",
   "execution_count": 50,
   "metadata": {},
   "outputs": [],
   "source": [
    "#| export\n",
    "def is_tar(filename:str) -> bool:\n",
    "    return check_ext(filename, EXT_TAR)\n",
    "\n",
    "def is_gz(filename:str) -> bool:\n",
    "    return check_ext(filename, EXT_GZ)\n",
    "\n",
    "def is_targz(filename:str) -> bool:\n",
    "    return check_ext(filename, EXT_TAR_GZ)\n",
    "\n",
    "def is_tarball(filename:str) -> bool:\n",
    "    return is_tar(filename) or is_targz(filename)\n"
   ]
  },
  {
   "cell_type": "code",
   "execution_count": 51,
   "metadata": {},
   "outputs": [],
   "source": [
    "#| export\n",
    "def filter_for_gz_files(files:List[str]) -> List[str]:\n",
    "    return list(filter(lambda f: is_gz(f), files))\n",
    "\n",
    "def get_gz_files_in_dir(dirname:str) -> List[str]:\n",
    "    all_files = []\n",
    "\n",
    "    for (root, dirs, files) in os.walk(dirname):   \n",
    "        fullpaths = [os.path.join(root, file) for file in files]\n",
    "        all_files.extend(fullpaths)\n",
    "    \n",
    "    gz_files = filter_for_gz_files(all_files)\n",
    "    return gz_files"
   ]
  },
  {
   "attachments": {},
   "cell_type": "markdown",
   "metadata": {},
   "source": [
    "### Decompression"
   ]
  },
  {
   "cell_type": "code",
   "execution_count": 52,
   "metadata": {},
   "outputs": [],
   "source": [
    "#| export\n",
    "def decompress_tarball(filename:str, remove:bool=False) -> Tuple[str, Optional[EOFError]]:\n",
    "    '''\n",
    "    Returns\n",
    "    -------\n",
    "        dirname : str\n",
    "            The name of the archive e.g. `~/Downloads/fluentbio.tar.gz` would\n",
    "            yield `~/Downloads/fluentbio`\n",
    "\n",
    "\n",
    "    Notes\n",
    "    -----\n",
    "    FluentBio has a weird gzip so it complains when it is \n",
    "        actually fine\n",
    "    '''\n",
    "    error = None\n",
    "    decompress_dir = os.path.dirname(filename)\n",
    "    ext = EXT_TAR_GZ if is_targz(filename) else EXT_TAR if is_tar(filename) else EXT_GZ\n",
    "\n",
    "    dirname = drop_ext(filename, ext)\n",
    "    try:\n",
    "        with tarfile.open(filename) as tarball:\n",
    "            tarball.extractall(decompress_dir)\n",
    "            tarball.close()\n",
    "\n",
    "    except EOFError as error:\n",
    "        pass\n",
    "    \n",
    "    if os.path.isdir(dirname) and remove:\n",
    "        os.remove(filename)\n",
    "\n",
    "    return dirname, error\n",
    "\n",
    "\n",
    "def decompress_gunzip(filename:str, remove:bool=False) -> Tuple[str, Optional[EOFError]]:\n",
    "    '''\n",
    "    Returns\n",
    "    -------\n",
    "        file : str\n",
    "            The name of the decompressed file e.g. `~/Downloads/fluentbio.tsv.gz` would\n",
    "            yield `~/Downloads/fluentbio.tsv`\n",
    "\n",
    "    Notes\n",
    "    -----\n",
    "    FluentBio has a weird gzip so it complains when it is \n",
    "        actually fine\n",
    "    '''\n",
    "    error = None\n",
    "    decompressed_file = drop_ext(filename, EXT_GZ)\n",
    "    try:             \n",
    "        with gzip.open(filename, 'rb') as gunzipped:\n",
    "            with open(decompressed_file, 'wb') as unzipped:\n",
    "                shutil.copyfileobj(gunzipped, unzipped)     \n",
    "                   \n",
    "    except EOFError as error:\n",
    "        pass\n",
    "\n",
    "    if os.path.isfile(decompressed_file) and remove:\n",
    "        os.remove(filename)\n",
    "\n",
    "    return decompressed_file, error\n",
    "\n",
    "def undo_gz(filename: str, remove:bool=False) -> str:\n",
    "    if is_targz(filename):\n",
    "        filename, _ = decompress_tarball(filename, remove)\n",
    "    elif is_gz(filename):\n",
    "        filename, _ = decompress_gunzip(filename, remove)\n",
    "    elif is_tar(filename):\n",
    "        pass\n",
    "    elif is_tarball(filename):\n",
    "        filename, _ = decompress_tarball(filename, remove)\n",
    "    return filename"
   ]
  },
  {
   "cell_type": "code",
   "execution_count": null,
   "metadata": {},
   "outputs": [],
   "source": [
    "#| export\n",
    "DecompressFunc = Callable[[str, bool], str]\n",
    "\n",
    "@dataclass\n",
    "class RecursiveDecompressor:\n",
    "    dirname: PathType\n",
    "    entries: Optional[List[str]] = field(default_factory=list, repr=False)\n",
    "    strategy: Optional[DecompressFunc] = field(default=undo_gz, repr=False)\n",
    "    remove: Optional[bool] = field(default=True, repr=False)\n",
    "    progress: Optional[Any] = field(default=None, repr=False, init=True)\n",
    "\n",
    "    total: Optional[int] = field(default=None, repr=False, init=False)\n",
    "    done: Optional[int] = field(default=None, repr=False, init=False)\n",
    "    task: Optional[Any] = field(default=None, repr=False, init=False)\n",
    "\n",
    "    def __post_init__(self):\n",
    "        if not is_pathlib(self.dirname): \n",
    "            self.dirname = pathlib.Path(self.dirname)\n",
    "            \n",
    "        if self.entries is None: \n",
    "            self.entries = os.listdir(self.dirname)\n",
    "\n",
    "        self.done = 0\n",
    "        self.total = len(self.entries)\n",
    "\n",
    "    def execute(self):\n",
    "        return self.decompress()\n",
    "\n",
    "    def update_total(self, increment: int):\n",
    "        self.total += increment\n",
    "        if self.progress is not None:\n",
    "            self.progress.update(self.task, total=self.total)\n",
    "        else:\n",
    "            self.tqdm_bar.total = self.total\n",
    "            self.tqdm_bar.refresh()\n",
    "\n",
    "    def decrease_total(self):\n",
    "        self.total -= 1\n",
    "        if self.progress is not None:\n",
    "            self.progress.update(self.task, total=self.total)\n",
    "        else:\n",
    "            self.tqdm_bar.total = self.total\n",
    "            self.tqdm_bar.refresh()\n",
    "\n",
    "    def decompress(self):\n",
    "        files = [self.dirname / entry for entry in self.entries]\n",
    "\n",
    "        if self.progress is not None:\n",
    "            with self.progress:\n",
    "                self.task = self.progress.add_task(\"[cyan]Extracting...\", total=self.total)\n",
    "                for file in files:\n",
    "                    self.recurse(file)\n",
    "                    self.progress.advance(self.task)\n",
    "        else:\n",
    "            with tqdm(total=self.total, desc='Extracting') as self.tqdm_bar:\n",
    "                for file in files:\n",
    "                    self.recurse(file)\n",
    "                    self.tqdm_bar.update()\n",
    "\n",
    "    def recurse(self, current:PathLike):\n",
    "        filename = path_to_str(current)\n",
    "        nextfile = self.strategy(filename, self.remove)\n",
    "        self.done += 1\n",
    "        nextfile = pathlib.Path(nextfile)\n",
    "        \n",
    "        # If the decompressed file is a directory, recursively decompress it\n",
    "        if nextfile.is_dir():\n",
    "            for root, dirs, files in os.walk(nextfile):\n",
    "                for f in files:\n",
    "                    self.update_total(1)\n",
    "                    self.recurse(pathlib.Path(root) / f)\n",
    "                    \n",
    "        elif self.remove:\n",
    "            if filename in self.entries:\n",
    "                self.entries.remove(filename)\n",
    "            self.decrease_total()\n"
   ]
  },
  {
   "attachments": {},
   "cell_type": "markdown",
   "metadata": {},
   "source": [
    "### Directories"
   ]
  },
  {
   "cell_type": "code",
   "execution_count": 53,
   "metadata": {},
   "outputs": [],
   "source": [
    "#| export\n",
    "def make_missing_dirs(dirs:List[str]):\n",
    "    if isinstance(dirs, str):\n",
    "        dirs = [dirs]\n",
    "        \n",
    "    elif is_pathlib(dirs):\n",
    "        dirs = [dirs]\n",
    "        \n",
    "    for d in dirs:\n",
    "        if not os.path.exists(d):\n",
    "            os.makedirs(d)\n",
    "            \n",
    "def dir_dirs(dirname:str) -> List[str]:\n",
    "    entries = os.listdir(dirname)\n",
    "    is_subdir = lambda e : os.path.isdir(os.path.join(dirname, e))\n",
    "    return list(filter(is_subdir, entries))"
   ]
  },
  {
   "cell_type": "code",
   "execution_count": 54,
   "metadata": {},
   "outputs": [],
   "source": [
    "#| export\n",
    "def decompress_directory_of_gunzipped_files(\n",
    "    dirname:str, desc:Optional[str]=None, remove:Optional[bool]=False\n",
    ") -> None:\n",
    "    if desc is None:\n",
    "        desc = dirname.split('/')[-1]\n",
    "\n",
    "    gz_files = get_gz_files_in_dir(dirname)\n",
    "    for filename in tqdm(gz_files, desc=desc):\n",
    "        decomp_filename, error = decompress_gunzip(filename, remove)   \n",
    "\n",
    "\n",
    "def decompress_tarball_of_gunzipped_files(\n",
    "    filename:str, desc:Optional[str]=None, remove:Optional[bool]=False\n",
    ") -> None:\n",
    "    # NOTE: initial decompress of .tar.gz\n",
    "    dirname, error = decompress_tarball(filename)\n",
    "\n",
    "    if desc is None:\n",
    "        desc = dirname.split('/')[-1]\n",
    "\n",
    "    # NOTE: decompress all internal .gz files\n",
    "    decompress_directory_of_gunzipped_files(dirname, desc, remove)"
   ]
  },
  {
   "attachments": {},
   "cell_type": "markdown",
   "metadata": {},
   "source": [
    "### Streaming"
   ]
  },
  {
   "cell_type": "code",
   "execution_count": 11,
   "metadata": {},
   "outputs": [],
   "source": [
    "#| export\n",
    "def stream_file(uri:str, filename:Optional[str]=None, desc:Optional[str]=None) -> None:\n",
    "    '''\n",
    "    Parameters\n",
    "    ----------\n",
    "    uri : str\n",
    "        The URI to download\n",
    "\n",
    "    filename : str, optional\n",
    "        The fullpath name of the file to download. Defaults to \n",
    "        `~/Downloads/os.path.basename(uri)`.\n",
    "\n",
    "    desc : str, optional\n",
    "        The description of the `tqdm` progress bar. Defaults to \n",
    "        `os.path.basename(uri)`.\n",
    "    '''\n",
    "    if filename is None:\n",
    "        download_dir = os.path.expanduser(f'~/Downloads')        \n",
    "        filename = os.path.join(download_dir, os.path.basename(uri))\n",
    "\n",
    "    basename = os.path.basename(filename)\n",
    "    if desc is None:\n",
    "        desc = basename\n",
    "\n",
    "    response = requests.get(uri, stream=True)\n",
    "    total = int(response.headers.get('content-length', 0))\n",
    "    \n",
    "    with tqdm.wrapattr(\n",
    "        open(filename, 'wb'), 'write', \n",
    "        miniters=1, desc=desc, total=total\n",
    "    ) as fout:\n",
    "        for chunk in response.iter_content(chunk_size=4096):\n",
    "            fout.write(chunk)"
   ]
  },
  {
   "attachments": {},
   "cell_type": "markdown",
   "metadata": {},
   "source": [
    "### Downloads"
   ]
  },
  {
   "cell_type": "code",
   "execution_count": 12,
   "metadata": {},
   "outputs": [],
   "source": [
    "#| export\n",
    "def download_and_decompress_tarball_of_gunzipped_files(\n",
    "    uri:str, download_dir:str=None, desc:Optional[str]=None, remove:Optional[bool]=False\n",
    "):\n",
    "    filename = os.path.basename(uri)\n",
    "    fullpath = os.path.join(download_dir, filename)\n",
    "\n",
    "    if desc is None:\n",
    "        description = f'Downloading {filename}'\n",
    "\n",
    "\n",
    "    # NOTE: Amazon --> filtered_matrix.tar.gz\n",
    "    stream_file(uri, description)\n",
    "\n",
    "    if desc is None:\n",
    "        description = f'Decompressing {filename}'\n",
    "    # NOTE: filtered_matrix.tar.gz --> filtered_matrix/**/file.tsv\n",
    "    decompress_tarball_of_gunzipped_files(fullpath, desc, remove)\n"
   ]
  },
  {
   "attachments": {},
   "cell_type": "markdown",
   "metadata": {},
   "source": [
    "### Temporary Files"
   ]
  },
  {
   "cell_type": "code",
   "execution_count": 16,
   "metadata": {},
   "outputs": [],
   "source": [
    "#| export\n",
    "def make_temp_file(**kwargs: Any) -> tempfile.NamedTemporaryFile:\n",
    "    temp = tempfile.NamedTemporaryFile(**kwargs)\n",
    "    @atexit.register\n",
    "    def delete_temp() -> None:\n",
    "        temp.close()\n",
    "    return temp"
   ]
  },
  {
   "attachments": {},
   "cell_type": "markdown",
   "metadata": {},
   "source": [
    "### URLs"
   ]
  },
  {
   "cell_type": "code",
   "execution_count": null,
   "metadata": {},
   "outputs": [],
   "source": [
    "#| export\n",
    "from urllib3.util.url import parse_url"
   ]
  },
  {
   "cell_type": "code",
   "execution_count": null,
   "metadata": {},
   "outputs": [],
   "source": [
    "#| export\n",
    "def urljoin(*parts: str) -> str:\n",
    "    return parse_url('/'.join(s.strip('/') for s in parts)).url"
   ]
  },
  {
   "cell_type": "code",
   "execution_count": null,
   "metadata": {},
   "outputs": [],
   "source": [
    "#| hide\n",
    "import nbdev; nbdev.nbdev_export()"
   ]
  }
 ],
 "metadata": {
  "kernelspec": {
   "display_name": "python3",
   "language": "python",
   "name": "python3"
  },
  "language_info": {
   "codemirror_mode": {
    "name": "ipython",
    "version": 3
   },
   "file_extension": ".py",
   "mimetype": "text/x-python",
   "name": "python",
   "nbconvert_exporter": "python",
   "pygments_lexer": "ipython3",
   "version": "3.11.0"
  }
 },
 "nbformat": 4,
 "nbformat_minor": 2
}
