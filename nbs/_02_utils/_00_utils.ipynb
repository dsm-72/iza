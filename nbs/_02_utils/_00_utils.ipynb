{
 "cells": [
  {
   "attachments": {},
   "cell_type": "markdown",
   "metadata": {},
   "source": [
    "# Utils\n",
    "\n",
    "> util functions."
   ]
  },
  {
   "cell_type": "code",
   "execution_count": null,
   "metadata": {},
   "outputs": [],
   "source": [
    "#| default_exp utils.core"
   ]
  },
  {
   "cell_type": "code",
   "execution_count": null,
   "metadata": {},
   "outputs": [],
   "source": [
    "#| hide\n",
    "from nbdev.showdoc import *"
   ]
  },
  {
   "cell_type": "code",
   "execution_count": null,
   "metadata": {},
   "outputs": [],
   "source": [
    "#| export\n",
    "import os, inspect, string\n",
    "from dataclasses import dataclass, field\n",
    "\n",
    "import numpy as np, pandas as pd\n",
    "\n",
    "from typing import List, Any, Optional, Callable, Union, Tuple, Iterable, Set, TypeAlias, Type"
   ]
  },
  {
   "attachments": {},
   "cell_type": "markdown",
   "metadata": {},
   "source": [
    "### Basic Utils"
   ]
  },
  {
   "cell_type": "code",
   "execution_count": null,
   "metadata": {},
   "outputs": [],
   "source": [
    "#| export\n",
    "def isiter(val: Any) -> bool:    \n",
    "    return isinstance(val, Iterable)\n",
    "\n",
    "def allinstance(vals:Any, dtype:Union[Type, TypeAlias]=Any) -> bool:\n",
    "    return isiter(vals) and all(isinstance(i, dtype) for i in vals)\n",
    "\n",
    "def allsametype(vals:Any) -> bool:\n",
    "    if not isiter(vals) or len(vals) == 0: return True\n",
    "    dtype = type(vals[0])\n",
    "    return isiter(vals) and all(isinstance(i, dtype) for i in vals)\n",
    "\n",
    "def isin(val:Any, vals:Iterable) -> bool:\n",
    "    return val in vals\n",
    "\n",
    "def arein(vals:Iterable, refs:Iterable) -> bool:                                             \n",
    "    return isiter(vals) and isiter(refs) and all(isin(v, refs) for v in vals)"
   ]
  },
  {
   "cell_type": "code",
   "execution_count": null,
   "metadata": {},
   "outputs": [],
   "source": [
    "#| export\n",
    "def str_just_alpha(s:str) -> str:\n",
    "    '''Filters a string for just alpha values'''\n",
    "    return ''.join(list(filter(str.isalpha, s)))\n",
    "\n",
    "def str_just_numeric(s:str) -> str:\n",
    "    '''Filters a string for just numeric values'''\n",
    "    return ''.join(list(filter(str.isnumeric, s)))\n",
    "\n",
    "def strip_punc(s:str) -> str:\n",
    "    return s.translate(str.maketrans('', '', string.punctuation))"
   ]
  },
  {
   "attachments": {},
   "cell_type": "markdown",
   "metadata": {},
   "source": [
    "### Argument and Key-Word Argument Wrangling"
   ]
  },
  {
   "cell_type": "code",
   "execution_count": null,
   "metadata": {},
   "outputs": [],
   "source": [
    "#| export\n",
    "def filter_kwargs_for_func(fn: Callable, **kwargs:Optional[dict]):\n",
    "    params = inspect.signature(fn).parameters\n",
    "    return {k:v for k,v in kwargs.items() if k in params}\n",
    "\n",
    "def filter_kwargs_for_class(cls: Callable, **kwargs:Optional[dict]):\n",
    "    params = inspect.signature(cls.__init__).parameters\n",
    "    return {k:v for k,v in kwargs.items() if k in params}\n",
    "\n",
    "def wrangle_kwargs_for_func(\n",
    "    fn: Callable, \n",
    "    defaults: Optional[dict]=None,\n",
    "    **kwargs:Optional[dict]\n",
    ") -> dict:\n",
    "    # copy defaults\n",
    "    params = (defaults or {}).copy()\n",
    "    # update with kwargs of our function\n",
    "    params.update(kwargs or {})\n",
    "    # filter for only the params that other function accepts\n",
    "    params = filter_kwargs_for_func(fn, **params)\n",
    "    return params\n",
    "\n",
    "def wrangle_kwargs_for_class(\n",
    "    cls: Callable, \n",
    "    defaults: Optional[dict]=None,\n",
    "    **kwargs:Optional[dict]\n",
    ") -> dict:\n",
    "    # copy defaults\n",
    "    params = (defaults or {}).copy()\n",
    "    # update with kwargs of our class\n",
    "    params.update(kwargs or {})\n",
    "    # filter for only the params that other class accepts\n",
    "    params = filter_kwargs_for_class(cls, **params)\n",
    "    return params"
   ]
  },
  {
   "cell_type": "code",
   "execution_count": null,
   "metadata": {},
   "outputs": [],
   "source": [
    "#| export\n",
    "def copy_to_clipboard(text: str):\n",
    "    command = \"\"\n",
    "    \n",
    "    # macOS and Linux\n",
    "    if os.name == 'posix':  \n",
    "        command = 'echo \"' + text + '\" | pbcopy'\n",
    "    \n",
    "    # Windows\n",
    "    elif os.name == 'nt':  \n",
    "        command = 'echo ' + text + ' | clip'\n",
    "\n",
    "    else:\n",
    "        raise OSError(\"Unsupported operating system\")\n",
    "\n",
    "    os.system(command)"
   ]
  },
  {
   "cell_type": "code",
   "execution_count": null,
   "metadata": {},
   "outputs": [],
   "source": [
    "#| hide\n",
    "import nbdev; nbdev.nbdev_export()"
   ]
  }
 ],
 "metadata": {
  "kernelspec": {
   "display_name": "python3",
   "language": "python",
   "name": "python3"
  }
 },
 "nbformat": 4,
 "nbformat_minor": 2
}
