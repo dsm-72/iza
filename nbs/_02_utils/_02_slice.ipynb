{
 "cells": [
  {
   "attachments": {},
   "cell_type": "markdown",
   "metadata": {},
   "source": [
    "# Slice\n",
    "\n",
    "> slice class."
   ]
  },
  {
   "cell_type": "code",
   "execution_count": null,
   "metadata": {},
   "outputs": [],
   "source": [
    "#| default_exp utils.slice"
   ]
  },
  {
   "cell_type": "code",
   "execution_count": null,
   "metadata": {},
   "outputs": [],
   "source": [
    "#| hide\n",
    "from nbdev.showdoc import *"
   ]
  },
  {
   "cell_type": "code",
   "execution_count": null,
   "metadata": {},
   "outputs": [],
   "source": [
    "#| export\n",
    "from dataclasses import dataclass, field\n",
    "import numpy as np, pandas as pd\n",
    "\n",
    "from typing import List, Union, Tuple"
   ]
  },
  {
   "attachments": {},
   "cell_type": "markdown",
   "metadata": {},
   "source": [
    "### Slice"
   ]
  },
  {
   "attachments": {},
   "cell_type": "markdown",
   "metadata": {},
   "source": [
    "Helps convert `slices` to its numeric values"
   ]
  },
  {
   "cell_type": "code",
   "execution_count": null,
   "metadata": {},
   "outputs": [],
   "source": [
    "#| export\n",
    "@dataclass\n",
    "class Slice:\n",
    "    \"\"\"A class for representing a slice and providing conversion to other formats.\"\"\"\n",
    "    slc: slice = field(default_factory=slice)\n",
    "\n",
    "    @property\n",
    "    def start(self):\n",
    "        try:\n",
    "            return self._start\n",
    "        except AttributeError:\n",
    "            self._start = self.slc.start\n",
    "        return self._start\n",
    "    \n",
    "    @start.setter\n",
    "    def start(self, value):\n",
    "        \"\"\"Sets the start index.\"\"\"\n",
    "        if value < 0:\n",
    "            raise ValueError(\"Slice indices must be non-negative.\")\n",
    "        self._start = value\n",
    "\n",
    "    @property\n",
    "    def stop(self):\n",
    "        try:\n",
    "            return self._stop\n",
    "        except AttributeError:\n",
    "            self._stop = self.slc.stop\n",
    "        return self._stop\n",
    "    \n",
    "    @stop.setter\n",
    "    def stop(self, value):\n",
    "        \"\"\"Sets the stop index.\"\"\"\n",
    "        if value < 0:\n",
    "            raise ValueError(\"Slice indices must be non-negative.\")\n",
    "        self._stop = value\n",
    "    \n",
    "    @property\n",
    "    def step(self):\n",
    "        \"\"\"Gets the step index.\"\"\"\n",
    "        try:\n",
    "            return self._step\n",
    "        except AttributeError:\n",
    "            self._step = self.slc.step\n",
    "        return self._step\n",
    "    \n",
    "    @step.setter\n",
    "    def step(self, value):\n",
    "        \"\"\"Sets the step index.\"\"\"\n",
    "        if value < 0:\n",
    "            raise ValueError(\"Slice step must be non-negative.\")\n",
    "        self._step = value\n",
    "    \n",
    "    def __post_init__(self):\n",
    "        if self.start is None:\n",
    "            self.start = 0\n",
    "\n",
    "        if self.stop is None:\n",
    "            self.stop = min(0, self.start, max(1, self.start))\n",
    "\n",
    "        if self.step is None:\n",
    "            self.step = 1\n",
    "\n",
    "    def totuple(self) -> Tuple[Union[int, float, None], Union[int, float, None], Union[int, float, None]]:\n",
    "        \"\"\"Converts the slice to a tuple.\"\"\"\n",
    "        return (self.start, self.stop, self.step)\n",
    "    \n",
    "    def toslice(self) -> slice:\n",
    "        \"\"\"Converts the updated slice.\"\"\"\n",
    "        return slice(self.start, self.stop, self.step)\n",
    "    \n",
    "    def tolist(self) -> List[Union[int, float]]:\n",
    "        \"\"\"Converts the slice to a list.\"\"\"\n",
    "        return list(range(self.start, self.stop, self.step))\n",
    "    \n",
    "    def todict(self) -> List[Union[int, float]]:\n",
    "        \"\"\"Converts the slice to a dict.\"\"\"\n",
    "        return dict(zip('start stop step'.split(), self.totuple()))\n",
    "        \n",
    "\n",
    "    def astype(self, dtype:str):\n",
    "        \"\"\"Converts the slice to a specified format.\"\"\"\n",
    "        if dtype in {'list', list}:\n",
    "            return self.tolist()\n",
    "        elif dtype in {'numpy', np.ndarray}:\n",
    "            return np.array(self.tolist())\n",
    "        elif dtype in {'pandas', pd.Series}:\n",
    "            return pd.Series(self.tolist())\n",
    "        elif dtype in {'tuple', tuple}:\n",
    "            return self.totuple()\n",
    "        elif dtype in {'dict', dict}:\n",
    "            return self.todict()\n",
    "        elif dtype in {'slice', slice}:\n",
    "            return self.toslice()\n",
    "        return self"
   ]
  },
  {
   "cell_type": "code",
   "execution_count": null,
   "metadata": {},
   "outputs": [],
   "source": [
    "#| hide\n",
    "import nbdev; nbdev.nbdev_export()"
   ]
  }
 ],
 "metadata": {
  "kernelspec": {
   "display_name": "python3",
   "language": "python",
   "name": "python3"
  }
 },
 "nbformat": 4,
 "nbformat_minor": 2
}
