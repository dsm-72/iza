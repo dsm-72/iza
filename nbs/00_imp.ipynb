{
 "cells": [
  {
   "attachments": {},
   "cell_type": "markdown",
   "metadata": {},
   "source": [
    "# Imp\n",
    "\n",
    "> a devilish import module."
   ]
  },
  {
   "cell_type": "code",
   "execution_count": null,
   "metadata": {},
   "outputs": [],
   "source": [
    "#| default_exp imp"
   ]
  },
  {
   "cell_type": "code",
   "execution_count": null,
   "metadata": {},
   "outputs": [],
   "source": [
    "#| hide\n",
    "from nbdev.showdoc import *"
   ]
  },
  {
   "attachments": {},
   "cell_type": "markdown",
   "metadata": {},
   "source": [
    "### Check Modules for Availbility"
   ]
  },
  {
   "cell_type": "code",
   "execution_count": 10,
   "metadata": {},
   "outputs": [],
   "source": [
    "#| export\n",
    "import sys, inspect, importlib\n",
    "from dataclasses import dataclass\n",
    "from typing import Optional, Dict, Any"
   ]
  },
  {
   "cell_type": "code",
   "execution_count": 9,
   "metadata": {},
   "outputs": [
    {
     "data": {
      "text/plain": [
       "ModuleSpec(name='rich.progress', loader=<_frozen_importlib_external.SourceFileLoader object at 0x10be42dd0>, origin='/Users/solst/mambaforge/envs/iza/lib/python3.11/site-packages/rich/progress.py')"
      ]
     },
     "execution_count": 9,
     "metadata": {},
     "output_type": "execute_result"
    }
   ],
   "source": [
    "importlib.util.find_spec('rich.progress')"
   ]
  },
  {
   "attachments": {},
   "cell_type": "markdown",
   "metadata": {},
   "source": [
    "https://docs.python.org/3/library/importlib.html#importing-programmatically"
   ]
  },
  {
   "cell_type": "code",
   "execution_count": null,
   "metadata": {},
   "outputs": [],
   "source": [
    "#| export\n",
    "def programmatic_import(name: str, lazy: bool = False) -> object:\n",
    "    spec = importlib.util.find_spec(name)\n",
    "    loader = spec.loader\n",
    "    if lazy:\n",
    "        loader = importlib.util.LazyLoader(loader)\n",
    "    \n",
    "    module = importlib.util.module_from_spec(spec)\n",
    "    sys.modules[name] = module\n",
    "    loader.exec_module(module)\n",
    "    return module\n",
    "\n",
    "def is_module_availble(name:str) -> bool:\n",
    "    if name in sys.modules:\n",
    "        return True\n",
    "    elif importlib.util.find_spec(name) is not None:\n",
    "        return True\n",
    "    return False\n",
    "\n",
    "def get_module(name:str, lazy: Optional[bool] = False) -> object:\n",
    "    if is_module_availble(name):\n",
    "        return programmatic_import(name, lazy=lazy)    \n",
    "    raise ModuleNotFoundError"
   ]
  },
  {
   "cell_type": "code",
   "execution_count": null,
   "metadata": {},
   "outputs": [],
   "source": [
    "#| export\n",
    "@dataclass\n",
    "class GlobalImport:\n",
    "    def __enter__(self):\n",
    "        return self\n",
    "    \n",
    "    def __call__(self):        \n",
    "        self.collector = inspect.getargvalues(\n",
    "            inspect.getouterframes(\n",
    "                inspect.currentframe()\n",
    "            )[1].frame\n",
    "        ).locals\n",
    "\n",
    "    def __exit__(self, *args):\n",
    "        globals().update(self.collector)"
   ]
  },
  {
   "cell_type": "code",
   "execution_count": 41,
   "metadata": {},
   "outputs": [
    {
     "name": "stdout",
     "output_type": "stream",
     "text": [
      "{'rich_tree': <class 'rich.tree.Tree'>, 'Text': <class 'rich.text.Text'>, 'escape': <function escape at 0x107e5c4a0>, 'decimal': <function decimal at 0x10876b420>, 'Console': <class 'rich.console.Console'>, 'Progress': <class 'rich.progress.Progress'>, 'get_console': <function get_console at 0x107b83e20>}\n"
     ]
    }
   ],
   "source": [
    "\n",
    "import importlib, warnings\n",
    "from re import sub\n",
    "import sys\n",
    "from dataclasses import dataclass\n",
    "from typing import Any, Dict, Optional\n",
    "\n",
    "@dataclass\n",
    "class Importer:\n",
    "    module: str\n",
    "    alias: str\n",
    "    froms: Dict[str, str]\n",
    "    fallbacks: Dict[str, Any]\n",
    "    lazy: Optional[bool] = False\n",
    "\n",
    "    def __post_init__(self):\n",
    "        self._import_module()\n",
    "\n",
    "    def _import_module(self):\n",
    "        try:\n",
    "            imported = importlib.import_module(self.module)\n",
    "            sys.modules[self.module] = imported            \n",
    "            sys.modules[self.alias] = imported\n",
    "\n",
    "        except ImportError:\n",
    "            sys.modules[self.module] = self.fallbacks.get(self.module, None)\n",
    "            sys.modules[self.alias] = self.fallbacks.get(self.alias, None)\n",
    "            warnings.warn(f'Could not import {self.module} or {self.alias}')\n",
    "            return\n",
    "\n",
    "        updates = dict()\n",
    "        for submodule, imports in self.froms.items():\n",
    "            for import_item in imports.split(','):\n",
    "                import_item = import_item.strip()\n",
    "                given_name, _, alias_name = import_item.partition(' as ')\n",
    "                \n",
    "                varname = given_name if not alias_name else alias_name\n",
    "                \n",
    "                try:\n",
    "                    submod_path = ('.'.join([self.module, submodule])).rstrip('.')                    \n",
    "                    submod = importlib.import_module(submod_path) \n",
    "                    varval = getattr(submod, given_name, None)\n",
    "                    updates[varname] = varval\n",
    "                              \n",
    "                    # sys.modules[submod_path] = \n",
    "                except ImportError:\n",
    "                    warnings.warn(f'Could not import {varname} from  {submod_path}')\n",
    "                    updates[varname] = varval = self.fallbacks.get(varname, None)\n",
    "\n",
    "\n",
    "        for varname, fallback in self.fallbacks.items():\n",
    "            if varname not in updates and varname not in sys.modules and varname not in globals():\n",
    "                updates[varname] = fallback\n",
    "\n",
    "        globals().update(updates)\n",
    "\n",
    "\n",
    "imp_rich = Importer(\n",
    "    'rich',\n",
    "    alias='rc',\n",
    "    froms={\n",
    "        'tree': 'Tree as rich_tree',\n",
    "        'text': 'Text',\n",
    "        'markup': 'escape',\n",
    "        'filesize': 'decimal',\n",
    "        'console': 'Console',\n",
    "        'progress': 'Progress',\n",
    "        '': 'get_console'\n",
    "    },\n",
    "    fallbacks={\n",
    "        'rich_tree': Any,\n",
    "        'Text': Any,\n",
    "    },\n",
    ")\n"
   ]
  },
  {
   "cell_type": "code",
   "execution_count": 23,
   "metadata": {},
   "outputs": [
    {
     "data": {
      "text/plain": [
       "rich.text.Text"
      ]
     },
     "execution_count": 23,
     "metadata": {},
     "output_type": "execute_result"
    }
   ],
   "source": [
    "sys.modules['rich.text'].Text"
   ]
  },
  {
   "cell_type": "code",
   "execution_count": 123,
   "metadata": {},
   "outputs": [],
   "source": [
    "#| export\n",
    "def is_rich_available() -> bool:\n",
    "    try:\n",
    "        import rich\n",
    "        return True\n",
    "    except ImportError:\n",
    "        return False\n",
    "\n",
    "def is_pytorch_available() -> bool: \n",
    "    try:\n",
    "        import torch\n",
    "        return True\n",
    "    except ImportError:\n",
    "        return False\n",
    "\n",
    "def is_anndata_available() -> bool:    \n",
    "    try:\n",
    "        import anndata \n",
    "        return True\n",
    "    except ImportError:\n",
    "        return False"
   ]
  },
  {
   "cell_type": "code",
   "execution_count": null,
   "metadata": {},
   "outputs": [],
   "source": [
    "Importer(\n",
    "    'rich',\n",
    "    froms = dict(\n",
    "        tree = 'Tree as rich_tree',\n",
    "        text = 'Text',\n",
    "        markup = 'escape',\n",
    "        filesize = 'decimal',\n",
    "        console = 'get_console, Console',\n",
    "        progress = 'Progress'        \n",
    "    ),\n",
    "    fallbacks = dict(\n",
    "        rich_tree=Any,\n",
    "        Text=Any,\n",
    "        ...\n",
    "    )\n",
    ")\n"
   ]
  },
  {
   "cell_type": "code",
   "execution_count": 11,
   "metadata": {},
   "outputs": [
    {
     "ename": "NameError",
     "evalue": "name 'Progress' is not defined",
     "output_type": "error",
     "traceback": [
      "\u001b[0;31m---------------------------------------------------------------------------\u001b[0m",
      "\u001b[0;31mNameError\u001b[0m                                 Traceback (most recent call last)",
      "Cell \u001b[0;32mIn[11], line 1\u001b[0m\n\u001b[0;32m----> 1\u001b[0m Progress\n",
      "\u001b[0;31mNameError\u001b[0m: name 'Progress' is not defined"
     ]
    }
   ],
   "source": [
    "Progress"
   ]
  },
  {
   "cell_type": "code",
   "execution_count": null,
   "metadata": {},
   "outputs": [],
   "source": [
    "#| hide\n",
    "import nbdev; nbdev.nbdev_export()"
   ]
  }
 ],
 "metadata": {
  "kernelspec": {
   "display_name": "python3",
   "language": "python",
   "name": "python3"
  },
  "language_info": {
   "codemirror_mode": {
    "name": "ipython",
    "version": 3
   },
   "file_extension": ".py",
   "mimetype": "text/x-python",
   "name": "python",
   "nbconvert_exporter": "python",
   "pygments_lexer": "ipython3",
   "version": "3.11.0"
  }
 },
 "nbformat": 4,
 "nbformat_minor": 2
}
