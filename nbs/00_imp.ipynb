{
 "cells": [
  {
   "attachments": {},
   "cell_type": "markdown",
   "metadata": {},
   "source": [
    "# Imp\n",
    "\n",
    "> imports"
   ]
  },
  {
   "cell_type": "code",
   "execution_count": null,
   "metadata": {},
   "outputs": [],
   "source": [
    "#| default_exp imp"
   ]
  },
  {
   "cell_type": "code",
   "execution_count": null,
   "metadata": {},
   "outputs": [],
   "source": [
    "#| hide\n",
    "from nbdev.showdoc import *"
   ]
  },
  {
   "attachments": {},
   "cell_type": "markdown",
   "metadata": {},
   "source": [
    "## Ipos\n",
    "> Use ipos to make sure submodules are accessible without dependencies"
   ]
  },
  {
   "cell_type": "code",
   "execution_count": null,
   "metadata": {},
   "outputs": [],
   "source": [
    "#| export\n",
    "from ipos.imp import Imp, ImpSubSpec, ImpItem, ImpSubSpecType, is_mod_imp, is_mod, VariableDict\n",
    "from dataclasses import dataclass, field"
   ]
  },
  {
   "attachments": {},
   "cell_type": "markdown",
   "metadata": {},
   "source": [
    "## Imps"
   ]
  },
  {
   "cell_type": "code",
   "execution_count": null,
   "metadata": {},
   "outputs": [],
   "source": [
    "#| export\n",
    "@dataclass\n",
    "class TorchImp(Imp):\n",
    "    name: str = 'torch'\n",
    "    lazy: bool = False\n",
    "    subspecs: ImpSubSpecType = field(default_factory = lambda: [])\n",
    "\n",
    "@dataclass\n",
    "class TqdmImp(Imp):\n",
    "    name: str = 'tqdm'\n",
    "    subspecs: ImpSubSpecType = field(default_factory = lambda: [\n",
    "        ImpSubSpec('tqdm', 'auto', [ImpItem('tqdm')])\n",
    "    ])\n",
    "\n",
    "@dataclass\n",
    "class RichImp(Imp):\n",
    "    name: str = 'rich'\n",
    "    lazy: bool = False\n",
    "    namespace: VariableDict = field(default_factory=globals, repr=False)\n",
    "    subspecs: ImpSubSpecType = field(default_factory = lambda: [\n",
    "        ImpSubSpec.from_str('from rich.tree import Tree'),\n",
    "        ImpSubSpec.from_str('from rich.text import Text'),\n",
    "        ImpSubSpec.from_str('from rich.markup import espace'),\n",
    "        ImpSubSpec.from_str('from rich.filesize import decimal'),\n",
    "        ImpSubSpec.from_str('from rich.filesize import Console'),\n",
    "        ImpSubSpec.from_str('from rich.progress import Progress'),    \n",
    "        ImpSubSpec('rich', '', [ImpItem('get_console')])\n",
    "    ])\n",
    "\n",
    "@dataclass\n",
    "class ScanPyImp(Imp):\n",
    "    name: str = 'scanpy'\n",
    "    nick: str = 'sc'\n",
    "    subspecs: ImpSubSpecType = field(default_factory = lambda: [\n",
    "        ImpSubSpec('scanpy', '', [ImpItem('AnnData'), ImpItem('read_h5ad')]),\n",
    "    ])\n",
    "\n",
    "@dataclass\n",
    "class SCPrepImp(Imp):\n",
    "    name: str = 'scprep'    \n",
    "    subspecs: ImpSubSpecType = field(default_factory = lambda: [\n",
    "        ImpSubSpec('scanpy', 'io', [ImpItem('load_mtx')]),\n",
    "    ])"
   ]
  },
  {
   "attachments": {},
   "cell_type": "markdown",
   "metadata": {},
   "source": [
    "## Check Modules for Availbility"
   ]
  },
  {
   "cell_type": "code",
   "execution_count": null,
   "metadata": {},
   "outputs": [],
   "source": [
    "#| export\n",
    "def is_rich_available() -> bool:\n",
    "    try:\n",
    "        import rich\n",
    "        return True\n",
    "    except ImportError:\n",
    "        return False\n",
    "\n",
    "def is_pytorch_available() -> bool: \n",
    "    try:\n",
    "        import torch\n",
    "        return True\n",
    "    except ImportError:\n",
    "        return False\n",
    "\n",
    "def is_anndata_available() -> bool:    \n",
    "    try:\n",
    "        import anndata \n",
    "        return True\n",
    "    except ImportError:\n",
    "        return False"
   ]
  },
  {
   "cell_type": "code",
   "execution_count": null,
   "metadata": {},
   "outputs": [],
   "source": [
    "#| hide\n",
    "import nbdev; nbdev.nbdev_export()"
   ]
  }
 ],
 "metadata": {
  "kernelspec": {
   "display_name": "python3",
   "language": "python",
   "name": "python3"
  }
 },
 "nbformat": 4,
 "nbformat_minor": 2
}
