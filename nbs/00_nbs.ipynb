{
 "cells": [
  {
   "attachments": {},
   "cell_type": "markdown",
   "metadata": {},
   "source": [
    "# Notebooks\n",
    "\n",
    "> implements the Jupyter Notebook Module Finder. See [Importing Jupyter Notebooks as Modules](https://jupyter-notebook.readthedocs.io/en/stable/examples/Notebook/Importing%20Notebooks.html) for more details."
   ]
  },
  {
   "cell_type": "code",
   "execution_count": null,
   "metadata": {},
   "outputs": [],
   "source": [
    "#| default_exp nbs"
   ]
  },
  {
   "cell_type": "raw",
   "metadata": {},
   "source": [
    "%load_ext autoreload\n",
    "%autoreload 2"
   ]
  },
  {
   "cell_type": "code",
   "execution_count": null,
   "metadata": {},
   "outputs": [],
   "source": [
    "#| hide\n",
    "from nbdev.showdoc import *"
   ]
  },
  {
   "cell_type": "code",
   "execution_count": null,
   "metadata": {},
   "outputs": [],
   "source": [
    "#| export\n",
    "import logging, inspect"
   ]
  },
  {
   "attachments": {},
   "cell_type": "markdown",
   "metadata": {},
   "source": [
    "## Jupter-Notebooks\n",
    "\n",
    "from Jupyter Notebooks [readthedocs](https://jupyter-notebook.readthedocs.io/en/stable/examples/Notebook/Importing%20Notebooks.html)."
   ]
  },
  {
   "attachments": {},
   "cell_type": "markdown",
   "metadata": {},
   "source": [
    "### Imports"
   ]
  },
  {
   "cell_type": "code",
   "execution_count": null,
   "metadata": {},
   "outputs": [],
   "source": [
    "#| export\n",
    "import io, os, sys, types\n",
    "from IPython import get_ipython\n",
    "from nbformat import read\n",
    "from IPython.core.interactiveshell import InteractiveShell"
   ]
  },
  {
   "cell_type": "code",
   "execution_count": null,
   "metadata": {},
   "outputs": [],
   "source": [
    "#| export\n",
    "from pygments import highlight\n",
    "from pygments.lexers import PythonLexer\n",
    "from pygments.formatters import HtmlFormatter\n",
    "\n",
    "from IPython.display import display, HTML"
   ]
  },
  {
   "cell_type": "code",
   "execution_count": null,
   "metadata": {},
   "outputs": [],
   "source": [
    "#| export\n",
    "from typing import Optional\n",
    "from dataclasses import dataclass, field"
   ]
  },
  {
   "attachments": {},
   "cell_type": "markdown",
   "metadata": {},
   "source": [
    "### Utility for finding notebook files"
   ]
  },
  {
   "cell_type": "code",
   "execution_count": null,
   "metadata": {},
   "outputs": [],
   "source": [
    "#| export\n",
    "def find_notebook(fullname:str, path:Optional[str]=None) -> str:\n",
    "    \"\"\"find a notebook, given its fully qualified name and an optional path\n",
    "\n",
    "    This turns \"foo.bar\" into \"foo/bar.ipynb\"\n",
    "    and tries turning \"Foo_Bar\" into \"Foo Bar\" if Foo_Bar\n",
    "    does not exist.\n",
    "    \"\"\"\n",
    "    name = fullname.rsplit('.', 1)[-1]\n",
    "    if not path:\n",
    "        path = ['']\n",
    "\n",
    "    for d in path:        \n",
    "        nb_path = os.path.join(d, name + \".ipynb\")\n",
    "        if os.path.isfile(nb_path):\n",
    "            return nb_path\n",
    "        \n",
    "        # let import Notebook_Name find \"Notebook Name.ipynb\"\n",
    "        nb_path = nb_path.replace(\"_\", \" \")\n",
    "        if os.path.isfile(nb_path):            \n",
    "            return nb_path"
   ]
  },
  {
   "attachments": {},
   "cell_type": "markdown",
   "metadata": {},
   "source": [
    "### Notebook Loader"
   ]
  },
  {
   "cell_type": "code",
   "execution_count": null,
   "metadata": {},
   "outputs": [],
   "source": [
    "#| export\n",
    "class NotebookLoader(object):\n",
    "    \"\"\"Module Loader for Jupyter Notebooks\"\"\"\n",
    "    def __init__(self, path:Optional[str]=None):        \n",
    "        self.shell = InteractiveShell.instance()\n",
    "        self.path = path\n",
    "\n",
    "    def load_module(self, fullname:str):\n",
    "        \"\"\"import a notebook as a module\"\"\"\n",
    "        path = find_notebook(fullname, self.path)\n",
    "\n",
    "        print(\"importing Jupyter notebook from %s\" % path)\n",
    "\n",
    "        # load the notebook object\n",
    "        with io.open(path, 'r', encoding='utf-8') as f:\n",
    "            nb = read(f, 4)\n",
    "\n",
    "\n",
    "        # create the module and add it to sys.modules\n",
    "        # if name in sys.modules:\n",
    "        #    return sys.modules[name]\n",
    "        mod = types.ModuleType(fullname)\n",
    "        mod.__file__ = path\n",
    "        mod.__loader__ = self\n",
    "        mod.__dict__['get_ipython'] = get_ipython\n",
    "        sys.modules[fullname] = mod\n",
    "\n",
    "        # extra work to ensure that magics that would affect the user_ns\n",
    "        # actually affect the notebook module's ns\n",
    "        save_user_ns = self.shell.user_ns\n",
    "        self.shell.user_ns = mod.__dict__\n",
    "\n",
    "        try:\n",
    "          for cell in nb.cells:\n",
    "            if cell.cell_type == 'code':\n",
    "                # transform the input to executable Python\n",
    "                code = self.shell.input_transformer_manager.transform_cell(cell.source)\n",
    "                # run the code in themodule\n",
    "                exec(code, mod.__dict__)\n",
    "\n",
    "        finally:\n",
    "            self.shell.user_ns = save_user_ns\n",
    "            \n",
    "        return mod"
   ]
  },
  {
   "attachments": {},
   "cell_type": "markdown",
   "metadata": {},
   "source": [
    "### Module Finder"
   ]
  },
  {
   "cell_type": "code",
   "execution_count": null,
   "metadata": {},
   "outputs": [],
   "source": [
    "#| export\n",
    "class NotebookFinder(object):\n",
    "    \"\"\"Module finder that locates Jupyter Notebooks\"\"\"\n",
    "    def __init__(self):\n",
    "        self.loaders = {}\n",
    "\n",
    "    def find_module(self, fullname:str, path:Optional[str]=None) -> Optional[NotebookLoader]:\n",
    "        nb_path = find_notebook(fullname, path)\n",
    "        if not nb_path:\n",
    "            return\n",
    "\n",
    "        key = path\n",
    "        if path:\n",
    "            # lists aren't hashable\n",
    "            key = os.path.sep.join(path)\n",
    "\n",
    "        if key not in self.loaders:\n",
    "            self.loaders[key] = NotebookLoader(path)\n",
    "        return self.loaders[key]"
   ]
  },
  {
   "attachments": {},
   "cell_type": "markdown",
   "metadata": {},
   "source": [
    "### How to Register the Hook"
   ]
  },
  {
   "cell_type": "code",
   "execution_count": null,
   "metadata": {},
   "outputs": [],
   "source": [
    "#| eval: False\n",
    "# sys.meta_path.append(NotebookFinder())"
   ]
  },
  {
   "attachments": {},
   "cell_type": "markdown",
   "metadata": {},
   "source": [
    "### Displaying Notebooks"
   ]
  },
  {
   "cell_type": "code",
   "execution_count": null,
   "metadata": {},
   "outputs": [],
   "source": [
    "#| export\n",
    "@dataclass\n",
    "class NotebookViewer(object):\n",
    "    path: str\n",
    "\n",
    "    lexer: PythonLexer = PythonLexer()\n",
    "    formatter: HtmlFormatter = HtmlFormatter()\n",
    "\n",
    "    def __init__(self, path:Optional[str]=None):              \n",
    "        self.path = path\n",
    "\n",
    "    def __post_init__(self):\n",
    "        # self.formatter = HtmlFormatter()\n",
    "\n",
    "        # self.lexer = PythonLexer()\n",
    "        # publish the CSS for pygments highlighting\n",
    "        style_defs = self.formatter.get_style_defs()\n",
    "        self.style = \"\"\"<style type='text/css'>%s</style>\"\"\" % style_defs\n",
    "        display(HTML(self.style))\n",
    "\n",
    "    def get_cell(self, idx:int, fname:Optional[str]=None):\n",
    "        path = fname if fname else self.path        \n",
    "        with io.open(path, 'r', encoding='utf-8') as f:\n",
    "            nb = read(f, 4)\n",
    "\n",
    "        cell = nb.cells[idx]\n",
    "        return cell\n",
    "\n",
    "    def prepare_cell(self, idx:int, fname:Optional[str]=None):\n",
    "        cell = self.get_cell(idx, fname)\n",
    "\n",
    "        html = []\n",
    "        \n",
    "        html.append(\"<h4>%s cell</h4>\" % cell.cell_type)\n",
    "        if cell.cell_type == 'code':\n",
    "            html.append(highlight(cell.source, self.lexer, self.formatter))            \n",
    "        else:\n",
    "            html.append(\"<pre>%s</pre>\" % cell.source)\n",
    "        return html, cell.cell_type, cell.source\n",
    "    \n",
    "    def show_cell(self, idx:int, fname:Optional[str]=None):\n",
    "        html, cell_type, cell_source = self.prepare_cell(idx, fname)\n",
    "        return display(HTML('\\n'.join(html)))\n",
    "    \n",
    "    def show_notebook(self, fname:Optional[str]=None):\n",
    "        path = fname if fname else self.path\n",
    "        \"\"\"display a short summary of the cells of a notebook\"\"\"\n",
    "        with io.open(path, 'r', encoding='utf-8') as f:\n",
    "            nb = read(f, 4)\n",
    "\n",
    "        html = []\n",
    "        for cell in nb.cells:\n",
    "            html.append(\"<h4>%s cell</h4>\" % cell.cell_type)\n",
    "            if cell.cell_type == 'code':\n",
    "                html.append(highlight(cell.source, self.lexer, self.formatter))\n",
    "            else:\n",
    "                html.append(\"<pre>%s</pre>\" % cell.source)\n",
    "        return display(HTML('\\n'.join(html)))"
   ]
  },
  {
   "attachments": {},
   "cell_type": "markdown",
   "metadata": {},
   "source": [
    "#### Example"
   ]
  },
  {
   "cell_type": "code",
   "execution_count": null,
   "metadata": {},
   "outputs": [],
   "source": [
    "#| eval: False\n",
    "# nbv = NotebookViewer(os.path.abspath(os.path.join(\"./_constants\", \"00_init.ipynb\")))\n",
    "# nbv.show_notebook()"
   ]
  },
  {
   "attachments": {},
   "cell_type": "markdown",
   "metadata": {},
   "source": [
    "## Aggregation Script"
   ]
  },
  {
   "cell_type": "code",
   "execution_count": null,
   "metadata": {},
   "outputs": [],
   "source": [
    "#| export\n",
    "import os, re, nbformat as nbf\n",
    "from nbformat import NotebookNode\n",
    "from typing import List, Optional, Union\n",
    "from tqdm.auto import tqdm\n",
    "import warnings"
   ]
  },
  {
   "cell_type": "code",
   "execution_count": null,
   "metadata": {},
   "outputs": [],
   "source": [
    "#| export\n",
    "@dataclass\n",
    "class NotebookPrefixer:\n",
    "    path: Optional[str] = None\n",
    "    name: Optional[str] = None\n",
    "    maximal: Optional[bool] = False\n",
    "\n",
    "    def __post_init__(self):\n",
    "        self.path = self.path if self.path else os.getcwd()\n",
    "\n",
    "\n",
    "    def int_to_prefix_int(self, i: int) -> str:\n",
    "        if i < 10:\n",
    "            return f'0{i}'\n",
    "        else:\n",
    "            return str(i)\n",
    "        \n",
    "    def prefix_int_to_int(self, prefix: str) -> int:\n",
    "        if prefix == '00':\n",
    "            return 0        \n",
    "        return int(prefix.lstrip('0'))\n",
    "        \n",
    "    def prefix_from_filename(self, name:str):\n",
    "        return self.prefix_int_to_int(name.split('_')[0])\n",
    "    \n",
    "    def filename_without_prefix(self, name:str):\n",
    "        if '_' not in name:\n",
    "            return name\n",
    "        return '_'.join(name.split('_')[1:])\n",
    "\n",
    "    def next_nb_prefix(\n",
    "        self, path: Optional[str] = None, \n",
    "        name: Optional[str] = None, maximal: bool = False\n",
    "    ):\n",
    "        \"\"\"\n",
    "        Calculate the next missing value of the notebook prefixes in a directory.\n",
    "\n",
    "        Parameters\n",
    "        ----------\n",
    "        path : str\n",
    "            The path to the directory containing the notebooks.\n",
    "        name : Optional[str], optional\n",
    "            The name of the notebook to check, by default None\n",
    "        maximal : bool, optional\n",
    "            If True, return the maximum prefix + 1, otherwise return the smallest missing prefix, by default False\n",
    "\n",
    "        Returns\n",
    "        -------\n",
    "        int\n",
    "            The next missing value of the notebook prefixes.\n",
    "        \"\"\"\n",
    "        # Get the list of notebooks in the directory\n",
    "        path = path if path else self.path\n",
    "        name = name if name else self.name\n",
    "        maximal = maximal if maximal is not None else self.maximal\n",
    "\n",
    "        notebooks = [file for file in os.listdir(path) if file.endswith('.ipynb')]\n",
    "\n",
    "        # Filter out non-convention notebooks\n",
    "        notebooks = [file for file in notebooks if re.match(r'\\d{2,}_.*\\.ipynb', file)]\n",
    "\n",
    "        # Extract the prefixes\n",
    "        prefixes = sorted([self.prefix_from_filename(file) for file in notebooks])\n",
    "        # Check if a name is provided\n",
    "        if name is not None:\n",
    "            # Check if there is a notebook that matches the name\n",
    "            for file in notebooks:\n",
    "                cur_name = self.filename_without_prefix(file).replace('.ipynb', '')\n",
    "                basename = self.filename_without_prefix(name).replace('.ipynb', '')\n",
    "                if basename == cur_name:\n",
    "                    prefix = self.prefix_from_filename(file)\n",
    "                    prefix = self.int_to_prefix_int(prefix)\n",
    "                    return prefix\n",
    "\n",
    "        if maximal:\n",
    "            # Return the maximum prefix + 1\n",
    "            return self.int_to_prefix_int(max(prefixes) + 1)\n",
    "        \n",
    "        else:\n",
    "            # Return the smallest missing prefix\n",
    "            for i, prefix in enumerate(prefixes[:-1]):\n",
    "                nextix = prefixes[i + 1]\n",
    "                if nextix - prefix > 1:\n",
    "                    return self.int_to_prefix_int(prefix + 1)\n",
    "                "
   ]
  },
  {
   "cell_type": "code",
   "execution_count": null,
   "metadata": {},
   "outputs": [
    {
     "data": {
      "text/plain": [
       "'02'"
      ]
     },
     "execution_count": null,
     "metadata": {},
     "output_type": "execute_result"
    }
   ],
   "source": [
    "#| eval: False\n",
    "NotebookPrefixer(\n",
    "    os.path.dirname(os.path.abspath(os.path.join('./_utils'))), \n",
    "    name='utils'\n",
    ").next_nb_prefix()"
   ]
  },
  {
   "cell_type": "code",
   "execution_count": null,
   "metadata": {},
   "outputs": [],
   "source": [
    "#| export \n",
    "NBDEV_DEFAULT_EXP = '#| default_exp'\n",
    "AUTORELOAD = '%load_ext autoreload\\n%autoreload 2'\n",
    "NBDEV_SHOWDOC = '#| hide\\nfrom nbdev.showdoc import *'\n",
    "NBDEV_EXPORT = '#| hide\\nimport nbdev; nbdev.nbdev_export()'"
   ]
  },
  {
   "cell_type": "code",
   "execution_count": null,
   "metadata": {},
   "outputs": [],
   "source": [
    "#| export \n",
    "@dataclass\n",
    "class NotebookAggregator:\n",
    "    \"\"\"\n",
    "    A class to aggregate Jupyter notebooks.\n",
    "\n",
    "    Parameters\n",
    "    ----------\n",
    "    path : str\n",
    "        The path to the directory containing the notebooks.\n",
    "    module : Optional[str], optional\n",
    "        The name of the module, by default None\n",
    "    output : Optional[str], optional\n",
    "        The path to the output notebook, by default None\n",
    "    ignore : List[str], optional\n",
    "        A list of notebooks to ignore, by default []\n",
    "    \"\"\"\n",
    "    path: str\n",
    "\n",
    "    module: Optional[str] = None\n",
    "    output: Optional[str] = None\n",
    "    ignore: List[str] = field(default_factory=list)\n",
    "\n",
    "    prefix: Optional[Union[bool, str]] = True\n",
    "    prefix_dir: Optional[str] = None\n",
    "    \n",
    "    @property\n",
    "    def basename(self):\n",
    "        return os.path.basename(self.path)\n",
    "\n",
    "    @property\n",
    "    def dirname(self):\n",
    "        return os.path.dirname(self.path)\n",
    "    \n",
    "    @property\n",
    "    def notebooks(self):\n",
    "        notebooks = [\n",
    "            file for file in os.listdir(self.path) \n",
    "            if file.endswith('.ipynb') and file not in self.ignore\n",
    "        ]\n",
    "        notebooks = sorted(notebooks)\n",
    "        return notebooks\n",
    "\n",
    "    def __post_init__(self):\n",
    "        if not self.module:\n",
    "            self.module = self.basename\n",
    "\n",
    "        if not self.prefix_dir:\n",
    "            self.prefix_dir = self.dirname\n",
    "\n",
    "        if not self.output:\n",
    "            prefix = ''\n",
    "            if self.prefix == True:\n",
    "                prefix = f'{self.get_prefix()}_'\n",
    "\n",
    "            elif isinstance(self.prefix, str):\n",
    "                prefix = f'{self.prefix}_'\n",
    "            \n",
    "            self.output = os.path.join(self.dirname, f'{prefix}{self.module}.ipynb')\n",
    "\n",
    "    def nb_as_href(self, name: str):\n",
    "        return f'[{name}]({os.path.join(self.path, name)})'\n",
    "\n",
    "    def format_header(self):\n",
    "        res = f'# {self.module}\\n'\n",
    "        res += '> This notebook was generated from the following notebooks:\\n\\n'\n",
    "        for name in self.notebooks:\n",
    "            res += f'- {self.nb_as_href(name)}\\n'\n",
    "        return res\n",
    "    \n",
    "    def add_current_notebook_section(self, nb: NotebookNode, name: str):\n",
    "        head = name.lstrip('_').rstrip('.ipynb').replace('_', ' ')\n",
    "        if head.split()[0].isnumeric():\n",
    "            head = ' '.join(head.split()[1:])\n",
    "\n",
    "        nb['cells'].append(nbf.v4.new_markdown_cell(\n",
    "            f'## {head.capitalize()}\\n> This notebook was generated from {self.nb_as_href(name)})'\n",
    "        ))\n",
    "        return nb\n",
    "    \n",
    "    def write_nbdev_head(self, nb: NotebookNode):\n",
    "        # Add the first four cells\n",
    "        nb['cells'].append(nbf.v4.new_markdown_cell(self.format_header()))\n",
    "        nb['cells'].append(nbf.v4.new_code_cell(f'{NBDEV_DEFAULT_EXP} {self.module}'))\n",
    "        nb['cells'].append(nbf.v4.new_code_cell(AUTORELOAD))\n",
    "        nb['cells'].append(nbf.v4.new_code_cell(NBDEV_SHOWDOC))\n",
    "        return nb\n",
    "    \n",
    "    def write_nbdev_tail(self, nb: NotebookNode):  \n",
    "        # Add the final cell      \n",
    "        nb['cells'].append(nbf.v4.new_code_cell(NBDEV_EXPORT))\n",
    "        return nb\n",
    "    \n",
    "    def get_prefix(self):\n",
    "        prefixer = NotebookPrefixer(path=self.prefix_dir, name=self.module)\n",
    "        prefix = prefixer.next_nb_prefix()\n",
    "        return prefix\n",
    "\n",
    "    def aggregate(self):\n",
    "        new_nb = nbf.v4.new_notebook()\n",
    "        new_nb['cells'] = []\n",
    "\n",
    "        new_nb = self.write_nbdev_head(new_nb)\n",
    "\n",
    "        # Iterate over the notebooks\n",
    "        for nb_name in tqdm(self.notebooks, desc='Aggregating notebooks'):\n",
    "\n",
    "            # Read the notebook\n",
    "            with open(os.path.join(self.path, nb_name)) as f:\n",
    "                nb = nbf.read(f, as_version=4)\n",
    "\n",
    "            # Find the start and end cells\n",
    "            start_cell = next(i for i, cell in enumerate(nb.cells) if cell.source.strip() == NBDEV_SHOWDOC)\n",
    "            end_cell = next(i for i, cell in enumerate(nb.cells) if cell.source.strip() == NBDEV_EXPORT)\n",
    "\n",
    "            self.add_current_notebook_section(new_nb, nb_name)\n",
    "\n",
    "            # Add the cells to the new notebook\n",
    "            new_nb.cells.extend(nb.cells[start_cell+1:end_cell])\n",
    "\n",
    "        new_nb = self.write_nbdev_tail(new_nb)\n",
    "        with warnings.catch_warnings():\n",
    "            warnings.simplefilter(\"ignore\")\n",
    "            # Normalize the notebook\n",
    "            changes, new_nb = nbf.validator.normalize(new_nb)\n",
    "\n",
    "        # Write the new notebook\n",
    "        with open(self.output, 'w') as f:\n",
    "            nbf.write(new_nb, f)"
   ]
  },
  {
   "cell_type": "code",
   "execution_count": null,
   "metadata": {},
   "outputs": [],
   "source": [
    "#| eval: False\n",
    "nbagg = NotebookAggregator(\n",
    "    os.path.abspath(os.path.join('./_01_static')),\n",
    "    module='static',\n",
    "    ignore=['_00_init.ipynb']\n",
    ")"
   ]
  },
  {
   "cell_type": "code",
   "execution_count": null,
   "metadata": {},
   "outputs": [
    {
     "data": {
      "application/vnd.jupyter.widget-view+json": {
       "model_id": "4477e66244d64e258e39da933981751e",
       "version_major": 2,
       "version_minor": 0
      },
      "text/plain": [
       "Aggregating notebooks:   0%|          | 0/6 [00:00<?, ?it/s]"
      ]
     },
     "metadata": {},
     "output_type": "display_data"
    }
   ],
   "source": [
    "#| eval: False\n",
    "nbagg.aggregate()"
   ]
  },
  {
   "cell_type": "code",
   "execution_count": null,
   "metadata": {},
   "outputs": [
    {
     "data": {
      "application/vnd.jupyter.widget-view+json": {
       "model_id": "d88f3032219249f0b7a71d5246b619af",
       "version_major": 2,
       "version_minor": 0
      },
      "text/plain": [
       "Aggregating notebooks:   0%|          | 0/8 [00:00<?, ?it/s]"
      ]
     },
     "metadata": {},
     "output_type": "display_data"
    }
   ],
   "source": [
    "#| eval: False\n",
    "nbagg = NotebookAggregator(\n",
    "    os.path.abspath(os.path.join('./_02_utils')),\n",
    "    module='utils',\n",
    ")\n",
    "\n",
    "nbagg.aggregate()"
   ]
  },
  {
   "cell_type": "code",
   "execution_count": null,
   "metadata": {},
   "outputs": [
    {
     "data": {
      "application/vnd.jupyter.widget-view+json": {
       "model_id": "0f3f30da16fb4657b6ed6e67ee91196b",
       "version_major": 2,
       "version_minor": 0
      },
      "text/plain": [
       "Aggregating notebooks:   0%|          | 0/3 [00:00<?, ?it/s]"
      ]
     },
     "metadata": {},
     "output_type": "display_data"
    }
   ],
   "source": [
    "#| eval: False\n",
    "nbagg = NotebookAggregator(\n",
    "    os.path.abspath(os.path.join('./_03_types')),\n",
    "    module='types',\n",
    ")\n",
    "nbagg.aggregate()"
   ]
  },
  {
   "attachments": {},
   "cell_type": "markdown",
   "metadata": {},
   "source": [
    "## Jupyter-Notebook Logger"
   ]
  },
  {
   "cell_type": "code",
   "execution_count": null,
   "metadata": {},
   "outputs": [],
   "source": [
    "#| export\n",
    "import logging, inspect"
   ]
  },
  {
   "cell_type": "code",
   "execution_count": null,
   "metadata": {},
   "outputs": [],
   "source": [
    "#| export\n",
    "@dataclass\n",
    "class NotebookLogger(logging.Logger):\n",
    "    name: Optional[str]  = 'NotebookLogger'\n",
    "    level: Optional[int] = logging.INFO\n",
    "    \n",
    "    format: Optional[str] = '%(asctime)s - %(levelname)s - %(message)s'\n",
    "    \n",
    "    def __post_init__(self, *args, **kwargs):        \n",
    "        if isinstance(self.level, str):\n",
    "            self.level = logging.getLevelNamesMapping()[self.level.upper()]\n",
    "\n",
    "        defaults = dict(name=self.name, level=self.level)\n",
    "        kwargs.update(defaults)\n",
    "        params = inspect.signature(logging.Logger.__init__).parameters\n",
    "        kwargs = {k:v for k,v in kwargs.items() if k in params}        \n",
    "        super().__init__(**kwargs)\n",
    "\n",
    "        self.formatter = logging.Formatter(self.format)\n",
    "\n",
    "        self._stdout = sys.stdout\n",
    "        self._stderr = sys.stderr\n",
    "\n",
    "        # Add the stream handler to the Jupyter logger\n",
    "        self._stream_handler = logging.StreamHandler(self._stdout)\n",
    "        self._stream_handler.setFormatter(self.formatter)\n",
    "        self.addHandler(self._stream_handler)\n",
    "        \n",
    "        self._stderr_handler = logging.StreamHandler(self._stderr)\n",
    "        self._stderr_handler.setLevel(logging.ERROR)\n",
    "        self._stderr_handler.setFormatter(self.formatter)\n",
    "        self.addHandler(self._stderr_handler)\n",
    "\n",
    "    def __del__(self):\n",
    "        self.removeHandler(self._stream_handler)\n",
    "        self.removeHandler(self._stderr_handler)"
   ]
  },
  {
   "cell_type": "code",
   "execution_count": null,
   "metadata": {},
   "outputs": [],
   "source": [
    "#| hide\n",
    "import nbdev; nbdev.nbdev_export()"
   ]
  }
 ],
 "metadata": {
  "kernelspec": {
   "display_name": "python3",
   "language": "python",
   "name": "python3"
  }
 },
 "nbformat": 4,
 "nbformat_minor": 2
}
