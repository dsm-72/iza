{
 "cells": [
  {
   "attachments": {},
   "cell_type": "markdown",
   "metadata": {},
   "source": [
    "# Constants Adata\n",
    "\n",
    "> constants adata."
   ]
  },
  {
   "cell_type": "code",
   "execution_count": null,
   "metadata": {},
   "outputs": [],
   "source": [
    "#| default_exp constants.adata"
   ]
  },
  {
   "cell_type": "code",
   "execution_count": null,
   "metadata": {},
   "outputs": [],
   "source": [
    "#| hide\n",
    "from nbdev.showdoc import *"
   ]
  },
  {
   "attachments": {},
   "cell_type": "markdown",
   "metadata": {},
   "source": [
    "## Literals"
   ]
  },
  {
   "attachments": {},
   "cell_type": "markdown",
   "metadata": {},
   "source": [
    "### MetaData"
   ]
  },
  {
   "cell_type": "code",
   "execution_count": null,
   "metadata": {},
   "outputs": [],
   "source": [
    "#| export\n",
    "OBS = 'obs'\n",
    "VAR = 'var'\n",
    "\n",
    "OBSM = f'{OBS}m'\n",
    "VARM = f'{VAR}m'\n",
    "\n",
    "OBSP = f'{OBS}p'\n",
    "VARP = f'{VAR}p'\n",
    "\n",
    "UNS = 'UNS'\n",
    "LAYER = 'layer'\n",
    "LAYERS = 'layers'"
   ]
  },
  {
   "attachments": {},
   "cell_type": "markdown",
   "metadata": {},
   "source": [
    "### Embeddings"
   ]
  },
  {
   "cell_type": "code",
   "execution_count": null,
   "metadata": {},
   "outputs": [],
   "source": [
    "#| export\n",
    "HVG = 'hvg'\n",
    "\n",
    "PCA = 'pca'\n",
    "UMAP = 'umap'\n",
    "TSNE = 'tsne'\n",
    "PHATE = 'phate'\n",
    "MAGIC = 'magic'"
   ]
  },
  {
   "attachments": {},
   "cell_type": "markdown",
   "metadata": {},
   "source": [
    "### DataFrame Columns"
   ]
  },
  {
   "cell_type": "code",
   "execution_count": null,
   "metadata": {},
   "outputs": [],
   "source": [
    "#| export\n",
    "CELL = 'cell'\n",
    "CELLS = f'{CELL}s'\n",
    "BARCODE = 'barcode'\n",
    "BARCODES = f'{BARCODE}s'"
   ]
  },
  {
   "attachments": {},
   "cell_type": "markdown",
   "metadata": {},
   "source": [
    "### Adata"
   ]
  },
  {
   "cell_type": "code",
   "execution_count": null,
   "metadata": {},
   "outputs": [],
   "source": [
    "#| export\n",
    "ID = 'id'\n",
    "MITO = 'mito'\n",
    "RIBO = 'ribo'\n",
    "GENE = 'gene'\n",
    "GENE_ID = f'{GENE}_id'\n",
    "GENE_IDS = f'{GENE_ID}s'\n",
    "GENE_SYMBOL = f'{GENE}_symbol'\n",
    "HIGHLY_VARIABLE = 'highly_variable'\n",
    "\n",
    "ENSEMBL = 'ensembl'\n",
    "ENSEMBL_ID = f'{ENSEMBL}_id'\n",
    "\n",
    "HUMAN = 'human'\n",
    "MOUSE = 'mouse'\n",
    "\n",
    "HUMAN_TF = f'{HUMAN}TFs'\n",
    "MOUSE_TF = f'{MOUSE}TFs'\n",
    "\n",
    "HUMAN_GENE_SYMBOL = f'{HUMAN}GeneSymbol'\n",
    "HUMAN_ENSEMBLE_ID = f'{HUMAN}EnsemblID'\n",
    "MOUSE_ENSEMBLE_ID = f'{MOUSE}EnsemblID'\n",
    "\n",
    "BATCH = 'batch'\n",
    "TIMEPOINT = 'timepoint'\n",
    "TIMEPOINTS = f'{TIMEPOINT}s'\n",
    "TOTAL_COUNTS = 'total_counts'\n",
    "DOUBLET = 'doublet'\n",
    "DOUBLET_SCORES = f'{DOUBLET}_scores'\n",
    "PREDICTED_DOUBLETS = f'predicted_{DOUBLET}s'\n",
    "\n",
    "PRENORM = 'prenorm'\n",
    "DETECTED = 'detected'\n",
    "SCALED_NORMALIZED = 'scaled_normalized'\n",
    "\n",
    "\n",
    "COUNTS = 'counts'\n",
    "PCT = 'pct'\n",
    "PERCENT = 'percent'\n",
    "PCT_COUNTS = f'{PCT}_{COUNTS}'\n",
    "PCT_COUNTS_MITO = f'{PCT}_{COUNTS}_{MITO}'\n",
    "PCT_COUNTS_RIBO = f'{PCT}_{COUNTS}_{RIBO}'"
   ]
  },
  {
   "cell_type": "code",
   "execution_count": null,
   "metadata": {},
   "outputs": [],
   "source": [
    "#| export\n",
    "_ = '_'\n",
    "X = 'X'\n",
    "X_ = f'{X}{_}'"
   ]
  },
  {
   "cell_type": "code",
   "execution_count": null,
   "metadata": {},
   "outputs": [],
   "source": [
    "#| export\n",
    "# Layer storing prenormalized counts in adata.layers\n",
    "X_PRENORM = f'{X_}{PRENORM}'\n",
    "\n",
    "# Layer storing values where prenormalized counts is at least 0 in adata.layers\n",
    "X_DETECTED = f'{X_}{DETECTED}'\n",
    "\n",
    "# Layer storing counts normalized\n",
    "X_SCALED_NORMALIZED = f'{X_}{SCALED_NORMALIZED}'\n",
    "\n",
    "# Layer storing MAGIC embedding in adata.obsm\n",
    "X_MAGIC = f'{X_}{MAGIC}'\n",
    "\n",
    "# Layer storing PCA embedding in adata.obsm\n",
    "X_PCA = f'{X_}{PCA}'\n",
    "\n",
    "# Layer storing PCA embedding just on HVGs in adata.obsm\n",
    "X_PCA_HVG = f'{X_}{PCA}_{HVG}'\n",
    "\n",
    "# Layer storing PHATE embedding just in adata.obsm\n",
    "X_PHATE = f'{X_}{PHATE}'\n",
    "\n",
    "# Layer storing PHATE embedding just on HVGs in adata.obsm\n",
    "X_PHATE_HVG = f'{X_}{PHATE}_{HVG}'"
   ]
  },
  {
   "attachments": {},
   "cell_type": "markdown",
   "metadata": {},
   "source": [
    "### Files and Dirs"
   ]
  },
  {
   "cell_type": "code",
   "execution_count": null,
   "metadata": {},
   "outputs": [],
   "source": [
    "#| export\n",
    "ADATA = 'adata'\n",
    "MATRIX = 'matrix'\n",
    "FEATURES = 'features'\n",
    "SENSITIVITY = 'sensitivity'"
   ]
  },
  {
   "attachments": {},
   "cell_type": "markdown",
   "metadata": {},
   "source": [
    "### FluentBio"
   ]
  },
  {
   "cell_type": "code",
   "execution_count": null,
   "metadata": {},
   "outputs": [],
   "source": [
    "#| export\n",
    "AMAZON_BUCKET_FLUENTBIO = 'https://fbs-public.s3.us-east-2.amazonaws.com'"
   ]
  },
  {
   "cell_type": "code",
   "execution_count": null,
   "metadata": {},
   "outputs": [],
   "source": [
    "#| hide\n",
    "import nbdev; nbdev.nbdev_export()"
   ]
  }
 ],
 "metadata": {
  "kernelspec": {
   "display_name": "python3",
   "language": "python",
   "name": "python3"
  }
 },
 "nbformat": 4,
 "nbformat_minor": 2
}
