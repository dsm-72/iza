{
 "cells": [
  {
   "attachments": {},
   "cell_type": "markdown",
   "metadata": {},
   "source": [
    "# Constant Files\n",
    "\n",
    "> constant files."
   ]
  },
  {
   "cell_type": "code",
   "execution_count": null,
   "metadata": {},
   "outputs": [],
   "source": [
    "#| default_exp constants.files"
   ]
  },
  {
   "cell_type": "code",
   "execution_count": null,
   "metadata": {},
   "outputs": [],
   "source": [
    "#| hide\n",
    "from nbdev.showdoc import *"
   ]
  },
  {
   "attachments": {},
   "cell_type": "markdown",
   "metadata": {},
   "source": [
    "## Extensions"
   ]
  },
  {
   "cell_type": "code",
   "execution_count": null,
   "metadata": {},
   "outputs": [],
   "source": [
    "#| export\n",
    "PERIOD = '.'"
   ]
  },
  {
   "cell_type": "code",
   "execution_count": null,
   "metadata": {},
   "outputs": [],
   "source": [
    "#| export\n",
    "GZ = f'gz'\n",
    "H5 = f'h5'\n",
    "CSV = f'csv'\n",
    "MTX = f'mtx'\n",
    "TAR = f'tar'\n",
    "TSV = f'tsv'\n",
    "PY = f'py'\n",
    "NPY = f'npy'\n",
    "NPZ = f'npz'\n",
    "TXT = f'txt'\n",
    "JSON = f'json'\n",
    "ZIP = f'zip'\n",
    "IPYNB = f'ipynb'"
   ]
  },
  {
   "cell_type": "code",
   "execution_count": null,
   "metadata": {},
   "outputs": [],
   "source": [
    "#| export\n",
    "EXT_GZ = f'{PERIOD}{GZ}'\n",
    "EXT_H5 = f'{PERIOD}{H5}'\n",
    "EXT_CSV = f'{PERIOD}{CSV}'\n",
    "EXT_MTX = f'{PERIOD}{MTX}'\n",
    "EXT_TAR = f'{PERIOD}{TAR}'\n",
    "EXT_TSV = f'{PERIOD}{TSV}'\n",
    "EXT_TAR_GZ = f'{EXT_TAR}{EXT_GZ}'\n",
    "EXT_PY = f'{PERIOD}{PY}'\n",
    "EXT_NPY = f'{PERIOD}{NPY}'\n",
    "EXT_NPZ = f'{PERIOD}{NPZ}'\n",
    "EXT_TXT = f'{PERIOD}{TXT}'\n",
    "EXT_JSON = f'{PERIOD}{JSON}'\n",
    "EXT_ZIP = f'{PERIOD}{ZIP}'\n",
    "EXT_IPYNB = f'{PERIOD}{IPYNB}'"
   ]
  },
  {
   "cell_type": "code",
   "execution_count": null,
   "metadata": {},
   "outputs": [],
   "source": [
    "#| hide\n",
    "import nbdev; nbdev.nbdev_export()"
   ]
  }
 ],
 "metadata": {
  "kernelspec": {
   "display_name": "python3",
   "language": "python",
   "name": "python3"
  }
 },
 "nbformat": 4,
 "nbformat_minor": 2
}
