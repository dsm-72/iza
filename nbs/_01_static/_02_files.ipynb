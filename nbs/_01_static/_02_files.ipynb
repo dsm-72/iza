{
 "cells": [
  {
   "attachments": {},
   "cell_type": "markdown",
   "metadata": {},
   "source": [
    "# Constant Files\n",
    "\n",
    "> constant files."
   ]
  },
  {
   "cell_type": "code",
   "execution_count": null,
   "metadata": {},
   "outputs": [],
   "source": [
    "#| default_exp constants.files"
   ]
  },
  {
   "cell_type": "code",
   "execution_count": null,
   "metadata": {},
   "outputs": [],
   "source": [
    "#| hide\n",
    "from nbdev.showdoc import *"
   ]
  },
  {
   "attachments": {},
   "cell_type": "markdown",
   "metadata": {},
   "source": [
    "## Extensions"
   ]
  },
  {
   "cell_type": "code",
   "execution_count": null,
   "metadata": {},
   "outputs": [],
   "source": [
    "#| export\n",
    "PERIOD = '.'"
   ]
  },
  {
   "cell_type": "code",
   "execution_count": null,
   "metadata": {},
   "outputs": [],
   "source": [
    "#| export\n",
    "GZ = f'gz'\n",
    "H5 = f'h5'\n",
    "PT = f'pt'\n",
    "PY = f'py'\n",
    "\n",
    "BED = f'bed'\n",
    "CSV = f'csv'\n",
    "MTX = f'mtx'\n",
    "TAR = f'tar'\n",
    "TSV = f'tsv'\n",
    "NPY = f'npy'\n",
    "NPZ = f'npz'\n",
    "TXT = f'txt'\n",
    "PIP = f'pip'\n",
    "PTH = f'pth'\n",
    "ZIP = f'zip'\n",
    "\n",
    "JSON = f'json'\n",
    "H5AD = f'h5ad'\n",
    "IPYNB = f'ipynb'\n",
    "\n",
    "ARROW = 'arrow'\n",
    "FASTA = 'fasta'\n",
    "PARQUET = 'parquet'\n"
   ]
  },
  {
   "cell_type": "code",
   "execution_count": null,
   "metadata": {},
   "outputs": [],
   "source": [
    "#| export\n",
    "EXT_GZ = f'{PERIOD}{GZ}'\n",
    "EXT_H5 = f'{PERIOD}{H5}'\n",
    "EXT_PT = f'{PERIOD}{PT}'\n",
    "EXT_PY = f'{PERIOD}{PY}'\n",
    "\n",
    "EXT_BED = f'{PERIOD}{BED}'\n",
    "EXT_CSV = f'{PERIOD}{CSV}'\n",
    "EXT_MTX = f'{PERIOD}{MTX}'\n",
    "EXT_TAR = f'{PERIOD}{TAR}'\n",
    "EXT_TSV = f'{PERIOD}{TSV}'\n",
    "EXT_NPY = f'{PERIOD}{NPY}'\n",
    "EXT_NPZ = f'{PERIOD}{NPZ}'\n",
    "EXT_TXT = f'{PERIOD}{TXT}'\n",
    "EXT_PIP = f'{PERIOD}{PIP}'\n",
    "EXT_PTH = f'{PERIOD}{PTH}'\n",
    "EXT_ZIP = f'{PERIOD}{ZIP}'\n",
    "\n",
    "EXT_JSON = f'{PERIOD}{JSON}'\n",
    "EXT_H5AD = f'{PERIOD}{H5AD}'\n",
    "EXT_IPYNB = f'{PERIOD}{IPYNB}'\n",
    "\n",
    "EXT_ARROW = f'{PERIOD}{ARROW}'\n",
    "EXT_FASTA = f'{PERIOD}{FASTA}'\n",
    "\n",
    "EXT_PARQUET = f'{PERIOD}{PARQUET}'\n",
    "\n",
    "EXT_TAR_GZ = f'{EXT_TAR}{EXT_GZ}'"
   ]
  },
  {
   "cell_type": "code",
   "execution_count": null,
   "metadata": {},
   "outputs": [],
   "source": [
    "#| hide\n",
    "import nbdev; nbdev.nbdev_export()"
   ]
  }
 ],
 "metadata": {
  "kernelspec": {
   "display_name": "python3",
   "language": "python",
   "name": "python3"
  }
 },
 "nbformat": 4,
 "nbformat_minor": 2
}
