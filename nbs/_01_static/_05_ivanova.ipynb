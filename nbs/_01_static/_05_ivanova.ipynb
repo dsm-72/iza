{
 "cells": [
  {
   "attachments": {},
   "cell_type": "markdown",
   "metadata": {},
   "source": [
    "# Constants Ivanova\n",
    "\n",
    "> constants Ivanova."
   ]
  },
  {
   "cell_type": "code",
   "execution_count": null,
   "metadata": {},
   "outputs": [],
   "source": [
    "#| default_exp static.ivanova"
   ]
  },
  {
   "cell_type": "code",
   "execution_count": null,
   "metadata": {},
   "outputs": [],
   "source": [
    "#| hide\n",
    "from nbdev.showdoc import *"
   ]
  },
  {
   "cell_type": "code",
   "execution_count": null,
   "metadata": {},
   "outputs": [],
   "source": [
    "#| export\n",
    "import itertools"
   ]
  },
  {
   "attachments": {},
   "cell_type": "markdown",
   "metadata": {},
   "source": [
    "### Lineages"
   ]
  },
  {
   "cell_type": "code",
   "execution_count": null,
   "metadata": {},
   "outputs": [],
   "source": [
    "#| export\n",
    "LINEAGE_ESC = 'esc'\n",
    "LINEAGE_PREGERM = 'pregerm'\n",
    "LINEAGE_NEURAL_CREST = 'neural_crest'\n",
    "LINEAGE_NEURAL_PROG = 'neural_prog'\n",
    "LINEAGE_ENDO = 'endo'\n",
    "LINEAGE_MESO = 'meso'\n",
    "LINEAGE_CARDIAC = 'cardiac'\n",
    "LINEAGE_HEMA = 'hema'\n",
    "LINEAGE_SOMITES = 'somites'\n",
    "LINEAGE_TROPHOBLAST = 'trophblast'\n",
    "LINEAGE_ALL = 'all'"
   ]
  },
  {
   "cell_type": "code",
   "execution_count": null,
   "metadata": {},
   "outputs": [],
   "source": [
    "#| export\n",
    "LINEAGE_NAMES = [\n",
    "    LINEAGE_ESC, LINEAGE_PREGERM, LINEAGE_NEURAL_CREST,\n",
    "    LINEAGE_NEURAL_PROG, LINEAGE_ENDO, LINEAGE_MESO,\n",
    "    LINEAGE_CARDIAC, LINEAGE_HEMA, LINEAGE_SOMITES,\n",
    "    LINEAGE_TROPHOBLAST, LINEAGE_ALL\n",
    "]"
   ]
  },
  {
   "attachments": {},
   "cell_type": "markdown",
   "metadata": {},
   "source": [
    "### Markers"
   ]
  },
  {
   "cell_type": "code",
   "execution_count": null,
   "metadata": {},
   "outputs": [],
   "source": [
    "#| export\n",
    "MARKERS_ESC = ['POU5F1', 'PRDM14', 'NANOG', 'SOX2', 'DPPA4', 'NR2F6', 'OTX2']\n",
    "MARKERS_PREGERM = ['TP53','NR6A1','GBX2','ZIC2','ZIC5']\n",
    "MARKERS_NEURAL_CREST = ['PAX3','FOXD3','ITGA4','EDNRB','SOX9','SOX10']\n",
    "MARKERS_NEURAL_PROG = ['NES','MAP2','PAX6','SOX1','ZBTB16','ONECUT1', 'ONECUT2','NR2F1','ISL1','NPAS1','EN2','SOX2','NEUROD1']\n",
    "MARKERS_ENDO = ['EOMES','FOXA2','SOX17','GATA4','GATA6','HHEX']\n",
    "MARKERS_MESO = ['MIXL1','CER1']\n",
    "MARKERS_CARDIAC = ['NKX2-5','GATA4','MYBPC2','TTN','TNNT2','MYH6','TBX5']\n",
    "MARKERS_HEMA = ['NKX2-5','TAL1','SOX17','CD34','PECAM1','CD69','CXCR4','CDH5','KDR','LMO2']\n",
    "MARKERS_SOMITES = ['WT1','TBX18','TBX15','PDGFRA','SIX2','TBX5']\n",
    "MARKERS_TROPHOBLAST = ['GATA3','TP63','ITGA6','CDH1']"
   ]
  },
  {
   "cell_type": "code",
   "execution_count": null,
   "metadata": {},
   "outputs": [],
   "source": [
    "#| export\n",
    "MARKERS_LISTS =  [\n",
    "    MARKERS_ESC, MARKERS_PREGERM, MARKERS_NEURAL_CREST,\n",
    "    MARKERS_NEURAL_PROG, MARKERS_ENDO, MARKERS_MESO, \n",
    "    MARKERS_CARDIAC, MARKERS_HEMA, MARKERS_SOMITES, \n",
    "    MARKERS_TROPHOBLAST,\n",
    "]\n",
    "MARKERS_ALL = list(itertools.chain(*MARKERS_LISTS))\n",
    "MARKERS_LISTS.append(MARKERS_ALL)"
   ]
  },
  {
   "attachments": {},
   "cell_type": "markdown",
   "metadata": {},
   "source": [
    "### Combined"
   ]
  },
  {
   "cell_type": "code",
   "execution_count": null,
   "metadata": {},
   "outputs": [],
   "source": [
    "#| export\n",
    "LINEAGE_MARKERS = dict(zip(LINEAGE_NAMES, MARKERS_LISTS))"
   ]
  },
  {
   "cell_type": "code",
   "execution_count": null,
   "metadata": {},
   "outputs": [],
   "source": [
    "#| hide\n",
    "import nbdev; nbdev.nbdev_export()"
   ]
  }
 ],
 "metadata": {
  "kernelspec": {
   "display_name": "python3",
   "language": "python",
   "name": "python3"
  }
 },
 "nbformat": 4,
 "nbformat_minor": 2
}
