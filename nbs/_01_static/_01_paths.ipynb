{
 "cells": [
  {
   "attachments": {},
   "cell_type": "markdown",
   "metadata": {},
   "source": [
    "# Constant Paths\n",
    "\n",
    "> constant paths."
   ]
  },
  {
   "cell_type": "code",
   "execution_count": null,
   "metadata": {},
   "outputs": [],
   "source": [
    "#| default_exp constants.paths"
   ]
  },
  {
   "cell_type": "code",
   "execution_count": null,
   "metadata": {},
   "outputs": [],
   "source": [
    "#| hide\n",
    "from nbdev.showdoc import *"
   ]
  },
  {
   "cell_type": "code",
   "execution_count": null,
   "metadata": {},
   "outputs": [],
   "source": [
    "#| export\n",
    "import os, sys, pkg_resources"
   ]
  },
  {
   "cell_type": "code",
   "execution_count": null,
   "metadata": {},
   "outputs": [],
   "source": [
    "#| export\n",
    "'''----------------------------------------------------\n",
    "NOTE: RELATIVE DEFINITIONS\n",
    "----------------------------------------------------'''\n",
    "\n",
    "# nbdev nbs directory, i.e. `nbs/``\n",
    "NBKS_DIR = os.path.abspath('')\n",
    "\n",
    "# project root directory\n",
    "ROOT_DIR = os.path.join(NBKS_DIR, '..')\n",
    "\n",
    "# where example notebooks are stored, i.e. `examples/`\n",
    "EXPL_DIR = os.path.join(ROOT_DIR, 'examples')\n",
    "\n",
    "# where small data is stored, i.e. `data/`\n",
    "DATA_DIR = os.path.join(ROOT_DIR, 'data')\n",
    "\n",
    "# where small data is stored, i.e. `results/`\n",
    "RESULTS_DIR = os.path.join(ROOT_DIR, 'results')\n",
    "\n",
    "# where small data is stored, i.e. `figures/`\n",
    "FIGURES_DIR = os.path.join(ROOT_DIR, 'figures')\n",
    "\n",
    "IZALITH_DATA_DIR = os.path.expanduser('~/Data')\n",
    "\n",
    "GIBBS_DATA_DIR = '/gpfs/gibbs/pi/krishnaswamy_smita'"
   ]
  },
  {
   "cell_type": "code",
   "execution_count": null,
   "metadata": {},
   "outputs": [],
   "source": [
    "#| hide\n",
    "import nbdev; nbdev.nbdev_export()"
   ]
  }
 ],
 "metadata": {
  "kernelspec": {
   "display_name": "python3",
   "language": "python",
   "name": "python3"
  }
 },
 "nbformat": 4,
 "nbformat_minor": 2
}
