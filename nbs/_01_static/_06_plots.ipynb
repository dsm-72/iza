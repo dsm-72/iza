{
 "cells": [
  {
   "attachments": {},
   "cell_type": "markdown",
   "metadata": {},
   "source": [
    "# Constants Plots\n",
    "\n",
    "> constants plots."
   ]
  },
  {
   "cell_type": "code",
   "execution_count": null,
   "metadata": {},
   "outputs": [],
   "source": [
    "#| default_exp static.plots"
   ]
  },
  {
   "cell_type": "code",
   "execution_count": null,
   "metadata": {},
   "outputs": [],
   "source": [
    "#| hide\n",
    "from nbdev.showdoc import *"
   ]
  },
  {
   "attachments": {},
   "cell_type": "markdown",
   "metadata": {},
   "source": [
    "### Default Params for MatPlotLib"
   ]
  },
  {
   "cell_type": "code",
   "execution_count": null,
   "metadata": {},
   "outputs": [],
   "source": [
    "#| export\n",
    "RC_PARAMS = {\n",
    "    'axes.axisbelow': False,\n",
    "    'axes.edgecolor': 'lightgrey',\n",
    "    'axes.facecolor': 'None',\n",
    "    'axes.grid': False,\n",
    "    'axes.labelcolor': 'dimgrey',\n",
    "    'axes.spines.right': False,\n",
    "    'axes.spines.top': False,\n",
    "    'figure.facecolor': 'white',\n",
    "    'lines.solid_capstyle': 'round',\n",
    "    'patch.edgecolor': 'w',\n",
    "    'patch.force_edgecolor': True,\n",
    "    'text.color': 'dimgrey',\n",
    "    'xtick.bottom': False,\n",
    "    'xtick.color': 'dimgrey',\n",
    "    'xtick.direction': 'out',\n",
    "    'xtick.top': False,\n",
    "    'ytick.color': 'dimgrey',\n",
    "    'ytick.direction': 'out',\n",
    "    'ytick.left': False,\n",
    "    'ytick.right': False,\n",
    "    'font.size': 12,\n",
    "    'axes.titlesize': 10,\n",
    "    'axes.labelsize': 12\n",
    "}"
   ]
  },
  {
   "cell_type": "code",
   "execution_count": null,
   "metadata": {},
   "outputs": [],
   "source": [
    "#| hide\n",
    "import nbdev; nbdev.nbdev_export()"
   ]
  }
 ],
 "metadata": {
  "kernelspec": {
   "display_name": "python3",
   "language": "python",
   "name": "python3"
  }
 },
 "nbformat": 4,
 "nbformat_minor": 2
}
