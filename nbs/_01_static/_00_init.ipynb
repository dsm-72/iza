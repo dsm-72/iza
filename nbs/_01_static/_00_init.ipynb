{
 "cells": [
  {
   "attachments": {},
   "cell_type": "markdown",
   "metadata": {},
   "source": [
    "# Constants init\n",
    "\n",
    "> constants init."
   ]
  },
  {
   "cell_type": "code",
   "execution_count": null,
   "metadata": {},
   "outputs": [],
   "source": [
    "#| default_exp static"
   ]
  },
  {
   "cell_type": "code",
   "execution_count": 1,
   "metadata": {},
   "outputs": [],
   "source": [
    "#| hide\n",
    "from nbdev.showdoc import *"
   ]
  },
  {
   "cell_type": "code",
   "execution_count": 2,
   "metadata": {},
   "outputs": [],
   "source": [
    "#| export\n",
    "import os, sys, pkg_resources, pprint"
   ]
  },
  {
   "attachments": {},
   "cell_type": "markdown",
   "metadata": {},
   "source": [
    "## Notebook Finder"
   ]
  },
  {
   "attachments": {},
   "cell_type": "markdown",
   "metadata": {},
   "source": [
    "Use `nbs.NotebookFinder` to read in Jupyter Notebooks as modules"
   ]
  },
  {
   "cell_type": "code",
   "execution_count": 3,
   "metadata": {},
   "outputs": [],
   "source": [
    "#| eval: False\n",
    "# from iza.nbs import NotebookFinder, NotebookViewer"
   ]
  },
  {
   "cell_type": "code",
   "execution_count": 4,
   "metadata": {},
   "outputs": [],
   "source": [
    "#| eval: False\n",
    "# sys.meta_path.append(NotebookFinder())"
   ]
  },
  {
   "cell_type": "code",
   "execution_count": null,
   "metadata": {},
   "outputs": [],
   "source": [
    "#| eval: False\n",
    "# nbv = NotebookViewer(os.path.abspath('./_01_paths.ipynb'))\n",
    "# nbv.show_cell(4)"
   ]
  },
  {
   "cell_type": "code",
   "execution_count": 5,
   "metadata": {},
   "outputs": [
    {
     "name": "stdout",
     "output_type": "stream",
     "text": [
      "importing Jupyter notebook from _01_paths.ipynb\n",
      "importing Jupyter notebook from _02_files.ipynb\n",
      "importing Jupyter notebook from _03_names.ipynb\n",
      "importing Jupyter notebook from _04_adata.ipynb\n"
     ]
    }
   ],
   "source": [
    "# #| eval: False\n",
    "# import _01_paths\n",
    "# import _02_files\n",
    "# import _03_names\n",
    "# import _04_adata"
   ]
  },
  {
   "attachments": {},
   "cell_type": "markdown",
   "metadata": {},
   "source": [
    "Simple utility for copy-pasting strings into cells "
   ]
  },
  {
   "cell_type": "code",
   "execution_count": 6,
   "metadata": {},
   "outputs": [],
   "source": [
    "#| eval: False\n",
    "def copy_to_clipboard(text):\n",
    "    command = \"\"\n",
    "    \n",
    "    if os.name == 'posix':  # macOS and Linux\n",
    "        command = 'echo \"' + text + '\" | pbcopy'\n",
    "    \n",
    "    elif os.name == 'nt':  # Windows\n",
    "        command = 'echo ' + text + ' | clip'\n",
    "\n",
    "    else:\n",
    "        raise OSError(\"Unsupported operating system\")\n",
    "\n",
    "    os.system(command)"
   ]
  },
  {
   "cell_type": "code",
   "execution_count": 7,
   "metadata": {},
   "outputs": [],
   "source": [
    "# #| eval: False\n",
    "# VAR_FIELDS = []\n",
    "# VAR_VALUES = []\n",
    "\n",
    "# for module in [_01_paths, _02_files, _03_names, _04_adata]:\n",
    "#     module.__all__ = [name for name in dir(module) if not name.startswith('_') and name.isupper()]\n",
    "#     module.__constants__ = [vars(module)[k] for k in module.__all__]\n",
    "    \n",
    "#     VAR_FIELDS.extend(module.__all__)\n",
    "#     VAR_VALUES.extend(module.__constants__)"
   ]
  },
  {
   "cell_type": "code",
   "execution_count": 8,
   "metadata": {},
   "outputs": [],
   "source": [
    "# #| eval: False\n",
    "# module_str = ''\n",
    "# for module in [_01_paths, _02_files, _03_names, _04_adata]:\n",
    "#     module_str += f'from .{module.__name__} import *\\n'\n",
    "# copy_to_clipboard(module_str)"
   ]
  },
  {
   "cell_type": "code",
   "execution_count": 9,
   "metadata": {},
   "outputs": [],
   "source": [
    "#| eval: False\n",
    "# from ._01_paths import *\n",
    "# from ._02_files import *\n",
    "# from ._03_names import *\n",
    "# from ._04_adata import *"
   ]
  },
  {
   "cell_type": "code",
   "execution_count": 10,
   "metadata": {},
   "outputs": [],
   "source": [
    "# #| eval: False\n",
    "# __all_str__ = '__all__ = ' + pprint.pformat(VAR_FIELDS, compact=True)\n",
    "# copy_to_clipboard(__all_str__)"
   ]
  },
  {
   "cell_type": "code",
   "execution_count": null,
   "metadata": {},
   "outputs": [],
   "source": [
    "#| eval: False\n",
    "__all__ = ['DATA_DIR', 'EXPL_DIR', 'FIGURES_DIR', 'NBKS_DIR', 'RESULTS_DIR', 'ROOT_DIR',\n",
    " 'CSV', 'EXT_CSV', 'EXT_GZ', 'EXT_H5', 'EXT_MTX', 'EXT_TAR', 'EXT_TAR_GZ',\n",
    " 'EXT_TSV', 'GZ', 'H5', 'MTX', 'PERIOD', 'TAR', 'TSV', 'CONDITION',\n",
    " 'CONDITIONS', 'ITEM', 'LABEL', 'SAMPLES', 'SERIES', 'TIME', 'ADATA', 'BARCODE',\n",
    " 'BARCODES', 'BATCH', 'CELL', 'COUNTS', 'DETECTED', 'DOUBLET', 'DOUBLET_SCORES',\n",
    " 'EMB_MAGIC', 'EMB_PCA', 'EMB_PCA_HVG', 'EMB_PHATE', 'EMB_PHATE_HVG',\n",
    " 'FEATURES', 'GENE', 'GENE_ID', 'GENE_SYMBOL', 'HIGHLY_VARIABLE', 'HUMAN',\n",
    " 'HUMAN_ENSEMBLE_ID', 'HUMAN_GENE_SYMBOL', 'HUMAN_TF', 'HVG', 'ID',\n",
    " 'LAYER_DETECTED', 'LAYER_PRENORM', 'LAYER_SCALED_NORMALIZED', 'MAGIC',\n",
    " 'MATRIX', 'MITO', 'MOUSE', 'MOUSE_ENSEMBLE_ID', 'MOUSE_TF', 'PCA', 'PCT',\n",
    " 'PCT_COUNTS', 'PCT_COUNTS_MITO', 'PCT_COUNTS_RIBO', 'PERCENT', 'PHATE',\n",
    " 'PREDICTED_DOUBLETS', 'PRENORM', 'RIBO', 'SCALED_NORMALIZED', 'SENSITIVITY',\n",
    " 'TIMEPOINT', 'TOTAL_COUNTS', 'TSNE', 'UMAP', 'X', 'X_']"
   ]
  },
  {
   "cell_type": "code",
   "execution_count": null,
   "metadata": {},
   "outputs": [],
   "source": [
    "# #| eval: False\n",
    "# dict_str = pprint.pformat(dict(zip(VAR_FIELDS, VAR_FIELDS)), compact=True)\n",
    "# vars_str = ''\n",
    "# for key_value in dict_str.lstrip('{').rstrip('}').split('\\n'):\n",
    "#     key, val = key_value.split(':')\n",
    "#     key = key.replace(\"'\", '').strip()\n",
    "#     val = val.replace(',', '').strip()\n",
    "#     vars_str += f'{key} = {val}\\n'\n",
    "# copy_to_clipboard(vars_str)"
   ]
  },
  {
   "cell_type": "code",
   "execution_count": null,
   "metadata": {},
   "outputs": [],
   "source": [
    "#| export\n",
    "ADATA = 'ADATA'\n",
    "BARCODE = 'BARCODE'\n",
    "BARCODES = 'BARCODES'\n",
    "BATCH = 'BATCH'\n",
    "CELL = 'CELL'\n",
    "CONDITION = 'CONDITION'\n",
    "CONDITIONS = 'CONDITIONS'\n",
    "COUNTS = 'COUNTS'\n",
    "CSV = 'CSV'\n",
    "DATA_DIR = 'DATA_DIR'\n",
    "DETECTED = 'DETECTED'\n",
    "DOUBLET = 'DOUBLET'\n",
    "DOUBLET_SCORES = 'DOUBLET_SCORES'\n",
    "EMB_MAGIC = 'EMB_MAGIC'\n",
    "EMB_PCA = 'EMB_PCA'\n",
    "EMB_PCA_HVG = 'EMB_PCA_HVG'\n",
    "EMB_PHATE = 'EMB_PHATE'\n",
    "EMB_PHATE_HVG = 'EMB_PHATE_HVG'\n",
    "EXPL_DIR = 'EXPL_DIR'\n",
    "EXT_CSV = 'EXT_CSV'\n",
    "EXT_GZ = 'EXT_GZ'\n",
    "EXT_H5 = 'EXT_H5'\n",
    "EXT_MTX = 'EXT_MTX'\n",
    "EXT_TAR = 'EXT_TAR'\n",
    "EXT_TAR_GZ = 'EXT_TAR_GZ'\n",
    "EXT_TSV = 'EXT_TSV'\n",
    "FEATURES = 'FEATURES'\n",
    "FIGURES_DIR = 'FIGURES_DIR'\n",
    "GENE = 'GENE'\n",
    "GENE_ID = 'GENE_ID'\n",
    "GENE_SYMBOL = 'GENE_SYMBOL'\n",
    "GZ = 'GZ'\n",
    "H5 = 'H5'\n",
    "HIGHLY_VARIABLE = 'HIGHLY_VARIABLE'\n",
    "HUMAN = 'HUMAN'\n",
    "HUMAN_ENSEMBLE_ID = 'HUMAN_ENSEMBLE_ID'\n",
    "HUMAN_GENE_SYMBOL = 'HUMAN_GENE_SYMBOL'\n",
    "HUMAN_TF = 'HUMAN_TF'\n",
    "HVG = 'HVG'\n",
    "ID = 'ID'\n",
    "ITEM = 'ITEM'\n",
    "LABEL = 'LABEL'\n",
    "LAYER_DETECTED = 'LAYER_DETECTED'\n",
    "LAYER_PRENORM = 'LAYER_PRENORM'\n",
    "LAYER_SCALED_NORMALIZED = 'LAYER_SCALED_NORMALIZED'\n",
    "MAGIC = 'MAGIC'\n",
    "MATRIX = 'MATRIX'\n",
    "MITO = 'MITO'\n",
    "MOUSE = 'MOUSE'\n",
    "MOUSE_ENSEMBLE_ID = 'MOUSE_ENSEMBLE_ID'\n",
    "MOUSE_TF = 'MOUSE_TF'\n",
    "MTX = 'MTX'\n",
    "NBKS_DIR = 'NBKS_DIR'\n",
    "PCA = 'PCA'\n",
    "PCT = 'PCT'\n",
    "PCT_COUNTS = 'PCT_COUNTS'\n",
    "PCT_COUNTS_MITO = 'PCT_COUNTS_MITO'\n",
    "PCT_COUNTS_RIBO = 'PCT_COUNTS_RIBO'\n",
    "PERCENT = 'PERCENT'\n",
    "PERIOD = 'PERIOD'\n",
    "PHATE = 'PHATE'\n",
    "PREDICTED_DOUBLETS = 'PREDICTED_DOUBLETS'\n",
    "PRENORM = 'PRENORM'\n",
    "RESULTS_DIR = 'RESULTS_DIR'\n",
    "RIBO = 'RIBO'\n",
    "ROOT_DIR = 'ROOT_DIR'\n",
    "SAMPLES = 'SAMPLES'\n",
    "SCALED_NORMALIZED = 'SCALED_NORMALIZED'\n",
    "SENSITIVITY = 'SENSITIVITY'\n",
    "SERIES = 'SERIES'\n",
    "TAR = 'TAR'\n",
    "TIME = 'TIME'\n",
    "TIMEPOINT = 'TIMEPOINT'\n",
    "TOTAL_COUNTS = 'TOTAL_COUNTS'\n",
    "TSNE = 'TSNE'\n",
    "TSV = 'TSV'\n",
    "UMAP = 'UMAP'\n",
    "X = 'X'\n",
    "X_ = 'X_'"
   ]
  },
  {
   "cell_type": "code",
   "execution_count": null,
   "metadata": {},
   "outputs": [],
   "source": [
    "#| hide\n",
    "import nbdev; nbdev.nbdev_export()"
   ]
  }
 ],
 "metadata": {
  "kernelspec": {
   "display_name": "python3",
   "language": "python",
   "name": "python3"
  },
  "language_info": {
   "codemirror_mode": {
    "name": "ipython",
    "version": 3
   },
   "file_extension": ".py",
   "mimetype": "text/x-python",
   "name": "python",
   "nbconvert_exporter": "python",
   "pygments_lexer": "ipython3",
   "version": "3.11.0"
  }
 },
 "nbformat": 4,
 "nbformat_minor": 2
}
