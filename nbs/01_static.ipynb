{
 "cells": [
  {
   "cell_type": "markdown",
   "id": "f0eeea67",
   "metadata": {},
   "source": [
    "# static\n",
    "> This notebook was generated from the following notebooks:\n",
    "\n",
    "- [_01_paths.ipynb](/Users/solst/Projects/iza/nbs/_01_static/_01_paths.ipynb)\n",
    "- [_02_files.ipynb](/Users/solst/Projects/iza/nbs/_01_static/_02_files.ipynb)\n",
    "- [_03_names.ipynb](/Users/solst/Projects/iza/nbs/_01_static/_03_names.ipynb)\n",
    "- [_04_adata.ipynb](/Users/solst/Projects/iza/nbs/_01_static/_04_adata.ipynb)\n",
    "- [_05_ivanova.ipynb](/Users/solst/Projects/iza/nbs/_01_static/_05_ivanova.ipynb)\n",
    "- [_06_plots.ipynb](/Users/solst/Projects/iza/nbs/_01_static/_06_plots.ipynb)\n"
   ]
  },
  {
   "cell_type": "code",
   "execution_count": null,
   "id": "73f2a0d1",
   "metadata": {},
   "outputs": [],
   "source": [
    "#| default_exp static"
   ]
  },
  {
   "cell_type": "code",
   "execution_count": null,
   "id": "44a7fc3e",
   "metadata": {},
   "outputs": [],
   "source": [
    "%load_ext autoreload\n",
    "%autoreload 2"
   ]
  },
  {
   "cell_type": "code",
   "execution_count": null,
   "id": "6b0d0937",
   "metadata": {},
   "outputs": [],
   "source": [
    "#| hide\n",
    "from nbdev.showdoc import *"
   ]
  },
  {
   "cell_type": "markdown",
   "id": "71c39567",
   "metadata": {},
   "source": [
    "## Paths\n",
    "> This notebook was generated from [_01_paths.ipynb](/Users/solst/Projects/iza/nbs/_01_static/_01_paths.ipynb))"
   ]
  },
  {
   "cell_type": "code",
   "execution_count": null,
   "id": "4d7cb3bf",
   "metadata": {},
   "outputs": [],
   "source": [
    "#| export\n",
    "import os, sys, pkg_resources"
   ]
  },
  {
   "cell_type": "code",
   "execution_count": null,
   "id": "4481c80a",
   "metadata": {},
   "outputs": [],
   "source": [
    "#| export\n",
    "'''----------------------------------------------------\n",
    "NOTE: RELATIVE DEFINITIONS\n",
    "----------------------------------------------------'''\n",
    "\n",
    "# nbdev nbs directory, i.e. `nbs/``\n",
    "NBKS_DIR = os.path.abspath('')\n",
    "\n",
    "# project root directory\n",
    "ROOT_DIR = os.path.join(NBKS_DIR, '..')\n",
    "\n",
    "# where example notebooks are stored, i.e. `examples/`\n",
    "EXPL_DIR = os.path.join(ROOT_DIR, 'examples')\n",
    "\n",
    "# where small data is stored, i.e. `data/`\n",
    "DATA_DIR = os.path.join(ROOT_DIR, 'data')\n",
    "\n",
    "# where small data is stored, i.e. `results/`\n",
    "RESULTS_DIR = os.path.join(ROOT_DIR, 'results')\n",
    "\n",
    "# where small data is stored, i.e. `figures/`\n",
    "FIGURES_DIR = os.path.join(ROOT_DIR, 'figures')\n",
    "\n",
    "IZALITH_DATA_DIR = os.path.expanduser('~/Data')\n",
    "\n",
    "GIBBS_DATA_DIR = '/gpfs/gibbs/pi/krishnaswamy_smita'"
   ]
  },
  {
   "cell_type": "markdown",
   "id": "4d19d690",
   "metadata": {},
   "source": [
    "## Files\n",
    "> This notebook was generated from [_02_files.ipynb](/Users/solst/Projects/iza/nbs/_01_static/_02_files.ipynb))"
   ]
  },
  {
   "attachments": {},
   "cell_type": "markdown",
   "id": "d01fefbf",
   "metadata": {},
   "source": [
    "## Extensions"
   ]
  },
  {
   "cell_type": "code",
   "execution_count": null,
   "id": "25f1463e",
   "metadata": {},
   "outputs": [],
   "source": [
    "#| export\n",
    "PERIOD = '.'"
   ]
  },
  {
   "cell_type": "code",
   "execution_count": null,
   "id": "2c8a9434",
   "metadata": {},
   "outputs": [],
   "source": [
    "#| export\n",
    "GZ = f'gz'\n",
    "H5 = f'h5'\n",
    "CSV = f'csv'\n",
    "MTX = f'mtx'\n",
    "TAR = f'tar'\n",
    "TSV = f'tsv'\n",
    "PY = f'py'\n",
    "NPY = f'npy'\n",
    "NPZ = f'npz'\n",
    "TXT = f'txt'\n",
    "JSON = f'json'\n",
    "ZIP = f'zip'\n",
    "IPYNB = f'ipynb'"
   ]
  },
  {
   "cell_type": "code",
   "execution_count": null,
   "id": "0a984ac8",
   "metadata": {},
   "outputs": [],
   "source": [
    "#| export\n",
    "EXT_GZ = f'{PERIOD}{GZ}'\n",
    "EXT_H5 = f'{PERIOD}{H5}'\n",
    "EXT_CSV = f'{PERIOD}{CSV}'\n",
    "EXT_MTX = f'{PERIOD}{MTX}'\n",
    "EXT_TAR = f'{PERIOD}{TAR}'\n",
    "EXT_TSV = f'{PERIOD}{TSV}'\n",
    "EXT_TAR_GZ = f'{EXT_TAR}{EXT_GZ}'\n",
    "EXT_PY = f'{PERIOD}{PY}'\n",
    "EXT_NPY = f'{PERIOD}{NPY}'\n",
    "EXT_NPZ = f'{PERIOD}{NPZ}'\n",
    "EXT_TXT = f'{PERIOD}{TXT}'\n",
    "EXT_JSON = f'{PERIOD}{JSON}'\n",
    "EXT_ZIP = f'{PERIOD}{ZIP}'\n",
    "EXT_IPYNB = f'{PERIOD}{IPYNB}'"
   ]
  },
  {
   "cell_type": "markdown",
   "id": "4f776560",
   "metadata": {},
   "source": [
    "## Names\n",
    "> This notebook was generated from [_03_names.ipynb](/Users/solst/Projects/iza/nbs/_01_static/_03_names.ipynb))"
   ]
  },
  {
   "attachments": {},
   "cell_type": "markdown",
   "id": "4657967c",
   "metadata": {},
   "source": [
    "## Literals"
   ]
  },
  {
   "attachments": {},
   "cell_type": "markdown",
   "id": "c2d4eb43",
   "metadata": {},
   "source": [
    "### DataFrame Columns"
   ]
  },
  {
   "cell_type": "code",
   "execution_count": null,
   "id": "29715ba8",
   "metadata": {},
   "outputs": [],
   "source": [
    "#| export\n",
    "SEED = 'seed'\n",
    "ITEM = 'item'\n",
    "TIME = 'time'\n",
    "LABEL = 'label'\n",
    "SERIES = 'series'\n",
    "SAMPLES = 'samples'\n",
    "CONDITION = 'condition'\n",
    "CONDITIONS = f'{CONDITION}s'"
   ]
  },
  {
   "cell_type": "markdown",
   "id": "f76df78e",
   "metadata": {},
   "source": [
    "## Adata\n",
    "> This notebook was generated from [_04_adata.ipynb](/Users/solst/Projects/iza/nbs/_01_static/_04_adata.ipynb))"
   ]
  },
  {
   "attachments": {},
   "cell_type": "markdown",
   "id": "fa0cb0b6",
   "metadata": {},
   "source": [
    "## Literals"
   ]
  },
  {
   "attachments": {},
   "cell_type": "markdown",
   "id": "2569d606",
   "metadata": {},
   "source": [
    "### Embeddings"
   ]
  },
  {
   "cell_type": "code",
   "execution_count": null,
   "id": "1315f439",
   "metadata": {},
   "outputs": [],
   "source": [
    "#| export\n",
    "HVG = 'hvg'\n",
    "\n",
    "PCA = 'pca'\n",
    "UMAP = 'umap'\n",
    "TSNE = 'tsne'\n",
    "PHATE = 'phate'\n",
    "MAGIC = 'magic'"
   ]
  },
  {
   "attachments": {},
   "cell_type": "markdown",
   "id": "475c5b06",
   "metadata": {},
   "source": [
    "### DataFrame Columns"
   ]
  },
  {
   "cell_type": "code",
   "execution_count": null,
   "id": "6553cffd",
   "metadata": {},
   "outputs": [],
   "source": [
    "#| export\n",
    "CELL = 'cell'\n",
    "BARCODE = 'barcode'\n",
    "BARCODES = f'{BARCODE}s'"
   ]
  },
  {
   "attachments": {},
   "cell_type": "markdown",
   "id": "3c244370",
   "metadata": {},
   "source": [
    "### Adata"
   ]
  },
  {
   "cell_type": "code",
   "execution_count": null,
   "id": "88c452ab",
   "metadata": {},
   "outputs": [],
   "source": [
    "#| export\n",
    "ID = 'id'\n",
    "MITO = 'mito'\n",
    "RIBO = 'ribo'\n",
    "GENE = 'gene'\n",
    "GENE_ID = f'{GENE}_id'\n",
    "GENE_IDS = f'{GENE_ID}s'\n",
    "GENE_SYMBOL = f'{GENE}_symbol'\n",
    "HIGHLY_VARIABLE = 'highly_variable'\n",
    "\n",
    "ENSEMBL = 'ensembl'\n",
    "ENSEMBL_ID = f'{ENSEMBL}_id'\n",
    "\n",
    "HUMAN = 'human'\n",
    "MOUSE = 'mouse'\n",
    "\n",
    "HUMAN_TF = f'{HUMAN}TFs'\n",
    "MOUSE_TF = f'{MOUSE}TFs'\n",
    "\n",
    "HUMAN_GENE_SYMBOL = f'{HUMAN}GeneSymbol'\n",
    "HUMAN_ENSEMBLE_ID = f'{HUMAN}EnsemblID'\n",
    "MOUSE_ENSEMBLE_ID = f'{MOUSE}EnsemblID'\n",
    "\n",
    "BATCH = 'batch'\n",
    "TIMEPOINT = 'timepoint'\n",
    "TOTAL_COUNTS = 'total_counts'\n",
    "DOUBLET = 'doublet'\n",
    "DOUBLET_SCORES = f'{DOUBLET}_scores'\n",
    "PREDICTED_DOUBLETS = f'predicted_{DOUBLET}s'\n",
    "\n",
    "PRENORM = 'prenorm'\n",
    "DETECTED = 'detected'\n",
    "SCALED_NORMALIZED = 'scaled_normalized'\n",
    "\n",
    "\n",
    "COUNTS = 'counts'\n",
    "PCT = 'pct'\n",
    "PERCENT = 'percent'\n",
    "PCT_COUNTS = f'{PCT}_{COUNTS}'\n",
    "PCT_COUNTS_MITO = f'{PCT}_{COUNTS}_{MITO}'\n",
    "PCT_COUNTS_RIBO = f'{PCT}_{COUNTS}_{RIBO}'"
   ]
  },
  {
   "cell_type": "code",
   "execution_count": null,
   "id": "3bd21012",
   "metadata": {},
   "outputs": [],
   "source": [
    "#| export\n",
    "_ = '_'\n",
    "X = 'X'\n",
    "X_ = f'{X}{_}'"
   ]
  },
  {
   "cell_type": "code",
   "execution_count": null,
   "id": "3fea11f2",
   "metadata": {},
   "outputs": [],
   "source": [
    "#| export\n",
    "# Layer storing prenormalized counts in adata.layers\n",
    "X_PRENORM = f'{X_}{PRENORM}'\n",
    "\n",
    "# Layer storing values where prenormalized counts is at least 0 in adata.layers\n",
    "X_DETECTED = f'{X_}{DETECTED}'\n",
    "\n",
    "# Layer storing counts normalized\n",
    "X_SCALED_NORMALIZED = f'{X_}{SCALED_NORMALIZED}'\n",
    "\n",
    "# Layer storing MAGIC embedding in adata.obsm\n",
    "X_MAGIC = f'{X_}{MAGIC}'\n",
    "\n",
    "# Layer storing PCA embedding in adata.obsm\n",
    "X_PCA = f'{X_}{PCA}'\n",
    "\n",
    "# Layer storing PCA embedding just on HVGs in adata.obsm\n",
    "X_PCA_HVG = f'{X_}{PCA}_{HVG}'\n",
    "\n",
    "# Layer storing PHATE embedding just in adata.obsm\n",
    "X_PHATE = f'{X_}{PHATE}'\n",
    "\n",
    "# Layer storing PHATE embedding just on HVGs in adata.obsm\n",
    "X_PHATE_HVG = f'{X_}{PHATE}_{HVG}'"
   ]
  },
  {
   "attachments": {},
   "cell_type": "markdown",
   "id": "1aff5a4a",
   "metadata": {},
   "source": [
    "### Files and Dirs"
   ]
  },
  {
   "cell_type": "code",
   "execution_count": null,
   "id": "6d700c08",
   "metadata": {},
   "outputs": [],
   "source": [
    "#| export\n",
    "ADATA = 'adata'\n",
    "MATRIX = 'matrix'\n",
    "FEATURES = 'features'\n",
    "SENSITIVITY = 'sensitivity'"
   ]
  },
  {
   "attachments": {},
   "cell_type": "markdown",
   "id": "280c1acc",
   "metadata": {},
   "source": [
    "### FluentBio"
   ]
  },
  {
   "cell_type": "code",
   "execution_count": null,
   "id": "6dfd1828",
   "metadata": {},
   "outputs": [],
   "source": [
    "#| export\n",
    "AMAZON_BUCKET_FLUENTBIO = 'https://fbs-public.s3.us-east-2.amazonaws.com'"
   ]
  },
  {
   "cell_type": "markdown",
   "id": "2fcc0cac",
   "metadata": {},
   "source": [
    "## Ivanova\n",
    "> This notebook was generated from [_05_ivanova.ipynb](/Users/solst/Projects/iza/nbs/_01_static/_05_ivanova.ipynb))"
   ]
  },
  {
   "cell_type": "code",
   "execution_count": null,
   "id": "22dd48d9",
   "metadata": {},
   "outputs": [],
   "source": [
    "#| export\n",
    "import itertools"
   ]
  },
  {
   "attachments": {},
   "cell_type": "markdown",
   "id": "c3a84f0c",
   "metadata": {},
   "source": [
    "### Lineages"
   ]
  },
  {
   "cell_type": "code",
   "execution_count": null,
   "id": "4476b246",
   "metadata": {},
   "outputs": [],
   "source": [
    "#| export\n",
    "LINEAGE_ESC = 'esc'\n",
    "LINEAGE_PREGERM = 'pregerm'\n",
    "LINEAGE_NEURAL_CREST = 'neural_crest'\n",
    "LINEAGE_NEURAL_PROG = 'neural_prog'\n",
    "LINEAGE_ENDO = 'endo'\n",
    "LINEAGE_MESO = 'meso'\n",
    "LINEAGE_CARDIAC = 'cardiac'\n",
    "LINEAGE_HEMA = 'hema'\n",
    "LINEAGE_SOMITES = 'somites'\n",
    "LINEAGE_TROPHOBLAST = 'trophblast'\n",
    "LINEAGE_ALL = 'all'"
   ]
  },
  {
   "cell_type": "code",
   "execution_count": null,
   "id": "3bb3f92b",
   "metadata": {},
   "outputs": [],
   "source": [
    "#| export\n",
    "LINEAGE_NAMES = [\n",
    "    LINEAGE_ESC, LINEAGE_PREGERM, LINEAGE_NEURAL_CREST,\n",
    "    LINEAGE_NEURAL_PROG, LINEAGE_ENDO, LINEAGE_MESO,\n",
    "    LINEAGE_CARDIAC, LINEAGE_HEMA, LINEAGE_SOMITES,\n",
    "    LINEAGE_TROPHOBLAST, LINEAGE_ALL\n",
    "]"
   ]
  },
  {
   "attachments": {},
   "cell_type": "markdown",
   "id": "b9f9ea23",
   "metadata": {},
   "source": [
    "### Markers"
   ]
  },
  {
   "cell_type": "code",
   "execution_count": null,
   "id": "e8767fbe",
   "metadata": {},
   "outputs": [],
   "source": [
    "#| export\n",
    "MARKERS_ESC = ['POU5F1', 'PRDM14', 'NANOG', 'SOX2', 'DPPA4', 'NR2F6', 'OTX2']\n",
    "MARKERS_PREGERM = ['TP53','NR6A1','GBX2','ZIC2','ZIC5']\n",
    "MARKERS_NEURAL_CREST = ['PAX3','FOXD3','ITGA4','EDNRB','SOX9','SOX10']\n",
    "MARKERS_NEURAL_PROG = ['NES','MAP2','PAX6','SOX1','ZBTB16','ONECUT1', 'ONECUT2','NR2F1','ISL1','NPAS1','EN2','SOX2','NEUROD1']\n",
    "MARKERS_ENDO = ['EOMES','FOXA2','SOX17','GATA4','GATA6','HHEX']\n",
    "MARKERS_MESO = ['MIXL1','CER1']\n",
    "MARKERS_CARDIAC = ['NKX2-5','GATA4','MYBPC2','TTN','TNNT2','MYH6','TBX5']\n",
    "MARKERS_HEMA = ['NKX2-5','TAL1','SOX17','CD34','PECAM1','CD69','CXCR4','CDH5','KDR','LMO2']\n",
    "MARKERS_SOMITES = ['WT1','TBX18','TBX15','PDGFRA','SIX2','TBX5']\n",
    "MARKERS_TROPHOBLAST = ['GATA3','TP63','ITGA6','CDH1']"
   ]
  },
  {
   "cell_type": "code",
   "execution_count": null,
   "id": "14913711",
   "metadata": {},
   "outputs": [],
   "source": [
    "#| export\n",
    "MARKERS_LISTS =  [\n",
    "    MARKERS_ESC, MARKERS_PREGERM, MARKERS_NEURAL_CREST,\n",
    "    MARKERS_NEURAL_PROG, MARKERS_ENDO, MARKERS_MESO, \n",
    "    MARKERS_CARDIAC, MARKERS_HEMA, MARKERS_SOMITES, \n",
    "    MARKERS_TROPHOBLAST,\n",
    "]\n",
    "MARKERS_ALL = list(itertools.chain(*MARKERS_LISTS))\n",
    "MARKERS_LISTS.append(MARKERS_ALL)"
   ]
  },
  {
   "attachments": {},
   "cell_type": "markdown",
   "id": "d2277405",
   "metadata": {},
   "source": [
    "### Combined"
   ]
  },
  {
   "cell_type": "code",
   "execution_count": null,
   "id": "c9dbc8f6",
   "metadata": {},
   "outputs": [],
   "source": [
    "#| export\n",
    "LINEAGE_MARKERS = dict(zip(LINEAGE_NAMES, MARKERS_LISTS))"
   ]
  },
  {
   "cell_type": "markdown",
   "id": "5ce7e952",
   "metadata": {},
   "source": [
    "## Plots\n",
    "> This notebook was generated from [_06_plots.ipynb](/Users/solst/Projects/iza/nbs/_01_static/_06_plots.ipynb))"
   ]
  },
  {
   "attachments": {},
   "cell_type": "markdown",
   "id": "86c32ac7",
   "metadata": {},
   "source": [
    "### Default Params for MatPlotLib"
   ]
  },
  {
   "cell_type": "code",
   "execution_count": null,
   "id": "d663d84c",
   "metadata": {},
   "outputs": [],
   "source": [
    "#| export\n",
    "RC_PARAMS = {\n",
    "    'axes.axisbelow': False,\n",
    "    'axes.edgecolor': 'lightgrey',\n",
    "    'axes.facecolor': 'None',\n",
    "    'axes.grid': False,\n",
    "    'axes.labelcolor': 'dimgrey',\n",
    "    'axes.spines.right': False,\n",
    "    'axes.spines.top': False,\n",
    "    'figure.facecolor': 'white',\n",
    "    'lines.solid_capstyle': 'round',\n",
    "    'patch.edgecolor': 'w',\n",
    "    'patch.force_edgecolor': True,\n",
    "    'text.color': 'dimgrey',\n",
    "    'xtick.bottom': False,\n",
    "    'xtick.color': 'dimgrey',\n",
    "    'xtick.direction': 'out',\n",
    "    'xtick.top': False,\n",
    "    'ytick.color': 'dimgrey',\n",
    "    'ytick.direction': 'out',\n",
    "    'ytick.left': False,\n",
    "    'ytick.right': False,\n",
    "    'font.size': 12,\n",
    "    'axes.titlesize': 10,\n",
    "    'axes.labelsize': 12\n",
    "}"
   ]
  },
  {
   "cell_type": "code",
   "execution_count": null,
   "id": "75e4c4d4",
   "metadata": {},
   "outputs": [],
   "source": [
    "#| hide\n",
    "import nbdev; nbdev.nbdev_export()"
   ]
  }
 ],
 "metadata": {},
 "nbformat": 4,
 "nbformat_minor": 5
}
