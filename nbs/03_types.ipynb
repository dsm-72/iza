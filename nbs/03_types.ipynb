{
 "cells": [
  {
   "cell_type": "markdown",
   "id": "bbcd05cb",
   "metadata": {},
   "source": [
    "# types\n",
    "> This notebook was generated from the following notebooks:\n",
    "\n",
    "- [_00_aliases.ipynb](/Users/solst/Projects/iza/nbs/_03_types/_00_aliases.ipynb)\n",
    "- [_01_dataset_splits.ipynb](/Users/solst/Projects/iza/nbs/_03_types/_01_dataset_splits.ipynb)\n",
    "- [_03_plots.ipynb](/Users/solst/Projects/iza/nbs/_03_types/_03_plots.ipynb)\n"
   ]
  },
  {
   "cell_type": "code",
   "execution_count": null,
   "id": "3a2a277b",
   "metadata": {},
   "outputs": [],
   "source": [
    "#| default_exp types"
   ]
  },
  {
   "cell_type": "code",
   "execution_count": null,
   "id": "a202e1cd",
   "metadata": {},
   "outputs": [],
   "source": [
    "%load_ext autoreload\n",
    "%autoreload 2"
   ]
  },
  {
   "cell_type": "code",
   "execution_count": null,
   "id": "ffbbd5b2",
   "metadata": {},
   "outputs": [],
   "source": [
    "#| hide\n",
    "from nbdev.showdoc import *"
   ]
  },
  {
   "cell_type": "markdown",
   "id": "aea9defc",
   "metadata": {},
   "source": [
    "## Aliases\n",
    "> This notebook was generated from [_00_aliases.ipynb](/Users/solst/Projects/iza/nbs/_03_types/_00_aliases.ipynb))"
   ]
  },
  {
   "cell_type": "code",
   "execution_count": null,
   "id": "51a63c9e",
   "metadata": {},
   "outputs": [],
   "source": [
    "#| export\n",
    "from typing import (Tuple, Union, TypeAlias, List, Iterable, Literal, Any)\n",
    "from numbers import Number"
   ]
  },
  {
   "cell_type": "code",
   "execution_count": null,
   "id": "554752aa",
   "metadata": {},
   "outputs": [],
   "source": [
    "#| export\n",
    "import numpy as np, pandas as pd"
   ]
  },
  {
   "attachments": {},
   "cell_type": "markdown",
   "id": "0f782463",
   "metadata": {},
   "source": [
    "## Simple Aliases"
   ]
  },
  {
   "attachments": {},
   "cell_type": "markdown",
   "id": "5f32e064",
   "metadata": {},
   "source": [
    "Make sure we do not depend on PyTorch"
   ]
  },
  {
   "cell_type": "code",
   "execution_count": null,
   "id": "c7dcca86",
   "metadata": {},
   "outputs": [],
   "source": [
    "#| export\n",
    "try:\n",
    "    import torch\n",
    "    Tensor:TypeAlias = torch.Tensor\n",
    "    Device: TypeAlias = torch.device\n",
    "except ImportError:\n",
    "    # Define a placeholder type if torch is not installed\n",
    "    Tensor = Union[Iterable[Number], Any]\n",
    "    Device: TypeAlias = Union[str, None, Any]\n",
    "    pass"
   ]
  },
  {
   "attachments": {},
   "cell_type": "markdown",
   "id": "09250b60",
   "metadata": {},
   "source": [
    "Make sure we do not depend on AnnData"
   ]
  },
  {
   "cell_type": "code",
   "execution_count": null,
   "id": "122eb335",
   "metadata": {},
   "outputs": [],
   "source": [
    "#| export\n",
    "try:\n",
    "    import anndata as ad    \n",
    "    AnnData: TypeAlias = ad.AnnData\n",
    "    AnnDatas: TypeAlias = List[AnnData]\n",
    "except ImportError:\n",
    "    # Define a placeholder type if torch is not installed\n",
    "    AnnData: TypeAlias = Any\n",
    "    AnnDatas: TypeAlias = List[AnnData]\n",
    "    pass"
   ]
  },
  {
   "cell_type": "code",
   "execution_count": null,
   "id": "06a729fd",
   "metadata": {},
   "outputs": [],
   "source": [
    "#| export\n",
    "Series: TypeAlias = pd.Series\n",
    "\n",
    "ndarray: TypeAlias = np.ndarray\n",
    "\n",
    "DataFrame: TypeAlias = pd.DataFrame\n",
    "\n",
    "DataFrames: TypeAlias = List[DataFrame]"
   ]
  },
  {
   "cell_type": "code",
   "execution_count": null,
   "id": "79fea787",
   "metadata": {},
   "outputs": [],
   "source": [
    "#| export\n",
    "Numeric: TypeAlias = Union[int, float, complex, Number]\n",
    "\n",
    "Bool: TypeAlias = Union[bool, np.bool_]\n",
    "\n",
    "Boolish: TypeAlias = Union[Bool, Literal[0], Literal[1]]\n",
    "\n",
    "IndexLike: TypeAlias = Union[List[int], List[Boolish], pd.Index]\n",
    "\n",
    "SeriesLike: TypeAlias = Union[list, Series, ndarray, Tensor, IndexLike]\n",
    "\n",
    "IterLike: TypeAlias = Union[Iterable, SeriesLike, IndexLike]\n",
    "\n",
    "GroupKey: TypeAlias = Union[str, int, float, Tuple]"
   ]
  },
  {
   "cell_type": "markdown",
   "id": "91ad7b8d",
   "metadata": {},
   "source": [
    "## Dataset splits\n",
    "> This notebook was generated from [_01_dataset_splits.ipynb](/Users/solst/Projects/iza/nbs/_03_types/_01_dataset_splits.ipynb))"
   ]
  },
  {
   "cell_type": "code",
   "execution_count": null,
   "id": "a613a245",
   "metadata": {},
   "outputs": [],
   "source": [
    "#| export\n",
    "from typing import (NamedTuple)"
   ]
  },
  {
   "attachments": {},
   "cell_type": "markdown",
   "id": "853264eb",
   "metadata": {},
   "source": [
    "### Dataset Splits"
   ]
  },
  {
   "cell_type": "code",
   "execution_count": null,
   "id": "a1188644",
   "metadata": {},
   "outputs": [],
   "source": [
    "#| export\n",
    "class TrainValidSplit(NamedTuple):\n",
    "    train: int\n",
    "    valid: int\n",
    "\n",
    "class TrainTestSplit(NamedTuple):\n",
    "    train: int\n",
    "    test: int\n",
    "        \n",
    "class TrainValidTestSplit(NamedTuple):\n",
    "    train: int\n",
    "    valid: int\n",
    "    test: int"
   ]
  },
  {
   "cell_type": "code",
   "execution_count": null,
   "id": "9181c07f",
   "metadata": {},
   "outputs": [],
   "source": [
    "#| export\n",
    "SplitTuple2: TypeAlias =  Tuple[Number, Number]\n",
    "SplitTuple3: TypeAlias =  Tuple[Number, Number, Number]\n",
    "SplitAsList: TypeAlias =  List[Number]\n",
    "  \n",
    "DatasetSplitSpec: TypeAlias = Union[\n",
    "    TrainValidSplit, TrainTestSplit, TrainValidTestSplit,\n",
    "    SplitAsList, SplitTuple2, SplitTuple3\n",
    "]"
   ]
  },
  {
   "cell_type": "code",
   "execution_count": null,
   "id": "214b6bca",
   "metadata": {},
   "outputs": [],
   "source": [
    "#| export\n",
    "SplitDataset2Idxs: TypeAlias = Tuple[IndexLike, IndexLike]\n",
    "SplitDataset3Idxs: TypeAlias = Tuple[IndexLike, IndexLike, IndexLike]\n",
    "\n",
    "SplitDataFrames2: TypeAlias = Tuple[DataFrame, DataFrame]\n",
    "SplitDataFrames3: TypeAlias = Tuple[DataFrame, DataFrame, DataFrame]\n",
    "\n",
    "SplitDatasets: TypeAlias = Union[\n",
    "    SplitDataset2Idxs, SplitDataset3Idxs,\n",
    "    SplitDataFrames2, SplitDataFrames3,\n",
    "]"
   ]
  },
  {
   "cell_type": "markdown",
   "id": "da4f78d9",
   "metadata": {},
   "source": [
    "## Plots\n",
    "> This notebook was generated from [_03_plots.ipynb](/Users/solst/Projects/iza/nbs/_03_types/_03_plots.ipynb))"
   ]
  },
  {
   "cell_type": "code",
   "execution_count": null,
   "id": "d45691d3",
   "metadata": {},
   "outputs": [],
   "source": [
    "#| export\n",
    "from typing import TypeAlias\n",
    "from matplotlib.colors import Colormap"
   ]
  },
  {
   "cell_type": "code",
   "execution_count": null,
   "id": "c42473fe",
   "metadata": {},
   "outputs": [],
   "source": [
    "#| export\n",
    "ColorMap: TypeAlias = Colormap"
   ]
  },
  {
   "cell_type": "code",
   "execution_count": null,
   "id": "29a50dbb",
   "metadata": {},
   "outputs": [],
   "source": [
    "#| hide\n",
    "import nbdev; nbdev.nbdev_export()"
   ]
  }
 ],
 "metadata": {},
 "nbformat": 4,
 "nbformat_minor": 5
}
