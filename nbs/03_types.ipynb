{
 "cells": [
  {
   "cell_type": "markdown",
   "id": "639bcce2",
   "metadata": {},
   "source": [
    "# types\n",
    "> This notebook was generated from the following notebooks:\n",
    "\n",
    "- [_00_aliases.ipynb](/Users/solst/Projects/iza/nbs/_03_types/_00_aliases.ipynb)\n",
    "- [_01_dataset_splits.ipynb](/Users/solst/Projects/iza/nbs/_03_types/_01_dataset_splits.ipynb)\n",
    "- [_03_plots.ipynb](/Users/solst/Projects/iza/nbs/_03_types/_03_plots.ipynb)\n",
    "- [_04_directory.ipynb](/Users/solst/Projects/iza/nbs/_03_types/_04_directory.ipynb)\n",
    "- [_05_rich.ipynb](/Users/solst/Projects/iza/nbs/_03_types/_05_rich.ipynb)\n"
   ]
  },
  {
   "cell_type": "code",
   "execution_count": null,
   "id": "58c2ccfe",
   "metadata": {},
   "outputs": [],
   "source": [
    "#| default_exp types"
   ]
  },
  {
   "cell_type": "code",
   "execution_count": null,
   "id": "80f59bf0",
   "metadata": {},
   "outputs": [],
   "source": [
    "%load_ext autoreload\n",
    "%autoreload 2"
   ]
  },
  {
   "cell_type": "code",
   "execution_count": null,
   "id": "34730516",
   "metadata": {},
   "outputs": [],
   "source": [
    "#| hide\n",
    "from nbdev.showdoc import *"
   ]
  },
  {
   "cell_type": "markdown",
   "id": "d2a9025a",
   "metadata": {},
   "source": [
    "## Aliases\n",
    "> This notebook was generated from [_00_aliases.ipynb](/Users/solst/Projects/iza/nbs/_03_types/_00_aliases.ipynb))"
   ]
  },
  {
   "cell_type": "code",
   "execution_count": null,
   "id": "88f88d77",
   "metadata": {},
   "outputs": [],
   "source": [
    "#| export\n",
    "from typing import (Tuple, Union, TypeAlias, List, Iterable, Literal, Any)\n",
    "from numbers import Number"
   ]
  },
  {
   "cell_type": "code",
   "execution_count": null,
   "id": "4b0e2c18",
   "metadata": {},
   "outputs": [],
   "source": [
    "#| export\n",
    "import numpy as np, pandas as pd\n",
    "import pathlib"
   ]
  },
  {
   "attachments": {},
   "cell_type": "markdown",
   "id": "26ac025c",
   "metadata": {},
   "source": [
    "## Simple Aliases"
   ]
  },
  {
   "attachments": {},
   "cell_type": "markdown",
   "id": "bf186a1e",
   "metadata": {},
   "source": [
    "Make sure we do not depend on PyTorch"
   ]
  },
  {
   "cell_type": "code",
   "execution_count": null,
   "id": "05d42624",
   "metadata": {},
   "outputs": [],
   "source": [
    "#| export\n",
    "try:\n",
    "    import torch\n",
    "    Tensor: TypeAlias = torch.Tensor\n",
    "    Device: TypeAlias = torch.device\n",
    "except ImportError:\n",
    "    # Define a placeholder type if torch is not installed\n",
    "    Tensor: TypeAlias = Union[Iterable[Number], Any]\n",
    "    Device: TypeAlias = Union[str, None, Any]\n",
    "    pass"
   ]
  },
  {
   "attachments": {},
   "cell_type": "markdown",
   "id": "48f53e81",
   "metadata": {},
   "source": [
    "Make sure we do not depend on AnnData"
   ]
  },
  {
   "cell_type": "code",
   "execution_count": null,
   "id": "74ec644b",
   "metadata": {},
   "outputs": [],
   "source": [
    "#| export\n",
    "try:\n",
    "    import anndata as ad    \n",
    "    AnnData: TypeAlias = ad.AnnData\n",
    "    AnnDatas: TypeAlias = List[AnnData]\n",
    "except ImportError:\n",
    "    # Define a placeholder type if torch is not installed\n",
    "    AnnData: TypeAlias = Any\n",
    "    AnnDatas: TypeAlias = List[AnnData]\n",
    "    pass"
   ]
  },
  {
   "cell_type": "code",
   "execution_count": null,
   "id": "1488563c",
   "metadata": {},
   "outputs": [],
   "source": [
    "#| export\n",
    "Series: TypeAlias = pd.Series\n",
    "\n",
    "ndarray: TypeAlias = np.ndarray\n",
    "\n",
    "NPArray: TypeAlias = np.ndarray\n",
    "\n",
    "DataFrame: TypeAlias = pd.DataFrame\n",
    "\n",
    "DataFrames: TypeAlias = List[DataFrame]"
   ]
  },
  {
   "cell_type": "code",
   "execution_count": null,
   "id": "612f7aad",
   "metadata": {},
   "outputs": [],
   "source": [
    "#| export\n",
    "Numeric: TypeAlias = Union[int, float, complex, Number]\n",
    "\n",
    "Bool: TypeAlias = Union[bool, np.bool_]\n",
    "\n",
    "Boolish: TypeAlias = Union[Bool, Literal[0], Literal[1]]\n",
    "\n",
    "IndexLike: TypeAlias = Union[List[int], List[Boolish], pd.Index]\n",
    "\n",
    "SeriesLike: TypeAlias = Union[list, Series, ndarray, Tensor, IndexLike]\n",
    "\n",
    "IterLike: TypeAlias = Union[Iterable, SeriesLike, IndexLike]\n",
    "\n",
    "GroupKey: TypeAlias = Union[str, int, float, Tuple]\n",
    "\n",
    "PathType: TypeAlias = Union[pathlib.Path, pathlib.PosixPath]\n",
    "\n",
    "PathLike: TypeAlias = Union[str, PathType]"
   ]
  },
  {
   "cell_type": "markdown",
   "id": "5d5bcdae",
   "metadata": {},
   "source": [
    "## Dataset splits\n",
    "> This notebook was generated from [_01_dataset_splits.ipynb](/Users/solst/Projects/iza/nbs/_03_types/_01_dataset_splits.ipynb))"
   ]
  },
  {
   "cell_type": "code",
   "execution_count": null,
   "id": "ff86d29a",
   "metadata": {},
   "outputs": [],
   "source": [
    "#| export\n",
    "from typing import (NamedTuple)"
   ]
  },
  {
   "attachments": {},
   "cell_type": "markdown",
   "id": "46d8575b",
   "metadata": {},
   "source": [
    "### Dataset Splits"
   ]
  },
  {
   "cell_type": "code",
   "execution_count": null,
   "id": "70b81b17",
   "metadata": {},
   "outputs": [],
   "source": [
    "#| export\n",
    "class TrainValidSplit(NamedTuple):\n",
    "    train: int\n",
    "    valid: int\n",
    "\n",
    "class TrainTestSplit(NamedTuple):\n",
    "    train: int\n",
    "    test: int\n",
    "        \n",
    "class TrainValidTestSplit(NamedTuple):\n",
    "    train: int\n",
    "    valid: int\n",
    "    test: int"
   ]
  },
  {
   "cell_type": "code",
   "execution_count": null,
   "id": "fe882eb6",
   "metadata": {},
   "outputs": [],
   "source": [
    "#| export\n",
    "SplitTuple2: TypeAlias =  Tuple[Number, Number]\n",
    "SplitTuple3: TypeAlias =  Tuple[Number, Number, Number]\n",
    "SplitAsList: TypeAlias =  List[Number]\n",
    "  \n",
    "DatasetSplitSpec: TypeAlias = Union[\n",
    "    TrainValidSplit, TrainTestSplit, TrainValidTestSplit,\n",
    "    SplitAsList, SplitTuple2, SplitTuple3\n",
    "]"
   ]
  },
  {
   "cell_type": "code",
   "execution_count": null,
   "id": "795ba3f0",
   "metadata": {},
   "outputs": [],
   "source": [
    "#| export\n",
    "SplitDataset2Idxs: TypeAlias = Tuple[IndexLike, IndexLike]\n",
    "SplitDataset3Idxs: TypeAlias = Tuple[IndexLike, IndexLike, IndexLike]\n",
    "\n",
    "SplitDataFrames2: TypeAlias = Tuple[DataFrame, DataFrame]\n",
    "SplitDataFrames3: TypeAlias = Tuple[DataFrame, DataFrame, DataFrame]\n",
    "\n",
    "SplitDatasets: TypeAlias = Union[\n",
    "    SplitDataset2Idxs, SplitDataset3Idxs,\n",
    "    SplitDataFrames2, SplitDataFrames3,\n",
    "]"
   ]
  },
  {
   "cell_type": "markdown",
   "id": "b93f55ab",
   "metadata": {},
   "source": [
    "## Plots\n",
    "> This notebook was generated from [_03_plots.ipynb](/Users/solst/Projects/iza/nbs/_03_types/_03_plots.ipynb))"
   ]
  },
  {
   "cell_type": "code",
   "execution_count": null,
   "id": "2e186083",
   "metadata": {},
   "outputs": [],
   "source": [
    "#| export\n",
    "from typing import TypeAlias\n",
    "from matplotlib.colors import Colormap"
   ]
  },
  {
   "cell_type": "code",
   "execution_count": null,
   "id": "106fc6a2",
   "metadata": {},
   "outputs": [],
   "source": [
    "#| export\n",
    "ColorMap: TypeAlias = Colormap"
   ]
  },
  {
   "cell_type": "markdown",
   "id": "bb0642e5",
   "metadata": {},
   "source": [
    "## Director\n",
    "> This notebook was generated from [_04_directory.ipynb](/Users/solst/Projects/iza/nbs/_03_types/_04_directory.ipynb))"
   ]
  },
  {
   "cell_type": "code",
   "execution_count": null,
   "id": "b638f66e",
   "metadata": {},
   "outputs": [],
   "source": [
    "#| export\n",
    "from typing import Optional, ClassVar, TypeAlias, Callable\n",
    "from enum import StrEnum"
   ]
  },
  {
   "cell_type": "code",
   "execution_count": null,
   "id": "3b12d095",
   "metadata": {},
   "outputs": [],
   "source": [
    "#| export\n",
    "class DirectoryTreeStrings(StrEnum):\n",
    "    SPACE : ClassVar[str] = '    '\n",
    "    BRANCH: ClassVar[str] = '│   '    \n",
    "    TEE   : ClassVar[str] = '├── '\n",
    "    LAST  : ClassVar[str] = '└── '"
   ]
  },
  {
   "cell_type": "code",
   "execution_count": null,
   "id": "9e2e1879",
   "metadata": {},
   "outputs": [],
   "source": [
    "#| export\n",
    "TreeEntryFunc: TypeAlias = Callable[\n",
    "    ['PathLike', Optional[str], Optional[str], Optional[str]], str\n",
    "]"
   ]
  },
  {
   "cell_type": "markdown",
   "id": "90b35c6d",
   "metadata": {},
   "source": [
    "## Rich\n",
    "> This notebook was generated from [_05_rich.ipynb](/Users/solst/Projects/iza/nbs/_03_types/_05_rich.ipynb))"
   ]
  },
  {
   "cell_type": "code",
   "execution_count": null,
   "id": "3e5551c3",
   "metadata": {},
   "outputs": [],
   "source": [
    "#| export\n",
    "from typing import Any, TypeAlias"
   ]
  },
  {
   "cell_type": "code",
   "execution_count": null,
   "id": "3a4157f4",
   "metadata": {},
   "outputs": [],
   "source": [
    "#| export\n",
    "try:\n",
    "    from rich.tree import Tree as TreeType\n",
    "    from rich.text import Text as TextType\n",
    "    from rich.console import Console as ConsoleType\n",
    "    from rich.progress import Progress as ProgressType\n",
    "    \n",
    "except ImportError:\n",
    "    TreeType = TextType = ConsoleType = ProgressType = Any\n",
    "\n",
    "RichTree: TypeAlias = TreeType\n",
    "RichText: TypeAlias = TextType\n",
    "RichConsole: TypeAlias = ConsoleType\n",
    "RichProgress: TypeAlias = ProgressType"
   ]
  },
  {
   "cell_type": "code",
   "execution_count": null,
   "id": "7a6ea697",
   "metadata": {},
   "outputs": [],
   "source": [
    "#| hide\n",
    "import nbdev; nbdev.nbdev_export()"
   ]
  }
 ],
 "metadata": {},
 "nbformat": 4,
 "nbformat_minor": 5
}
