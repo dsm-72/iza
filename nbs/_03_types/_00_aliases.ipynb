{
 "cells": [
  {
   "attachments": {},
   "cell_type": "markdown",
   "metadata": {},
   "source": [
    "# Aliases\n",
    "\n",
    "> type aliases"
   ]
  },
  {
   "cell_type": "code",
   "execution_count": 2,
   "metadata": {},
   "outputs": [],
   "source": [
    "#| default_exp types.aliases"
   ]
  },
  {
   "cell_type": "code",
   "execution_count": 3,
   "metadata": {},
   "outputs": [],
   "source": [
    "#| hide\n",
    "%load_ext autoreload\n",
    "%autoreload 2"
   ]
  },
  {
   "cell_type": "code",
   "execution_count": 4,
   "metadata": {},
   "outputs": [],
   "source": [
    "#| hide\n",
    "from nbdev.showdoc import *"
   ]
  },
  {
   "cell_type": "code",
   "execution_count": 1,
   "metadata": {},
   "outputs": [],
   "source": [
    "#| export\n",
    "from typing import (Tuple, Union, TypeAlias, List, Iterable, Literal, Any)\n",
    "from numbers import Number"
   ]
  },
  {
   "cell_type": "code",
   "execution_count": 2,
   "metadata": {},
   "outputs": [],
   "source": [
    "#| export\n",
    "import numpy as np, pandas as pd\n",
    "import pathlib"
   ]
  },
  {
   "attachments": {},
   "cell_type": "markdown",
   "metadata": {},
   "source": [
    "## Simple Aliases"
   ]
  },
  {
   "attachments": {},
   "cell_type": "markdown",
   "metadata": {},
   "source": [
    "Make sure we do not depend on PyTorch"
   ]
  },
  {
   "cell_type": "code",
   "execution_count": 3,
   "metadata": {},
   "outputs": [],
   "source": [
    "#| export\n",
    "try:\n",
    "    import torch\n",
    "    Tensor:TypeAlias = torch.Tensor\n",
    "    Device: TypeAlias = torch.device\n",
    "except ImportError:\n",
    "    # Define a placeholder type if torch is not installed\n",
    "    Tensor = Union[Iterable[Number], Any]\n",
    "    Device: TypeAlias = Union[str, None, Any]\n",
    "    pass"
   ]
  },
  {
   "attachments": {},
   "cell_type": "markdown",
   "metadata": {},
   "source": [
    "Make sure we do not depend on AnnData"
   ]
  },
  {
   "cell_type": "code",
   "execution_count": 4,
   "metadata": {},
   "outputs": [],
   "source": [
    "#| export\n",
    "try:\n",
    "    import anndata as ad    \n",
    "    AnnData: TypeAlias = ad.AnnData\n",
    "    AnnDatas: TypeAlias = List[AnnData]\n",
    "except ImportError:\n",
    "    # Define a placeholder type if torch is not installed\n",
    "    AnnData: TypeAlias = Any\n",
    "    AnnDatas: TypeAlias = List[AnnData]\n",
    "    pass"
   ]
  },
  {
   "cell_type": "code",
   "execution_count": 5,
   "metadata": {},
   "outputs": [],
   "source": [
    "#| export\n",
    "Series: TypeAlias = pd.Series\n",
    "\n",
    "ndarray: TypeAlias = np.ndarray\n",
    "\n",
    "NPArray: TypeAlias = np.ndarray\n",
    "\n",
    "DataFrame: TypeAlias = pd.DataFrame\n",
    "\n",
    "DataFrames: TypeAlias = List[DataFrame]"
   ]
  },
  {
   "cell_type": "code",
   "execution_count": 6,
   "metadata": {},
   "outputs": [],
   "source": [
    "#| export\n",
    "Numeric: TypeAlias = Union[int, float, complex, Number]\n",
    "\n",
    "Bool: TypeAlias = Union[bool, np.bool_]\n",
    "\n",
    "Boolish: TypeAlias = Union[Bool, Literal[0], Literal[1]]\n",
    "\n",
    "IndexLike: TypeAlias = Union[List[int], List[Boolish], pd.Index]\n",
    "\n",
    "SeriesLike: TypeAlias = Union[list, Series, ndarray, Tensor, IndexLike]\n",
    "\n",
    "IterLike: TypeAlias = Union[Iterable, SeriesLike, IndexLike]\n",
    "\n",
    "GroupKey: TypeAlias = Union[str, int, float, Tuple]\n",
    "\n",
    "PathType: TypeAlias = Union[pathlib.Path, pathlib.PosixPath]\n",
    "\n",
    "PathLike: TypeAlias = Union[str, PathType]"
   ]
  },
  {
   "cell_type": "code",
   "execution_count": null,
   "metadata": {},
   "outputs": [],
   "source": [
    "#| hide\n",
    "import nbdev; nbdev.nbdev_export()"
   ]
  }
 ],
 "metadata": {
  "kernelspec": {
   "display_name": "python3",
   "language": "python",
   "name": "python3"
  },
  "language_info": {
   "codemirror_mode": {
    "name": "ipython",
    "version": 3
   },
   "file_extension": ".py",
   "mimetype": "text/x-python",
   "name": "python",
   "nbconvert_exporter": "python",
   "pygments_lexer": "ipython3",
   "version": "3.11.0"
  }
 },
 "nbformat": 4,
 "nbformat_minor": 4
}
