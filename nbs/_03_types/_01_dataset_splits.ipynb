{
 "cells": [
  {
   "attachments": {},
   "cell_type": "markdown",
   "metadata": {},
   "source": [
    "# Dataset Splits\n",
    "\n",
    "> dataset splits"
   ]
  },
  {
   "cell_type": "code",
   "execution_count": 2,
   "metadata": {},
   "outputs": [],
   "source": [
    "#| default_exp types.splits"
   ]
  },
  {
   "cell_type": "code",
   "execution_count": 3,
   "metadata": {},
   "outputs": [],
   "source": [
    "#| hide\n",
    "%load_ext autoreload\n",
    "%autoreload 2"
   ]
  },
  {
   "cell_type": "code",
   "execution_count": 4,
   "metadata": {},
   "outputs": [],
   "source": [
    "#| hide\n",
    "from nbdev.showdoc import *"
   ]
  },
  {
   "cell_type": "code",
   "execution_count": 1,
   "metadata": {},
   "outputs": [],
   "source": [
    "#| export\n",
    "from typing import (NamedTuple)"
   ]
  },
  {
   "attachments": {},
   "cell_type": "markdown",
   "metadata": {},
   "source": [
    "### Dataset Splits"
   ]
  },
  {
   "cell_type": "code",
   "execution_count": null,
   "metadata": {},
   "outputs": [],
   "source": [
    "#| export\n",
    "class TrainValidSplit(NamedTuple):\n",
    "    train: int\n",
    "    valid: int\n",
    "\n",
    "class TrainTestSplit(NamedTuple):\n",
    "    train: int\n",
    "    test: int\n",
    "        \n",
    "class TrainValidTestSplit(NamedTuple):\n",
    "    train: int\n",
    "    valid: int\n",
    "    test: int"
   ]
  },
  {
   "cell_type": "code",
   "execution_count": null,
   "metadata": {},
   "outputs": [],
   "source": [
    "#| export\n",
    "SplitTuple2: TypeAlias =  Tuple[Number, Number]\n",
    "SplitTuple3: TypeAlias =  Tuple[Number, Number, Number]\n",
    "SplitAsList: TypeAlias =  List[Number]\n",
    "  \n",
    "DatasetSplitSpec: TypeAlias = Union[\n",
    "    TrainValidSplit, TrainTestSplit, TrainValidTestSplit,\n",
    "    SplitAsList, SplitTuple2, SplitTuple3\n",
    "]"
   ]
  },
  {
   "cell_type": "code",
   "execution_count": null,
   "metadata": {},
   "outputs": [],
   "source": [
    "#| export\n",
    "SplitDataset2Idxs: TypeAlias = Tuple[IndexLike, IndexLike]\n",
    "SplitDataset3Idxs: TypeAlias = Tuple[IndexLike, IndexLike, IndexLike]\n",
    "\n",
    "SplitDataFrames2: TypeAlias = Tuple[DataFrame, DataFrame]\n",
    "SplitDataFrames3: TypeAlias = Tuple[DataFrame, DataFrame, DataFrame]\n",
    "\n",
    "SplitDatasets: TypeAlias = Union[\n",
    "    SplitDataset2Idxs, SplitDataset3Idxs,\n",
    "    SplitDataFrames2, SplitDataFrames3,\n",
    "]"
   ]
  },
  {
   "cell_type": "code",
   "execution_count": null,
   "metadata": {},
   "outputs": [],
   "source": [
    "#| hide\n",
    "import nbdev; nbdev.nbdev_export()"
   ]
  }
 ],
 "metadata": {
  "kernelspec": {
   "display_name": "python3",
   "language": "python",
   "name": "python3"
  },
  "language_info": {
   "codemirror_mode": {
    "name": "ipython",
    "version": 3
   },
   "file_extension": ".py",
   "mimetype": "text/x-python",
   "name": "python",
   "nbconvert_exporter": "python",
   "pygments_lexer": "ipython3",
   "version": "3.11.0"
  }
 },
 "nbformat": 4,
 "nbformat_minor": 4
}
