{
 "cells": [
  {
   "attachments": {},
   "cell_type": "markdown",
   "metadata": {},
   "source": [
    "# iza\n",
    "> a chaos package of utilities; a nod to izalith "
   ]
  },
  {
   "cell_type": "code",
   "execution_count": null,
   "metadata": {},
   "outputs": [],
   "source": [
    "#| hide\n",
    "from iza.nbs import *\n",
    "from iza.static import *\n",
    "from iza.utils import *\n",
    "from iza.rich import *\n",
    "from iza.typer import *\n",
    "from iza.commands import *"
   ]
  },
  {
   "attachments": {},
   "cell_type": "markdown",
   "metadata": {},
   "source": [
    "## Developer Guide"
   ]
  },
  {
   "attachments": {},
   "cell_type": "markdown",
   "metadata": {},
   "source": [
    "### Setup"
   ]
  },
  {
   "attachments": {},
   "cell_type": "markdown",
   "metadata": {},
   "source": [
    "```sh\n",
    "# create conda environment\n",
    "$ mamba env create -f env.yml\n",
    "\n",
    "# update conda environment\n",
    "$ mamba env update -n iza --file env.yml\n",
    "```"
   ]
  },
  {
   "attachments": {},
   "cell_type": "markdown",
   "metadata": {},
   "source": [
    "### Install"
   ]
  },
  {
   "attachments": {},
   "cell_type": "markdown",
   "metadata": {},
   "source": [
    "```sh\n",
    "pip install -e .\n",
    "\n",
    "# install from pypi\n",
    "pip install iza\n",
    "```"
   ]
  },
  {
   "attachments": {},
   "cell_type": "markdown",
   "metadata": {},
   "source": [
    "### nbdev"
   ]
  },
  {
   "attachments": {},
   "cell_type": "markdown",
   "metadata": {},
   "source": [
    "```sh\n",
    "# activate conda environment\n",
    "$ conda activate iza\n",
    "\n",
    "# make sure the iza package is installed in development mode\n",
    "$ pip install -e .\n",
    "\n",
    "# make changes under nbs/ directory\n",
    "# ...\n",
    "\n",
    "# compile to have changes apply to the iza package\n",
    "$ nbdev_prepare\n",
    "```"
   ]
  },
  {
   "attachments": {},
   "cell_type": "markdown",
   "metadata": {},
   "source": [
    "### Publishing"
   ]
  },
  {
   "attachments": {},
   "cell_type": "markdown",
   "metadata": {},
   "source": [
    "```sh\n",
    "# publish to pypi\n",
    "$ nbdev_pypi\n",
    "\n",
    "# publish to conda\n",
    "$ nbdev_conda --build_args '-c conda-forge'\n",
    "$ nbdev_conda --mambabuild --build_args '-c conda-forge -c dsm-72'\n",
    "```"
   ]
  },
  {
   "attachments": {},
   "cell_type": "markdown",
   "metadata": {},
   "source": [
    "# Usage"
   ]
  },
  {
   "attachments": {},
   "cell_type": "markdown",
   "metadata": {},
   "source": [
    "## Installation"
   ]
  },
  {
   "attachments": {},
   "cell_type": "markdown",
   "metadata": {},
   "source": [
    "Install latest from the GitHub [repository][repo]:\n",
    "\n",
    "```sh\n",
    "$ pip install git+https://github.com/dsm-72/iza.git\n",
    "```\n",
    "\n",
    "or from [conda][conda]\n",
    "\n",
    "```sh\n",
    "$ conda install -c dsm-72 iza\n",
    "```\n",
    "\n",
    "or from [pypi][pypi]\n",
    "\n",
    "\n",
    "```sh\n",
    "$ pip install iza\n",
    "```\n",
    "\n",
    "\n",
    "[repo]: https://github.com/dsm-72/iza\n",
    "[docs]: https://dsm-72.github.io/iza/\n",
    "[pypi]: https://pypi.org/project/iza/\n",
    "[conda]: https://anaconda.org/dsm-72/iza"
   ]
  },
  {
   "attachments": {},
   "cell_type": "markdown",
   "metadata": {},
   "source": [
    "## Documentation"
   ]
  },
  {
   "attachments": {},
   "cell_type": "markdown",
   "metadata": {},
   "source": [
    "Documentation can be found hosted on GitHub [repository][repo] [pages][docs]. Additionally you can find package manager specific guidelines on [conda][conda] and [pypi][pypi] respectively.\n",
    "\n",
    "[repo]: https://github.com/dsm-72/iza\n",
    "[docs]: https://dsm-72.github.io/iza/\n",
    "[pypi]: https://pypi.org/project/iza/\n",
    "[conda]: https://anaconda.org/dsm-72/iza"
   ]
  }
 ],
 "metadata": {
  "kernelspec": {
   "display_name": "python3",
   "language": "python",
   "name": "python3"
  }
 },
 "nbformat": 4,
 "nbformat_minor": 4
}
