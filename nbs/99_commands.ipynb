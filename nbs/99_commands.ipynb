{
 "cells": [
  {
   "attachments": {},
   "cell_type": "markdown",
   "metadata": {},
   "source": [
    "# Commands\n",
    "\n",
    "> Command functions."
   ]
  },
  {
   "cell_type": "code",
   "execution_count": null,
   "metadata": {},
   "outputs": [],
   "source": [
    "#| default_exp commands"
   ]
  },
  {
   "cell_type": "code",
   "execution_count": null,
   "metadata": {},
   "outputs": [],
   "source": [
    "#| hide\n",
    "from nbdev.showdoc import *"
   ]
  },
  {
   "cell_type": "code",
   "execution_count": null,
   "metadata": {},
   "outputs": [],
   "source": [
    "#| export\n",
    "import os, typer\n",
    "from rich.pretty import pprint\n",
    "from typing import Optional, List, Union\n",
    "from typing_extensions import Annotated"
   ]
  },
  {
   "cell_type": "code",
   "execution_count": null,
   "metadata": {},
   "outputs": [],
   "source": [
    "#| export\n",
    "from iza.rich import console\n",
    "from iza.typer import app\n",
    "from iza.nbs import NotebookAggregator"
   ]
  },
  {
   "cell_type": "code",
   "execution_count": null,
   "metadata": {},
   "outputs": [],
   "source": [
    "#| export\n",
    "nbdev_agg_app = typer.Typer()\n",
    "\n",
    "@app.command('nbdev_agg')\n",
    "def aggregate_notebooks(\n",
    "    path: Annotated[str, typer.Option(\n",
    "        '--path', '-p', help='The path to the directory of notebooks to aggregate.',\n",
    "    )],\n",
    "    module: Annotated[Optional[str], typer.Option(\n",
    "        '--module', '-m', help='The name of the module to create.'\n",
    "    )] =  None,\n",
    "    output: Annotated[Optional[str], typer.Option(\n",
    "        '--output', '-o', help='The path to where the save the aggregated notebook file name excluded.',\n",
    "    )] =  None,    \n",
    "    ignore: Annotated[Optional[List[str]], typer.Option(\n",
    "        '--ignore', '-i', help='Name of files to ignore in the directory.',\n",
    "    )] =  [],\n",
    "    prefix: Annotated[Optional[bool], typer.Option(\n",
    "        '--prefix', '-f', help='Whether to prefix the module name to the notebook names.',\n",
    "    )] =  True, \n",
    "):\n",
    "    if ignore is None:\n",
    "        ignore = []\n",
    "\n",
    "    aggregator = NotebookAggregator(path, module=module, output=output, ignore=ignore, prefix=prefix)\n",
    "    aggregator.aggregate()\n",
    "    console.print(f\"Aggregated notebook saved to {aggregator.output}\", style=\"bold green\")\n",
    "\n",
    "\n",
    "@app.callback()\n",
    "def callback():\n",
    "    \"\"\"\n",
    "    Aggregate the notebooks in the directory.\n",
    "\n",
    "    Parameters\n",
    "    ----------\n",
    "    path : str\n",
    "        The path to the directory containing the notebooks.\n",
    "    module : Optional[str], optional\n",
    "        The name of the module, by default None\n",
    "    output : Optional[str], optional\n",
    "        The path to the output notebook, by default None\n",
    "    ignore : Optional[List[str]], optional\n",
    "        A list of notebooks to ignore, by default None\n",
    "    \"\"\"\n",
    "    pass\n"
   ]
  },
  {
   "cell_type": "code",
   "execution_count": null,
   "metadata": {},
   "outputs": [
    {
     "data": {
      "application/vnd.jupyter.widget-view+json": {
       "model_id": "33c0da3767934a55ad28571b8b501f65",
       "version_major": 2,
       "version_minor": 0
      },
      "text/plain": [
       "Aggregating notebooks:   0%|          | 0/4 [00:00<?, ?it/s]"
      ]
     },
     "metadata": {},
     "output_type": "display_data"
    },
    {
     "data": {
      "text/html": [
       "<pre style=\"white-space:pre;overflow-x:auto;line-height:normal;font-family:Menlo,'DejaVu Sans Mono',consolas,'Courier New',monospace\"><span style=\"color: #008000; text-decoration-color: #008000; font-weight: bold\">Aggregated notebook saved to </span><span style=\"color: #800080; text-decoration-color: #800080; font-weight: bold\">/Users/solst/Projects/iza/nbs/</span><span style=\"color: #ff00ff; text-decoration-color: #ff00ff; font-weight: bold\">02_utils.ipynb</span>\n",
       "</pre>\n"
      ],
      "text/plain": [
       "\u001b[1;32mAggregated notebook saved to \u001b[0m\u001b[1;35m/Users/solst/Projects/iza/nbs/\u001b[0m\u001b[1;95m02_utils.ipynb\u001b[0m\n"
      ]
     },
     "metadata": {},
     "output_type": "display_data"
    }
   ],
   "source": [
    "#| eval: False\n",
    "import os\n",
    "aggregate_notebooks(os.path.abspath(os.path.join('./_utils')), module='utils')"
   ]
  },
  {
   "cell_type": "code",
   "execution_count": null,
   "metadata": {},
   "outputs": [],
   "source": [
    "#| hide\n",
    "import nbdev; nbdev.nbdev_export()"
   ]
  }
 ],
 "metadata": {
  "kernelspec": {
   "display_name": "python3",
   "language": "python",
   "name": "python3"
  }
 },
 "nbformat": 4,
 "nbformat_minor": 2
}
