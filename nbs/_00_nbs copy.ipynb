{
 "cells": [
  {
   "attachments": {},
   "cell_type": "markdown",
   "metadata": {},
   "source": [
    "# Notebooks\n",
    "\n",
    "> implements the Jupyter Notebook Module Finder. See [Importing Jupyter Notebooks as Modules](https://jupyter-notebook.readthedocs.io/en/stable/examples/Notebook/Importing%20Notebooks.html) for more details."
   ]
  },
  {
   "cell_type": "code",
   "execution_count": null,
   "metadata": {},
   "outputs": [],
   "source": []
  },
  {
   "cell_type": "raw",
   "metadata": {},
   "source": [
    "%load_ext autoreload\n",
    "%autoreload 2"
   ]
  },
  {
   "cell_type": "code",
   "execution_count": null,
   "metadata": {},
   "outputs": [],
   "source": [
    "#| hide\n",
    "from nbdev.showdoc import *"
   ]
  },
  {
   "cell_type": "code",
   "execution_count": 1,
   "metadata": {},
   "outputs": [],
   "source": [
    "#| export\n",
    "import logging, inspect, itertools\n",
    "from pathlib import Path\n",
    "\n",
    "from dataclasses import dataclass, field, KW_ONLY\n",
    "from typing import Union, Optional, List\n",
    "\n",
    "from urllib3.util.url import parse_url\n",
    "from iza.utils import (\n",
    "    stream_file, Directory, urljoin,\n",
    "    is_tarball, is_gz, decompress_tarball, decompress_gunzip\n",
    ")"
   ]
  },
  {
   "cell_type": "code",
   "execution_count": 2,
   "metadata": {},
   "outputs": [],
   "source": [
    "from iza.utils import ArchiveDownloader, AmazonArchiveDownloader\n",
    "from iza.static import AMAZON_BUCKET_FLUENTBIO"
   ]
  },
  {
   "cell_type": "code",
   "execution_count": 3,
   "metadata": {},
   "outputs": [
    {
     "data": {
      "text/html": [
       "<pre style=\"white-space:pre;overflow-x:auto;line-height:normal;font-family:Menlo,'DejaVu Sans Mono',consolas,'Courier New',monospace\">Processing archive: <span style=\"color: #008080; text-decoration-color: #008080; font-weight: bold\">public-datasets/pbmc/</span>\n",
       "</pre>\n"
      ],
      "text/plain": [
       "Processing archive: \u001b[1;36mpublic-datasets/pbmc/\u001b[0m\n"
      ]
     },
     "metadata": {},
     "output_type": "display_data"
    },
    {
     "data": {
      "application/vnd.jupyter.widget-view+json": {
       "model_id": "58fd0fa5be794d3790d753b78c572e9a",
       "version_major": 2,
       "version_minor": 0
      },
      "text/plain": [
       "Output()"
      ]
     },
     "metadata": {},
     "output_type": "display_data"
    },
    {
     "data": {
      "text/html": [
       "<pre style=\"white-space:pre;overflow-x:auto;line-height:normal;font-family:Menlo,'DejaVu Sans Mono',consolas,'Courier New',monospace\"></pre>\n"
      ],
      "text/plain": []
     },
     "metadata": {},
     "output_type": "display_data"
    },
    {
     "data": {
      "text/html": [
       "<pre style=\"white-space:pre;overflow-x:auto;line-height:normal;font-family:Menlo,'DejaVu Sans Mono',consolas,'Courier New',monospace\">\n",
       "</pre>\n"
      ],
      "text/plain": [
       "\n"
      ]
     },
     "metadata": {},
     "output_type": "display_data"
    },
    {
     "data": {
      "text/html": [
       "<pre style=\"white-space:pre;overflow-x:auto;line-height:normal;font-family:Menlo,'DejaVu Sans Mono',consolas,'Courier New',monospace\"></pre>\n"
      ],
      "text/plain": []
     },
     "metadata": {},
     "output_type": "display_data"
    },
    {
     "data": {
      "text/html": [
       "<pre style=\"white-space:pre;overflow-x:auto;line-height:normal;font-family:Menlo,'DejaVu Sans Mono',consolas,'Courier New',monospace\">\n",
       "</pre>\n"
      ],
      "text/plain": [
       "\n"
      ]
     },
     "metadata": {},
     "output_type": "display_data"
    },
    {
     "data": {
      "text/html": [
       "<pre style=\"white-space:pre;overflow-x:auto;line-height:normal;font-family:Menlo,'DejaVu Sans Mono',consolas,'Courier New',monospace\"><a href=\"file:///Users/solst/Downloads/TEST\" target=\"_blank\">/Users/solst/Downloads/TEST</a>\n",
       "<span style=\"color: #0000ff; text-decoration-color: #0000ff\">┣━━ </span><a href=\"file:///Users/solst/Downloads/TEST/filtered_matrix\" target=\"_blank\">filtered_matrix</a><span style=\"color: #008080; text-decoration-color: #008080\"> (224 bytes)</span>\n",
       "<span style=\"color: #0000ff; text-decoration-color: #0000ff\">┃   ┣━━ </span><a href=\"file:///Users/solst/Downloads/TEST/filtered_matrix/sensitivity_1\" target=\"_blank\">sensitivity_1</a><span style=\"color: #008080; text-decoration-color: #008080\"> (160 bytes)</span>\n",
       "<span style=\"color: #0000ff; text-decoration-color: #0000ff\">┃   ┃   ┣━━ </span><a href=\"file:///Users/solst/Downloads/TEST/filtered_matrix/sensitivity_1/barcodes.tsv.gz\" target=\"_blank\">barcodes.tsv.gz</a><span style=\"color: #008080; text-decoration-color: #008080\"> (3.8 kB)</span>\n",
       "<span style=\"color: #0000ff; text-decoration-color: #0000ff\">┃   ┃   ┣━━ </span><a href=\"file:///Users/solst/Downloads/TEST/filtered_matrix/sensitivity_1/features.tsv.gz\" target=\"_blank\">features.tsv.gz</a><span style=\"color: #008080; text-decoration-color: #008080\"> (288.2 kB)</span>\n",
       "<span style=\"color: #0000ff; text-decoration-color: #0000ff\">┃   ┃   ┗━━ </span><a href=\"file:///Users/solst/Downloads/TEST/filtered_matrix/sensitivity_1/matrix.mtx.gz\" target=\"_blank\">matrix.mtx.gz</a><span style=\"color: #008080; text-decoration-color: #008080\"> (4.4 MB)</span>\n",
       "<span style=\"color: #0000ff; text-decoration-color: #0000ff\">┃   ┣━━ </span><a href=\"file:///Users/solst/Downloads/TEST/filtered_matrix/sensitivity_2\" target=\"_blank\">sensitivity_2</a><span style=\"color: #008080; text-decoration-color: #008080\"> (160 bytes)</span>\n",
       "<span style=\"color: #0000ff; text-decoration-color: #0000ff\">┃   ┃   ┣━━ </span><a href=\"file:///Users/solst/Downloads/TEST/filtered_matrix/sensitivity_2/barcodes.tsv.gz\" target=\"_blank\">barcodes.tsv.gz</a><span style=\"color: #008080; text-decoration-color: #008080\"> (24.4 kB)</span>\n",
       "<span style=\"color: #0000ff; text-decoration-color: #0000ff\">┃   ┃   ┣━━ </span><a href=\"file:///Users/solst/Downloads/TEST/filtered_matrix/sensitivity_2/features.tsv.gz\" target=\"_blank\">features.tsv.gz</a><span style=\"color: #008080; text-decoration-color: #008080\"> (288.2 kB)</span>\n",
       "<span style=\"color: #0000ff; text-decoration-color: #0000ff\">┃   ┃   ┗━━ </span><a href=\"file:///Users/solst/Downloads/TEST/filtered_matrix/sensitivity_2/matrix.mtx.gz\" target=\"_blank\">matrix.mtx.gz</a><span style=\"color: #008080; text-decoration-color: #008080\"> (21.8 MB)</span>\n",
       "<span style=\"color: #0000ff; text-decoration-color: #0000ff\">┃   ┣━━ </span><a href=\"file:///Users/solst/Downloads/TEST/filtered_matrix/sensitivity_3\" target=\"_blank\">sensitivity_3</a><span style=\"color: #008080; text-decoration-color: #008080\"> (160 bytes)</span>\n",
       "<span style=\"color: #0000ff; text-decoration-color: #0000ff\">┃   ┃   ┣━━ </span><a href=\"file:///Users/solst/Downloads/TEST/filtered_matrix/sensitivity_3/barcodes.tsv.gz\" target=\"_blank\">barcodes.tsv.gz</a><span style=\"color: #008080; text-decoration-color: #008080\"> (65.8 kB)</span>\n",
       "<span style=\"color: #0000ff; text-decoration-color: #0000ff\">┃   ┃   ┣━━ </span><a href=\"file:///Users/solst/Downloads/TEST/filtered_matrix/sensitivity_3/features.tsv.gz\" target=\"_blank\">features.tsv.gz</a><span style=\"color: #008080; text-decoration-color: #008080\"> (288.2 kB)</span>\n",
       "<span style=\"color: #0000ff; text-decoration-color: #0000ff\">┃   ┃   ┗━━ </span><a href=\"file:///Users/solst/Downloads/TEST/filtered_matrix/sensitivity_3/matrix.mtx.gz\" target=\"_blank\">matrix.mtx.gz</a><span style=\"color: #008080; text-decoration-color: #008080\"> (48.9 MB)</span>\n",
       "<span style=\"color: #0000ff; text-decoration-color: #0000ff\">┃   ┣━━ </span><a href=\"file:///Users/solst/Downloads/TEST/filtered_matrix/sensitivity_4\" target=\"_blank\">sensitivity_4</a><span style=\"color: #008080; text-decoration-color: #008080\"> (160 bytes)</span>\n",
       "<span style=\"color: #0000ff; text-decoration-color: #0000ff\">┃   ┃   ┣━━ </span><a href=\"file:///Users/solst/Downloads/TEST/filtered_matrix/sensitivity_4/barcodes.tsv.gz\" target=\"_blank\">barcodes.tsv.gz</a><span style=\"color: #008080; text-decoration-color: #008080\"> (97.1 kB)</span>\n",
       "<span style=\"color: #0000ff; text-decoration-color: #0000ff\">┃   ┃   ┣━━ </span><a href=\"file:///Users/solst/Downloads/TEST/filtered_matrix/sensitivity_4/features.tsv.gz\" target=\"_blank\">features.tsv.gz</a><span style=\"color: #008080; text-decoration-color: #008080\"> (288.2 kB)</span>\n",
       "<span style=\"color: #0000ff; text-decoration-color: #0000ff\">┃   ┃   ┗━━ </span><a href=\"file:///Users/solst/Downloads/TEST/filtered_matrix/sensitivity_4/matrix.mtx.gz\" target=\"_blank\">matrix.mtx.gz</a><span style=\"color: #008080; text-decoration-color: #008080\"> (65.4 MB)</span>\n",
       "<span style=\"color: #0000ff; text-decoration-color: #0000ff\">┃   ┗━━ </span><a href=\"file:///Users/solst/Downloads/TEST/filtered_matrix/sensitivity_5\" target=\"_blank\">sensitivity_5</a><span style=\"color: #008080; text-decoration-color: #008080\"> (160 bytes)</span>\n",
       "<span style=\"color: #0000ff; text-decoration-color: #0000ff\">┃       ┣━━ </span><a href=\"file:///Users/solst/Downloads/TEST/filtered_matrix/sensitivity_5/barcodes.tsv.gz\" target=\"_blank\">barcodes.tsv.gz</a><span style=\"color: #008080; text-decoration-color: #008080\"> (116.6 kB)</span>\n",
       "<span style=\"color: #0000ff; text-decoration-color: #0000ff\">┃       ┣━━ </span><a href=\"file:///Users/solst/Downloads/TEST/filtered_matrix/sensitivity_5/features.tsv.gz\" target=\"_blank\">features.tsv.gz</a><span style=\"color: #008080; text-decoration-color: #008080\"> (288.2 kB)</span>\n",
       "<span style=\"color: #0000ff; text-decoration-color: #0000ff\">┃       ┗━━ </span><a href=\"file:///Users/solst/Downloads/TEST/filtered_matrix/sensitivity_5/matrix.mtx.gz\" target=\"_blank\">matrix.mtx.gz</a><span style=\"color: #008080; text-decoration-color: #008080\"> (72.9 MB)</span>\n",
       "<span style=\"color: #0000ff; text-decoration-color: #0000ff\">┣━━ </span><a href=\"file:///Users/solst/Downloads/TEST/combined.html\" target=\"_blank\">combined.html</a><span style=\"color: #008080; text-decoration-color: #008080\"> (30.6 MB)</span>\n",
       "<span style=\"color: #0000ff; text-decoration-color: #0000ff\">┗━━ </span><a href=\"file:///Users/solst/Downloads/TEST/filtered_matrix.tar.gz\" target=\"_blank\">filtered_matrix.tar.gz</a><span style=\"color: #008080; text-decoration-color: #008080\"> (215.2 MB)</span>\n",
       "</pre>\n"
      ],
      "text/plain": [
       "\u001b]8;id=273256;file:///Users/solst/Downloads/TEST\u001b\\/Users/solst/Downloads/TEST\u001b]8;;\u001b\\\n",
       "\u001b[94m┣━━ \u001b[0m\u001b]8;id=968283;file:///Users/solst/Downloads/TEST/filtered_matrix\u001b\\filtered_matrix\u001b]8;;\u001b\\\u001b[36m (224 bytes)\u001b[0m\n",
       "\u001b[94m┃   \u001b[0m\u001b[94m┣━━ \u001b[0m\u001b]8;id=516437;file:///Users/solst/Downloads/TEST/filtered_matrix/sensitivity_1\u001b\\sensitivity_1\u001b]8;;\u001b\\\u001b[36m (160 bytes)\u001b[0m\n",
       "\u001b[94m┃   \u001b[0m\u001b[94m┃   \u001b[0m\u001b[94m┣━━ \u001b[0m\u001b]8;id=360999;file:///Users/solst/Downloads/TEST/filtered_matrix/sensitivity_1/barcodes.tsv.gz\u001b\\barcodes.tsv.gz\u001b]8;;\u001b\\\u001b[36m (3.8 kB)\u001b[0m\n",
       "\u001b[94m┃   \u001b[0m\u001b[94m┃   \u001b[0m\u001b[94m┣━━ \u001b[0m\u001b]8;id=982817;file:///Users/solst/Downloads/TEST/filtered_matrix/sensitivity_1/features.tsv.gz\u001b\\features.tsv.gz\u001b]8;;\u001b\\\u001b[36m (288.2 kB)\u001b[0m\n",
       "\u001b[94m┃   \u001b[0m\u001b[94m┃   \u001b[0m\u001b[94m┗━━ \u001b[0m\u001b]8;id=166422;file:///Users/solst/Downloads/TEST/filtered_matrix/sensitivity_1/matrix.mtx.gz\u001b\\matrix.mtx.gz\u001b]8;;\u001b\\\u001b[36m (4.4 MB)\u001b[0m\n",
       "\u001b[94m┃   \u001b[0m\u001b[94m┣━━ \u001b[0m\u001b]8;id=773225;file:///Users/solst/Downloads/TEST/filtered_matrix/sensitivity_2\u001b\\sensitivity_2\u001b]8;;\u001b\\\u001b[36m (160 bytes)\u001b[0m\n",
       "\u001b[94m┃   \u001b[0m\u001b[94m┃   \u001b[0m\u001b[94m┣━━ \u001b[0m\u001b]8;id=458227;file:///Users/solst/Downloads/TEST/filtered_matrix/sensitivity_2/barcodes.tsv.gz\u001b\\barcodes.tsv.gz\u001b]8;;\u001b\\\u001b[36m (24.4 kB)\u001b[0m\n",
       "\u001b[94m┃   \u001b[0m\u001b[94m┃   \u001b[0m\u001b[94m┣━━ \u001b[0m\u001b]8;id=878644;file:///Users/solst/Downloads/TEST/filtered_matrix/sensitivity_2/features.tsv.gz\u001b\\features.tsv.gz\u001b]8;;\u001b\\\u001b[36m (288.2 kB)\u001b[0m\n",
       "\u001b[94m┃   \u001b[0m\u001b[94m┃   \u001b[0m\u001b[94m┗━━ \u001b[0m\u001b]8;id=507929;file:///Users/solst/Downloads/TEST/filtered_matrix/sensitivity_2/matrix.mtx.gz\u001b\\matrix.mtx.gz\u001b]8;;\u001b\\\u001b[36m (21.8 MB)\u001b[0m\n",
       "\u001b[94m┃   \u001b[0m\u001b[94m┣━━ \u001b[0m\u001b]8;id=707774;file:///Users/solst/Downloads/TEST/filtered_matrix/sensitivity_3\u001b\\sensitivity_3\u001b]8;;\u001b\\\u001b[36m (160 bytes)\u001b[0m\n",
       "\u001b[94m┃   \u001b[0m\u001b[94m┃   \u001b[0m\u001b[94m┣━━ \u001b[0m\u001b]8;id=401636;file:///Users/solst/Downloads/TEST/filtered_matrix/sensitivity_3/barcodes.tsv.gz\u001b\\barcodes.tsv.gz\u001b]8;;\u001b\\\u001b[36m (65.8 kB)\u001b[0m\n",
       "\u001b[94m┃   \u001b[0m\u001b[94m┃   \u001b[0m\u001b[94m┣━━ \u001b[0m\u001b]8;id=730509;file:///Users/solst/Downloads/TEST/filtered_matrix/sensitivity_3/features.tsv.gz\u001b\\features.tsv.gz\u001b]8;;\u001b\\\u001b[36m (288.2 kB)\u001b[0m\n",
       "\u001b[94m┃   \u001b[0m\u001b[94m┃   \u001b[0m\u001b[94m┗━━ \u001b[0m\u001b]8;id=435490;file:///Users/solst/Downloads/TEST/filtered_matrix/sensitivity_3/matrix.mtx.gz\u001b\\matrix.mtx.gz\u001b]8;;\u001b\\\u001b[36m (48.9 MB)\u001b[0m\n",
       "\u001b[94m┃   \u001b[0m\u001b[94m┣━━ \u001b[0m\u001b]8;id=139307;file:///Users/solst/Downloads/TEST/filtered_matrix/sensitivity_4\u001b\\sensitivity_4\u001b]8;;\u001b\\\u001b[36m (160 bytes)\u001b[0m\n",
       "\u001b[94m┃   \u001b[0m\u001b[94m┃   \u001b[0m\u001b[94m┣━━ \u001b[0m\u001b]8;id=902198;file:///Users/solst/Downloads/TEST/filtered_matrix/sensitivity_4/barcodes.tsv.gz\u001b\\barcodes.tsv.gz\u001b]8;;\u001b\\\u001b[36m (97.1 kB)\u001b[0m\n",
       "\u001b[94m┃   \u001b[0m\u001b[94m┃   \u001b[0m\u001b[94m┣━━ \u001b[0m\u001b]8;id=760527;file:///Users/solst/Downloads/TEST/filtered_matrix/sensitivity_4/features.tsv.gz\u001b\\features.tsv.gz\u001b]8;;\u001b\\\u001b[36m (288.2 kB)\u001b[0m\n",
       "\u001b[94m┃   \u001b[0m\u001b[94m┃   \u001b[0m\u001b[94m┗━━ \u001b[0m\u001b]8;id=639770;file:///Users/solst/Downloads/TEST/filtered_matrix/sensitivity_4/matrix.mtx.gz\u001b\\matrix.mtx.gz\u001b]8;;\u001b\\\u001b[36m (65.4 MB)\u001b[0m\n",
       "\u001b[94m┃   \u001b[0m\u001b[94m┗━━ \u001b[0m\u001b]8;id=464190;file:///Users/solst/Downloads/TEST/filtered_matrix/sensitivity_5\u001b\\sensitivity_5\u001b]8;;\u001b\\\u001b[36m (160 bytes)\u001b[0m\n",
       "\u001b[94m┃   \u001b[0m\u001b[94m    \u001b[0m\u001b[94m┣━━ \u001b[0m\u001b]8;id=339069;file:///Users/solst/Downloads/TEST/filtered_matrix/sensitivity_5/barcodes.tsv.gz\u001b\\barcodes.tsv.gz\u001b]8;;\u001b\\\u001b[36m (116.6 kB)\u001b[0m\n",
       "\u001b[94m┃   \u001b[0m\u001b[94m    \u001b[0m\u001b[94m┣━━ \u001b[0m\u001b]8;id=664470;file:///Users/solst/Downloads/TEST/filtered_matrix/sensitivity_5/features.tsv.gz\u001b\\features.tsv.gz\u001b]8;;\u001b\\\u001b[36m (288.2 kB)\u001b[0m\n",
       "\u001b[94m┃   \u001b[0m\u001b[94m    \u001b[0m\u001b[94m┗━━ \u001b[0m\u001b]8;id=310455;file:///Users/solst/Downloads/TEST/filtered_matrix/sensitivity_5/matrix.mtx.gz\u001b\\matrix.mtx.gz\u001b]8;;\u001b\\\u001b[36m (72.9 MB)\u001b[0m\n",
       "\u001b[94m┣━━ \u001b[0m\u001b]8;id=936094;file:///Users/solst/Downloads/TEST/combined.html\u001b\\combined.html\u001b]8;;\u001b\\\u001b[36m (30.6 MB)\u001b[0m\n",
       "\u001b[94m┗━━ \u001b[0m\u001b]8;id=817307;file:///Users/solst/Downloads/TEST/filtered_matrix.tar.gz\u001b\\filtered_matrix.tar.gz\u001b]8;;\u001b\\\u001b[36m (215.2 MB)\u001b[0m\n"
      ]
     },
     "metadata": {},
     "output_type": "display_data"
    }
   ],
   "source": [
    "downloader = ArchiveDownloader(\n",
    "    rootdir = AMAZON_BUCKET_FLUENTBIO,\n",
    "    archive = 'public-datasets/pbmc/',\n",
    "    entries = ['combined.html', 'filtered_matrix.tar.gz'],\n",
    "    savedir = '~/Downloads/TEST',  extract=True, cleanup=True\n",
    ")\n",
    "downloader.execute()  # Will download and extract all the entries"
   ]
  },
  {
   "attachments": {},
   "cell_type": "markdown",
   "metadata": {},
   "source": [
    "### Typer"
   ]
  },
  {
   "cell_type": "code",
   "execution_count": null,
   "metadata": {},
   "outputs": [],
   "source": [
    "#| export\n",
    "#| eval: False\n",
    "# import typer\n",
    "# app = typer.Typer()\n",
    "# @app.command()\n",
    "# def download(rootdir: str, archive: str, entries: List[str], savedir: str, extract: bool = False, cleanup: bool = False):\n",
    "#     downloader = ArchiveDownloader(rootdir, archive, entries, savedir, extract, cleanup)\n",
    "#     downloader.execute()\n",
    "\n",
    "# @app.command()\n",
    "# def download_from_amazon(bucket: str, archive: str, entries: List[str], savedir: str, extract: bool = False, cleanup: bool = False, region: str = 'us-east-2'):\n",
    "#     downloader = AmazonArchiveDownloader(bucket, archive, entries, savedir, extract, cleanup, region)\n",
    "#     downloader.execute()\n"
   ]
  },
  {
   "cell_type": "code",
   "execution_count": null,
   "metadata": {},
   "outputs": [],
   "source": [
    "#| hide\n",
    "import nbdev; nbdev.nbdev_export()"
   ]
  }
 ],
 "metadata": {
  "kernelspec": {
   "display_name": "python3",
   "language": "python",
   "name": "python3"
  }
 },
 "nbformat": 4,
 "nbformat_minor": 2
}
